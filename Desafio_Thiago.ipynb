{
 "cells": [
  {
   "cell_type": "code",
   "execution_count": 1,
   "metadata": {},
   "outputs": [],
   "source": [
    "#importa bibliotecas\n",
    "import matplotlib.pyplot as plt\n",
    "import matplotlib as mpl\n",
    "%matplotlib inline\n",
    "import numpy as np\n",
    "import pandas as pd\n",
    "from scipy import stats\n",
    "import seaborn as sns\n",
    "\n",
    "import warnings\n",
    "warnings.filterwarnings(\"ignore\")"
   ]
  },
  {
   "cell_type": "code",
   "execution_count": 2,
   "metadata": {},
   "outputs": [],
   "source": [
    "#abre arquivo e importa em um dataframe\n",
    "\n",
    "data = pd.read_csv('Fonte IBGE/CAGEDEST_122018.txt', encoding = 'ISO-8859-1', decimal = ',', delimiter = ';')"
   ]
  },
  {
   "cell_type": "code",
   "execution_count": 3,
   "metadata": {},
   "outputs": [
    {
     "data": {
      "text/plain": [
       "Index(['Admitidos/Desligados', 'Competência Declarada', 'Município',\n",
       "       'Ano Declarado', 'CBO 2002 Ocupação', 'CNAE 1.0 Classe',\n",
       "       'CNAE 2.0 Classe', 'CNAE 2.0 Subclas', 'Faixa Empr Início Jan',\n",
       "       'Grau Instrução', 'Qtd Hora Contrat', 'IBGE Subsetor', 'Idade',\n",
       "       'Ind Aprendiz', 'Ind Portador Defic', 'Raça Cor', 'Salário Mensal',\n",
       "       'Saldo Mov', 'Sexo', 'Tempo Emprego', 'Tipo Estab', 'Tipo Defic',\n",
       "       'Tipo Mov Desagregado', 'UF', 'Bairros SP', 'Bairros Fortaleza',\n",
       "       'Bairros RJ', 'Distritos SP', 'Regiões Adm DF', 'Mesorregião',\n",
       "       'Microrregião', 'Região Adm RJ', 'Região Adm SP', 'Região Corede',\n",
       "       'Região Corede 04', 'Região Gov SP', 'Região Senac PR',\n",
       "       'Região Senai PR', 'Região Senai SP', 'Sub-Região Senai PR',\n",
       "       'Ind Trab Parcial', 'Ind Trab Intermitente'],\n",
       "      dtype='object')"
      ]
     },
     "execution_count": 3,
     "metadata": {},
     "output_type": "execute_result"
    }
   ],
   "source": [
    "#verifica quais são as colunas\n",
    "data.columns"
   ]
  },
  {
   "cell_type": "code",
   "execution_count": 4,
   "metadata": {},
   "outputs": [],
   "source": [
    "#renomeia o nome das colunas para facilitar a analize\n",
    "data.rename(columns={'Admitidos/Desligados': 'admitidos_desligados', \n",
    "                     'Competência Declarada': 'competencia_declarada', \n",
    "                     'Município': 'municipio',\n",
    "                     'Ano Declarado' : 'ano_declarado',\n",
    "                     'CBO 2002 Ocupação' : 'cbo_2002_ocupacao',\n",
    "                     'CNAE 1.0 Classe' : 'cnae_10_classe',\n",
    "                     'CNAE 2.0 Classe' : 'cnae_20_classe',\n",
    "                     'CNAE 2.0 Subclas' : 'cnae_20_subclas',\n",
    "                     'Faixa Empr Início Jan' : 'faixa_empr_ini_jan',\n",
    "                     'Grau Instrução' : 'grau_instrucao',\n",
    "                     'Qtd Hora Contrat' : 'qtd_hora_contrat',\n",
    "                     'IBGE Subsetor' : 'ibge_subsetor',\n",
    "                     'Idade' : 'idade',\n",
    "                     'Ind Aprendiz' : 'ind_aprendiz', \n",
    "                     'Ind Portador Defic' : 'ind_portador_defic',\n",
    "                     'Raça Cor' : 'raca_cor',\n",
    "                     'Salário Mensal':'salario_mensal',\n",
    "                     'Saldo Mov':'salario_mov',\n",
    "                     'Sexo':'sexo',\n",
    "                     'Tempo Emprego':'tempo_emprego',\n",
    "                     'Tipo Estab':'tipo_estab',\n",
    "                     'Tipo Defic':'tipo_defic',\n",
    "                     'Tipo Mov Desagregado':'tipo_mov_desagregado',\n",
    "                     'UF':'uf',\n",
    "                     'Bairros SP':'bairros_sp',\n",
    "                     'Bairros Fortaleza':'bairros_fortaleza',\n",
    "                     'Bairros RJ':'bairros_rj',\n",
    "                     'Distritos SP':'distritos_sp',\n",
    "                     'Regiões Adm DF':'regioes_adm_df',\n",
    "                     'Mesorregião':'mesoregiao',\n",
    "                     'Microrregião':'microregiao',\n",
    "                     'Região Adm RJ':'regiao_adm_rj',\n",
    "                     'Região Adm SP':'regiao_adm_sp',\n",
    "                     'Região Corede':'regiao_corede',\n",
    "                     'Região Corede 04':'regiao_corede_04',\n",
    "                     'Região Gov SP':'regiao_gov_sp',\n",
    "                     'Região Senac PR':'regiao_senac_pr',\n",
    "                     'Região Senai PR':'regiao_senai_pr',\n",
    "                     'Região Senai SP':'regiao_senai_sp',\n",
    "                     'Sub-Região Senai PR':'subregiao_senai_pr',\n",
    "                     'Ind Trab Parcial':'ind_trab_parcial',\n",
    "                     'Ind Trab Intermitente':'ind_trab_intermitente'}, inplace=True)"
   ]
  },
  {
   "cell_type": "code",
   "execution_count": 5,
   "metadata": {},
   "outputs": [
    {
     "data": {
      "text/plain": [
       "Index(['admitidos_desligados', 'competencia_declarada', 'municipio',\n",
       "       'ano_declarado', 'cbo_2002_ocupacao', 'cnae_10_classe',\n",
       "       'cnae_20_classe', 'cnae_20_subclas', 'faixa_empr_ini_jan',\n",
       "       'grau_instrucao', 'qtd_hora_contrat', 'ibge_subsetor', 'idade',\n",
       "       'ind_aprendiz', 'ind_portador_defic', 'raca_cor', 'salario_mensal',\n",
       "       'salario_mov', 'sexo', 'tempo_emprego', 'tipo_estab', 'tipo_defic',\n",
       "       'tipo_mov_desagregado', 'uf', 'bairros_sp', 'bairros_fortaleza',\n",
       "       'bairros_rj', 'distritos_sp', 'regioes_adm_df', 'mesoregiao',\n",
       "       'microregiao', 'regiao_adm_rj', 'regiao_adm_sp', 'regiao_corede',\n",
       "       'regiao_corede_04', 'regiao_gov_sp', 'regiao_senac_pr',\n",
       "       'regiao_senai_pr', 'regiao_senai_sp', 'subregiao_senai_pr',\n",
       "       'ind_trab_parcial', 'ind_trab_intermitente'],\n",
       "      dtype='object')"
      ]
     },
     "execution_count": 5,
     "metadata": {},
     "output_type": "execute_result"
    }
   ],
   "source": [
    "#verifica as colunas renomeadas\n",
    "data.columns"
   ]
  },
  {
   "cell_type": "code",
   "execution_count": 6,
   "metadata": {},
   "outputs": [
    {
     "name": "stdout",
     "output_type": "stream",
     "text": [
      "<class 'pandas.core.frame.DataFrame'>\n",
      "RangeIndex: 2256752 entries, 0 to 2256751\n",
      "Data columns (total 42 columns):\n",
      "admitidos_desligados     int64\n",
      "competencia_declarada    int64\n",
      "municipio                int64\n",
      "ano_declarado            int64\n",
      "cbo_2002_ocupacao        int64\n",
      "cnae_10_classe           int64\n",
      "cnae_20_classe           int64\n",
      "cnae_20_subclas          int64\n",
      "faixa_empr_ini_jan       int64\n",
      "grau_instrucao           int64\n",
      "qtd_hora_contrat         int64\n",
      "ibge_subsetor            int64\n",
      "idade                    int64\n",
      "ind_aprendiz             int64\n",
      "ind_portador_defic       int64\n",
      "raca_cor                 int64\n",
      "salario_mensal           float64\n",
      "salario_mov              int64\n",
      "sexo                     int64\n",
      "tempo_emprego            float64\n",
      "tipo_estab               int64\n",
      "tipo_defic               int64\n",
      "tipo_mov_desagregado     int64\n",
      "uf                       int64\n",
      "bairros_sp               object\n",
      "bairros_fortaleza        object\n",
      "bairros_rj               object\n",
      "distritos_sp             object\n",
      "regioes_adm_df           int64\n",
      "mesoregiao               int64\n",
      "microregiao              int64\n",
      "regiao_adm_rj            object\n",
      "regiao_adm_sp            object\n",
      "regiao_corede            object\n",
      "regiao_corede_04         object\n",
      "regiao_gov_sp            object\n",
      "regiao_senac_pr          object\n",
      "regiao_senai_pr          object\n",
      "regiao_senai_sp          object\n",
      "subregiao_senai_pr       object\n",
      "ind_trab_parcial         int64\n",
      "ind_trab_intermitente    int64\n",
      "dtypes: float64(2), int64(27), object(13)\n",
      "memory usage: 723.1+ MB\n"
     ]
    }
   ],
   "source": [
    "#verifica informações basicas do dataframe\n",
    "data.info()"
   ]
  },
  {
   "cell_type": "code",
   "execution_count": 7,
   "metadata": {},
   "outputs": [
    {
     "data": {
      "text/plain": [
       "(2256752, 42)"
      ]
     },
     "execution_count": 7,
     "metadata": {},
     "output_type": "execute_result"
    }
   ],
   "source": [
    "data.shape"
   ]
  },
  {
   "cell_type": "code",
   "execution_count": 8,
   "metadata": {},
   "outputs": [
    {
     "data": {
      "text/html": [
       "<div>\n",
       "<style scoped>\n",
       "    .dataframe tbody tr th:only-of-type {\n",
       "        vertical-align: middle;\n",
       "    }\n",
       "\n",
       "    .dataframe tbody tr th {\n",
       "        vertical-align: top;\n",
       "    }\n",
       "\n",
       "    .dataframe thead th {\n",
       "        text-align: right;\n",
       "    }\n",
       "</style>\n",
       "<table border=\"1\" class=\"dataframe\">\n",
       "  <thead>\n",
       "    <tr style=\"text-align: right;\">\n",
       "      <th></th>\n",
       "      <th>admitidos_desligados</th>\n",
       "      <th>competencia_declarada</th>\n",
       "      <th>municipio</th>\n",
       "      <th>ano_declarado</th>\n",
       "      <th>cbo_2002_ocupacao</th>\n",
       "      <th>cnae_10_classe</th>\n",
       "      <th>cnae_20_classe</th>\n",
       "      <th>cnae_20_subclas</th>\n",
       "      <th>faixa_empr_ini_jan</th>\n",
       "      <th>grau_instrucao</th>\n",
       "      <th>...</th>\n",
       "      <th>tempo_emprego</th>\n",
       "      <th>tipo_estab</th>\n",
       "      <th>tipo_defic</th>\n",
       "      <th>tipo_mov_desagregado</th>\n",
       "      <th>uf</th>\n",
       "      <th>regioes_adm_df</th>\n",
       "      <th>mesoregiao</th>\n",
       "      <th>microregiao</th>\n",
       "      <th>ind_trab_parcial</th>\n",
       "      <th>ind_trab_intermitente</th>\n",
       "    </tr>\n",
       "  </thead>\n",
       "  <tbody>\n",
       "    <tr>\n",
       "      <th>count</th>\n",
       "      <td>2.256752e+06</td>\n",
       "      <td>2256752.0</td>\n",
       "      <td>2.256752e+06</td>\n",
       "      <td>2256752.0</td>\n",
       "      <td>2.256752e+06</td>\n",
       "      <td>2.256752e+06</td>\n",
       "      <td>2.256752e+06</td>\n",
       "      <td>2.256752e+06</td>\n",
       "      <td>2.256752e+06</td>\n",
       "      <td>2.256752e+06</td>\n",
       "      <td>...</td>\n",
       "      <td>2.256752e+06</td>\n",
       "      <td>2.256752e+06</td>\n",
       "      <td>2.256752e+06</td>\n",
       "      <td>2.256752e+06</td>\n",
       "      <td>2.256752e+06</td>\n",
       "      <td>2.256752e+06</td>\n",
       "      <td>2.256752e+06</td>\n",
       "      <td>2.256752e+06</td>\n",
       "      <td>2.256752e+06</td>\n",
       "      <td>2.256752e+06</td>\n",
       "    </tr>\n",
       "    <tr>\n",
       "      <th>mean</th>\n",
       "      <td>1.574103e+00</td>\n",
       "      <td>201812.0</td>\n",
       "      <td>3.553863e+05</td>\n",
       "      <td>2018.0</td>\n",
       "      <td>5.368213e+05</td>\n",
       "      <td>5.304958e+04</td>\n",
       "      <td>5.126839e+04</td>\n",
       "      <td>5.126847e+06</td>\n",
       "      <td>4.303066e+00</td>\n",
       "      <td>6.595547e+00</td>\n",
       "      <td>...</td>\n",
       "      <td>1.318030e+01</td>\n",
       "      <td>1.084850e+00</td>\n",
       "      <td>1.553693e-02</td>\n",
       "      <td>6.216255e+00</td>\n",
       "      <td>3.534381e+01</td>\n",
       "      <td>7.773592e-01</td>\n",
       "      <td>3.540988e+03</td>\n",
       "      <td>3.537022e+04</td>\n",
       "      <td>4.852106e-03</td>\n",
       "      <td>5.339089e-03</td>\n",
       "    </tr>\n",
       "    <tr>\n",
       "      <th>std</th>\n",
       "      <td>4.944784e-01</td>\n",
       "      <td>0.0</td>\n",
       "      <td>8.300073e+04</td>\n",
       "      <td>0.0</td>\n",
       "      <td>1.784826e+05</td>\n",
       "      <td>2.269392e+04</td>\n",
       "      <td>2.468035e+04</td>\n",
       "      <td>2.468034e+06</td>\n",
       "      <td>2.646710e+00</td>\n",
       "      <td>1.548538e+00</td>\n",
       "      <td>...</td>\n",
       "      <td>3.413455e+01</td>\n",
       "      <td>4.031142e-01</td>\n",
       "      <td>2.154446e-01</td>\n",
       "      <td>9.922202e+00</td>\n",
       "      <td>8.311311e+00</td>\n",
       "      <td>8.125151e+01</td>\n",
       "      <td>8.309257e+02</td>\n",
       "      <td>8.310356e+03</td>\n",
       "      <td>6.948788e-02</td>\n",
       "      <td>7.287376e-02</td>\n",
       "    </tr>\n",
       "    <tr>\n",
       "      <th>min</th>\n",
       "      <td>1.000000e+00</td>\n",
       "      <td>201812.0</td>\n",
       "      <td>1.100010e+05</td>\n",
       "      <td>2018.0</td>\n",
       "      <td>3.011000e+04</td>\n",
       "      <td>1.112000e+03</td>\n",
       "      <td>1.113000e+03</td>\n",
       "      <td>1.113010e+05</td>\n",
       "      <td>1.000000e+00</td>\n",
       "      <td>1.000000e+00</td>\n",
       "      <td>...</td>\n",
       "      <td>0.000000e+00</td>\n",
       "      <td>1.000000e+00</td>\n",
       "      <td>0.000000e+00</td>\n",
       "      <td>1.000000e+00</td>\n",
       "      <td>1.100000e+01</td>\n",
       "      <td>0.000000e+00</td>\n",
       "      <td>1.101000e+03</td>\n",
       "      <td>1.100100e+04</td>\n",
       "      <td>0.000000e+00</td>\n",
       "      <td>0.000000e+00</td>\n",
       "    </tr>\n",
       "    <tr>\n",
       "      <th>25%</th>\n",
       "      <td>1.000000e+00</td>\n",
       "      <td>201812.0</td>\n",
       "      <td>3.147000e+05</td>\n",
       "      <td>2018.0</td>\n",
       "      <td>4.141050e+05</td>\n",
       "      <td>4.525000e+04</td>\n",
       "      <td>4.213800e+04</td>\n",
       "      <td>4.213800e+06</td>\n",
       "      <td>2.000000e+00</td>\n",
       "      <td>6.000000e+00</td>\n",
       "      <td>...</td>\n",
       "      <td>0.000000e+00</td>\n",
       "      <td>1.000000e+00</td>\n",
       "      <td>0.000000e+00</td>\n",
       "      <td>2.000000e+00</td>\n",
       "      <td>3.100000e+01</td>\n",
       "      <td>0.000000e+00</td>\n",
       "      <td>3.108000e+03</td>\n",
       "      <td>3.103900e+04</td>\n",
       "      <td>0.000000e+00</td>\n",
       "      <td>0.000000e+00</td>\n",
       "    </tr>\n",
       "    <tr>\n",
       "      <th>50%</th>\n",
       "      <td>2.000000e+00</td>\n",
       "      <td>201812.0</td>\n",
       "      <td>3.531500e+05</td>\n",
       "      <td>2018.0</td>\n",
       "      <td>5.174100e+05</td>\n",
       "      <td>5.241800e+04</td>\n",
       "      <td>4.773300e+04</td>\n",
       "      <td>4.773300e+06</td>\n",
       "      <td>4.000000e+00</td>\n",
       "      <td>7.000000e+00</td>\n",
       "      <td>...</td>\n",
       "      <td>2.000000e+00</td>\n",
       "      <td>1.000000e+00</td>\n",
       "      <td>0.000000e+00</td>\n",
       "      <td>4.000000e+00</td>\n",
       "      <td>3.500000e+01</td>\n",
       "      <td>0.000000e+00</td>\n",
       "      <td>3.512000e+03</td>\n",
       "      <td>3.504600e+04</td>\n",
       "      <td>0.000000e+00</td>\n",
       "      <td>0.000000e+00</td>\n",
       "    </tr>\n",
       "    <tr>\n",
       "      <th>75%</th>\n",
       "      <td>2.000000e+00</td>\n",
       "      <td>201812.0</td>\n",
       "      <td>4.117900e+05</td>\n",
       "      <td>2018.0</td>\n",
       "      <td>7.152100e+05</td>\n",
       "      <td>7.412800e+04</td>\n",
       "      <td>7.490100e+04</td>\n",
       "      <td>7.490102e+06</td>\n",
       "      <td>6.000000e+00</td>\n",
       "      <td>7.000000e+00</td>\n",
       "      <td>...</td>\n",
       "      <td>1.100000e+01</td>\n",
       "      <td>1.000000e+00</td>\n",
       "      <td>0.000000e+00</td>\n",
       "      <td>6.000000e+00</td>\n",
       "      <td>4.100000e+01</td>\n",
       "      <td>0.000000e+00</td>\n",
       "      <td>4.110000e+03</td>\n",
       "      <td>4.103700e+04</td>\n",
       "      <td>0.000000e+00</td>\n",
       "      <td>0.000000e+00</td>\n",
       "    </tr>\n",
       "    <tr>\n",
       "      <th>max</th>\n",
       "      <td>2.000000e+00</td>\n",
       "      <td>201812.0</td>\n",
       "      <td>5.300100e+05</td>\n",
       "      <td>2018.0</td>\n",
       "      <td>9.922250e+05</td>\n",
       "      <td>9.900700e+04</td>\n",
       "      <td>9.900800e+04</td>\n",
       "      <td>9.900800e+06</td>\n",
       "      <td>9.000000e+00</td>\n",
       "      <td>9.000000e+00</td>\n",
       "      <td>...</td>\n",
       "      <td>5.990000e+02</td>\n",
       "      <td>3.000000e+00</td>\n",
       "      <td>6.000000e+00</td>\n",
       "      <td>9.000000e+01</td>\n",
       "      <td>5.300000e+01</td>\n",
       "      <td>9.999000e+03</td>\n",
       "      <td>5.301000e+03</td>\n",
       "      <td>5.300100e+04</td>\n",
       "      <td>1.000000e+00</td>\n",
       "      <td>1.000000e+00</td>\n",
       "    </tr>\n",
       "  </tbody>\n",
       "</table>\n",
       "<p>8 rows × 29 columns</p>\n",
       "</div>"
      ],
      "text/plain": [
       "       admitidos_desligados  competencia_declarada     municipio  \\\n",
       "count          2.256752e+06              2256752.0  2.256752e+06   \n",
       "mean           1.574103e+00               201812.0  3.553863e+05   \n",
       "std            4.944784e-01                    0.0  8.300073e+04   \n",
       "min            1.000000e+00               201812.0  1.100010e+05   \n",
       "25%            1.000000e+00               201812.0  3.147000e+05   \n",
       "50%            2.000000e+00               201812.0  3.531500e+05   \n",
       "75%            2.000000e+00               201812.0  4.117900e+05   \n",
       "max            2.000000e+00               201812.0  5.300100e+05   \n",
       "\n",
       "       ano_declarado  cbo_2002_ocupacao  cnae_10_classe  cnae_20_classe  \\\n",
       "count      2256752.0       2.256752e+06    2.256752e+06    2.256752e+06   \n",
       "mean          2018.0       5.368213e+05    5.304958e+04    5.126839e+04   \n",
       "std              0.0       1.784826e+05    2.269392e+04    2.468035e+04   \n",
       "min           2018.0       3.011000e+04    1.112000e+03    1.113000e+03   \n",
       "25%           2018.0       4.141050e+05    4.525000e+04    4.213800e+04   \n",
       "50%           2018.0       5.174100e+05    5.241800e+04    4.773300e+04   \n",
       "75%           2018.0       7.152100e+05    7.412800e+04    7.490100e+04   \n",
       "max           2018.0       9.922250e+05    9.900700e+04    9.900800e+04   \n",
       "\n",
       "       cnae_20_subclas  faixa_empr_ini_jan  grau_instrucao  ...  \\\n",
       "count     2.256752e+06        2.256752e+06    2.256752e+06  ...   \n",
       "mean      5.126847e+06        4.303066e+00    6.595547e+00  ...   \n",
       "std       2.468034e+06        2.646710e+00    1.548538e+00  ...   \n",
       "min       1.113010e+05        1.000000e+00    1.000000e+00  ...   \n",
       "25%       4.213800e+06        2.000000e+00    6.000000e+00  ...   \n",
       "50%       4.773300e+06        4.000000e+00    7.000000e+00  ...   \n",
       "75%       7.490102e+06        6.000000e+00    7.000000e+00  ...   \n",
       "max       9.900800e+06        9.000000e+00    9.000000e+00  ...   \n",
       "\n",
       "       tempo_emprego    tipo_estab    tipo_defic  tipo_mov_desagregado  \\\n",
       "count   2.256752e+06  2.256752e+06  2.256752e+06          2.256752e+06   \n",
       "mean    1.318030e+01  1.084850e+00  1.553693e-02          6.216255e+00   \n",
       "std     3.413455e+01  4.031142e-01  2.154446e-01          9.922202e+00   \n",
       "min     0.000000e+00  1.000000e+00  0.000000e+00          1.000000e+00   \n",
       "25%     0.000000e+00  1.000000e+00  0.000000e+00          2.000000e+00   \n",
       "50%     2.000000e+00  1.000000e+00  0.000000e+00          4.000000e+00   \n",
       "75%     1.100000e+01  1.000000e+00  0.000000e+00          6.000000e+00   \n",
       "max     5.990000e+02  3.000000e+00  6.000000e+00          9.000000e+01   \n",
       "\n",
       "                 uf  regioes_adm_df    mesoregiao   microregiao  \\\n",
       "count  2.256752e+06    2.256752e+06  2.256752e+06  2.256752e+06   \n",
       "mean   3.534381e+01    7.773592e-01  3.540988e+03  3.537022e+04   \n",
       "std    8.311311e+00    8.125151e+01  8.309257e+02  8.310356e+03   \n",
       "min    1.100000e+01    0.000000e+00  1.101000e+03  1.100100e+04   \n",
       "25%    3.100000e+01    0.000000e+00  3.108000e+03  3.103900e+04   \n",
       "50%    3.500000e+01    0.000000e+00  3.512000e+03  3.504600e+04   \n",
       "75%    4.100000e+01    0.000000e+00  4.110000e+03  4.103700e+04   \n",
       "max    5.300000e+01    9.999000e+03  5.301000e+03  5.300100e+04   \n",
       "\n",
       "       ind_trab_parcial  ind_trab_intermitente  \n",
       "count      2.256752e+06           2.256752e+06  \n",
       "mean       4.852106e-03           5.339089e-03  \n",
       "std        6.948788e-02           7.287376e-02  \n",
       "min        0.000000e+00           0.000000e+00  \n",
       "25%        0.000000e+00           0.000000e+00  \n",
       "50%        0.000000e+00           0.000000e+00  \n",
       "75%        0.000000e+00           0.000000e+00  \n",
       "max        1.000000e+00           1.000000e+00  \n",
       "\n",
       "[8 rows x 29 columns]"
      ]
     },
     "execution_count": 8,
     "metadata": {},
     "output_type": "execute_result"
    }
   ],
   "source": [
    "data.describe()"
   ]
  },
  {
   "cell_type": "code",
   "execution_count": 23,
   "metadata": {},
   "outputs": [
    {
     "data": {
      "text/plain": [
       "35    688857\n",
       "31    246945\n",
       "33    188489\n",
       "41    170120\n",
       "43    157854\n",
       "42    146020\n",
       "29     90707\n",
       "52     84286\n",
       "26     60574\n",
       "51     55122\n",
       "23     52509\n",
       "32     47781\n",
       "53     41253\n",
       "15     39004\n",
       "50     38272\n",
       "24     21884\n",
       "21     18458\n",
       "13     18290\n",
       "25     17646\n",
       "27     14584\n",
       "22     13289\n",
       "11     13213\n",
       "28     11753\n",
       "17      9888\n",
       "16      3560\n",
       "12      3435\n",
       "14      2959\n",
       "Name: uf, dtype: int64"
      ]
     },
     "execution_count": 23,
     "metadata": {},
     "output_type": "execute_result"
    }
   ],
   "source": [
    "data.uf.value_counts()"
   ]
  },
  {
   "cell_type": "code",
   "execution_count": 29,
   "metadata": {},
   "outputs": [
    {
     "data": {
      "text/html": [
       "<div>\n",
       "<style scoped>\n",
       "    .dataframe tbody tr th:only-of-type {\n",
       "        vertical-align: middle;\n",
       "    }\n",
       "\n",
       "    .dataframe tbody tr th {\n",
       "        vertical-align: top;\n",
       "    }\n",
       "\n",
       "    .dataframe thead th {\n",
       "        text-align: right;\n",
       "    }\n",
       "</style>\n",
       "<table border=\"1\" class=\"dataframe\">\n",
       "  <thead>\n",
       "    <tr style=\"text-align: right;\">\n",
       "      <th></th>\n",
       "      <th>admitidos_desligados</th>\n",
       "      <th>competencia_declarada</th>\n",
       "      <th>municipio</th>\n",
       "      <th>ano_declarado</th>\n",
       "      <th>cbo_2002_ocupacao</th>\n",
       "      <th>cnae_10_classe</th>\n",
       "      <th>cnae_20_classe</th>\n",
       "      <th>cnae_20_subclas</th>\n",
       "      <th>faixa_empr_ini_jan</th>\n",
       "      <th>grau_instrucao</th>\n",
       "      <th>...</th>\n",
       "      <th>regiao_senac_pr</th>\n",
       "      <th>regiao_senai_pr</th>\n",
       "      <th>regiao_senai_sp</th>\n",
       "      <th>subregiao_senai_pr</th>\n",
       "      <th>ind_trab_parcial</th>\n",
       "      <th>ind_trab_intermitente</th>\n",
       "      <th>salario_log</th>\n",
       "      <th>salario_padrao</th>\n",
       "      <th>estado</th>\n",
       "      <th>sigla</th>\n",
       "    </tr>\n",
       "  </thead>\n",
       "  <tbody>\n",
       "    <tr>\n",
       "      <th>0</th>\n",
       "      <td>1</td>\n",
       "      <td>201812</td>\n",
       "      <td>500215</td>\n",
       "      <td>2018</td>\n",
       "      <td>711210</td>\n",
       "      <td>1619</td>\n",
       "      <td>1610</td>\n",
       "      <td>161003</td>\n",
       "      <td>1</td>\n",
       "      <td>6</td>\n",
       "      <td>...</td>\n",
       "      <td>99</td>\n",
       "      <td>{ñ</td>\n",
       "      <td>999</td>\n",
       "      <td>99</td>\n",
       "      <td>0</td>\n",
       "      <td>0</td>\n",
       "      <td>6.861711</td>\n",
       "      <td>-0.338373</td>\n",
       "      <td>Mato Grosso do Sul</td>\n",
       "      <td>MS</td>\n",
       "    </tr>\n",
       "    <tr>\n",
       "      <th>1</th>\n",
       "      <td>1</td>\n",
       "      <td>201812</td>\n",
       "      <td>500710</td>\n",
       "      <td>2018</td>\n",
       "      <td>321210</td>\n",
       "      <td>2119</td>\n",
       "      <td>2101</td>\n",
       "      <td>210101</td>\n",
       "      <td>1</td>\n",
       "      <td>8</td>\n",
       "      <td>...</td>\n",
       "      <td>99</td>\n",
       "      <td>{ñ</td>\n",
       "      <td>999</td>\n",
       "      <td>99</td>\n",
       "      <td>0</td>\n",
       "      <td>0</td>\n",
       "      <td>7.824446</td>\n",
       "      <td>0.751796</td>\n",
       "      <td>Mato Grosso do Sul</td>\n",
       "      <td>MS</td>\n",
       "    </tr>\n",
       "    <tr>\n",
       "      <th>2</th>\n",
       "      <td>1</td>\n",
       "      <td>201812</td>\n",
       "      <td>500460</td>\n",
       "      <td>2018</td>\n",
       "      <td>623110</td>\n",
       "      <td>1619</td>\n",
       "      <td>1610</td>\n",
       "      <td>161003</td>\n",
       "      <td>1</td>\n",
       "      <td>2</td>\n",
       "      <td>...</td>\n",
       "      <td>99</td>\n",
       "      <td>{ñ</td>\n",
       "      <td>999</td>\n",
       "      <td>99</td>\n",
       "      <td>0</td>\n",
       "      <td>1</td>\n",
       "      <td>0.000000</td>\n",
       "      <td>-8.108356</td>\n",
       "      <td>Mato Grosso do Sul</td>\n",
       "      <td>MS</td>\n",
       "    </tr>\n",
       "    <tr>\n",
       "      <th>3</th>\n",
       "      <td>1</td>\n",
       "      <td>201812</td>\n",
       "      <td>500460</td>\n",
       "      <td>2018</td>\n",
       "      <td>623110</td>\n",
       "      <td>1619</td>\n",
       "      <td>1610</td>\n",
       "      <td>161003</td>\n",
       "      <td>1</td>\n",
       "      <td>2</td>\n",
       "      <td>...</td>\n",
       "      <td>99</td>\n",
       "      <td>{ñ</td>\n",
       "      <td>999</td>\n",
       "      <td>99</td>\n",
       "      <td>0</td>\n",
       "      <td>1</td>\n",
       "      <td>0.000000</td>\n",
       "      <td>-8.108356</td>\n",
       "      <td>Mato Grosso do Sul</td>\n",
       "      <td>MS</td>\n",
       "    </tr>\n",
       "    <tr>\n",
       "      <th>4</th>\n",
       "      <td>1</td>\n",
       "      <td>201812</td>\n",
       "      <td>500460</td>\n",
       "      <td>2018</td>\n",
       "      <td>623110</td>\n",
       "      <td>1619</td>\n",
       "      <td>1610</td>\n",
       "      <td>161003</td>\n",
       "      <td>1</td>\n",
       "      <td>2</td>\n",
       "      <td>...</td>\n",
       "      <td>99</td>\n",
       "      <td>{ñ</td>\n",
       "      <td>999</td>\n",
       "      <td>99</td>\n",
       "      <td>0</td>\n",
       "      <td>1</td>\n",
       "      <td>0.000000</td>\n",
       "      <td>-8.108356</td>\n",
       "      <td>Mato Grosso do Sul</td>\n",
       "      <td>MS</td>\n",
       "    </tr>\n",
       "  </tbody>\n",
       "</table>\n",
       "<p>5 rows × 46 columns</p>\n",
       "</div>"
      ],
      "text/plain": [
       "   admitidos_desligados  competencia_declarada  municipio  ano_declarado  \\\n",
       "0                     1                 201812     500215           2018   \n",
       "1                     1                 201812     500710           2018   \n",
       "2                     1                 201812     500460           2018   \n",
       "3                     1                 201812     500460           2018   \n",
       "4                     1                 201812     500460           2018   \n",
       "\n",
       "   cbo_2002_ocupacao  cnae_10_classe  cnae_20_classe  cnae_20_subclas  \\\n",
       "0             711210            1619            1610           161003   \n",
       "1             321210            2119            2101           210101   \n",
       "2             623110            1619            1610           161003   \n",
       "3             623110            1619            1610           161003   \n",
       "4             623110            1619            1610           161003   \n",
       "\n",
       "   faixa_empr_ini_jan  grau_instrucao  ...  regiao_senac_pr  regiao_senai_pr  \\\n",
       "0                   1               6  ...               99               {ñ   \n",
       "1                   1               8  ...               99               {ñ   \n",
       "2                   1               2  ...               99               {ñ   \n",
       "3                   1               2  ...               99               {ñ   \n",
       "4                   1               2  ...               99               {ñ   \n",
       "\n",
       "   regiao_senai_sp  subregiao_senai_pr  ind_trab_parcial  \\\n",
       "0              999                  99                 0   \n",
       "1              999                  99                 0   \n",
       "2              999                  99                 0   \n",
       "3              999                  99                 0   \n",
       "4              999                  99                 0   \n",
       "\n",
       "   ind_trab_intermitente  salario_log  salario_padrao              estado  \\\n",
       "0                      0     6.861711       -0.338373  Mato Grosso do Sul   \n",
       "1                      0     7.824446        0.751796  Mato Grosso do Sul   \n",
       "2                      1     0.000000       -8.108356  Mato Grosso do Sul   \n",
       "3                      1     0.000000       -8.108356  Mato Grosso do Sul   \n",
       "4                      1     0.000000       -8.108356  Mato Grosso do Sul   \n",
       "\n",
       "   sigla  \n",
       "0     MS  \n",
       "1     MS  \n",
       "2     MS  \n",
       "3     MS  \n",
       "4     MS  \n",
       "\n",
       "[5 rows x 46 columns]"
      ]
     },
     "execution_count": 29,
     "metadata": {},
     "output_type": "execute_result"
    }
   ],
   "source": [
    "#TEMOS UM PROBLEMA, OS ESTADOS ESTÃO EM CÓDIGO\n",
    "#VOU CONVERTER PARA UF UTILIZANDO A BASE DE CÓDIGOS: https://www.oobj.com.br/bc/article/quais-os-c%C3%B3digos-de-cada-uf-no-brasil-465.html\n",
    "#IMPORTA O ARQUIVO COM AS SIGLAS DOS ESTADOS\n",
    "siglas = pd.read_csv('Fonte IBGE/siglas.csv', encoding = 'UTF-8', delimiter = ';')\n",
    "data = pd.merge(data, siglas, on ='uf', how='outer')\n",
    "data.head()"
   ]
  },
  {
   "cell_type": "code",
   "execution_count": 31,
   "metadata": {},
   "outputs": [
    {
     "data": {
      "text/plain": [
       "(2256752, 46)"
      ]
     },
     "execution_count": 31,
     "metadata": {},
     "output_type": "execute_result"
    }
   ],
   "source": [
    "#verifica se continua com a mesma qtd de linhas\n",
    "data.shape"
   ]
  },
  {
   "cell_type": "code",
   "execution_count": null,
   "metadata": {
    "jupyter": {
     "source_hidden": true
    }
   },
   "outputs": [],
   "source": []
  },
  {
   "cell_type": "code",
   "execution_count": 9,
   "metadata": {},
   "outputs": [
    {
     "data": {
      "text/plain": [
       "<matplotlib.axes._subplots.AxesSubplot at 0x1ad1843feb8>"
      ]
     },
     "execution_count": 9,
     "metadata": {},
     "output_type": "execute_result"
    },
    {
     "data": {
      "image/png": "[encoded data removed]",
      "text/plain": [
       "<Figure size 432x288 with 1 Axes>"
      ]
     },
     "metadata": {
      "needs_background": "light"
     },
     "output_type": "display_data"
    }
   ],
   "source": [
    "#plota o histograma para verificar a distribuicao atual\n",
    "data.salario_mensal.plot.hist(bins=50, range=(0,5000))"
   ]
  },
  {
   "cell_type": "code",
   "execution_count": 10,
   "metadata": {},
   "outputs": [
    {
     "data": {
      "text/plain": [
       "(0.2637892961502075, 0.0)"
      ]
     },
     "execution_count": 10,
     "metadata": {},
     "output_type": "execute_result"
    }
   ],
   "source": [
    "#verifica se é uma distribuição normal com a função scipy.stats.shapiro\n",
    "stats.shapiro(data.salario_mensal)"
   ]
  },
  {
   "cell_type": "code",
   "execution_count": 11,
   "metadata": {},
   "outputs": [
    {
     "data": {
      "image/png": "[encoded data removed]",
      "text/plain": [
       "<Figure size 432x288 with 1 Axes>"
      ]
     },
     "metadata": {
      "needs_background": "light"
     },
     "output_type": "display_data"
    },
    {
     "data": {
      "text/plain": [
       "1039127    0.0\n",
       "622432     0.0\n",
       "622462     0.0\n",
       "622463     0.0\n",
       "1457667    0.0\n",
       "Name: salario_mensal, dtype: float64"
      ]
     },
     "execution_count": 11,
     "metadata": {},
     "output_type": "execute_result"
    }
   ],
   "source": [
    "#plota a curva de densidade probabilistica\n",
    "# criando uma figura com um gráfico \n",
    "mpl.rcParams['agg.path.chunksize'] = 0\n",
    "fig, ax = plt.subplots(1, 1)\n",
    "# definindo os valores de x\n",
    "x = data.salario_mensal.sort_values()\n",
    "# calculando a média\n",
    "mu = x.mean()\n",
    "# calculando o desvio padrão populacional\n",
    "sigma = x.std()#/len(df.salary)\n",
    "# plotando o gráfico com os valores de x e os valores normais da densidade de probabilidade\n",
    "ax.plot(x, stats.norm.pdf(x, mu, sigma),label='Salario')\n",
    "# imprimindo a legenda\n",
    "ax.legend(loc='best', frameon=False,fontsize = 20)\n",
    "# mostrando o gráfico\n",
    "plt.show()\n",
    "x.head()"
   ]
  },
  {
   "cell_type": "code",
   "execution_count": 12,
   "metadata": {},
   "outputs": [],
   "source": [
    "#normaliza a curva utilizando LOG (numpy.log) e salva em uma nova coluna: OBS: SOMA +1 NO SALARIO PARA EVITAR ERROS DE LOG = 0 QUE TENDEM AO INFINITO NEGATIVO\n",
    "data[\"salario_log\"] = np.log(data.salario_mensal+1)"
   ]
  },
  {
   "cell_type": "code",
   "execution_count": 13,
   "metadata": {},
   "outputs": [
    {
     "data": {
      "text/plain": [
       "<matplotlib.axes._subplots.AxesSubplot at 0x1ad185c0b70>"
      ]
     },
     "execution_count": 13,
     "metadata": {},
     "output_type": "execute_result"
    },
    {
     "data": {
      "image/png": "[encoded data removed]",
      "text/plain": [
       "<Figure size 432x288 with 1 Axes>"
      ]
     },
     "metadata": {
      "needs_background": "light"
     },
     "output_type": "display_data"
    }
   ],
   "source": [
    "#plota o histograma para verificar a distribuicao depois da normalização\n",
    "data.salario_log.plot.hist(bins=100)"
   ]
  },
  {
   "cell_type": "code",
   "execution_count": 14,
   "metadata": {},
   "outputs": [
    {
     "data": {
      "image/png": "[encoded data removed]",
      "text/plain": [
       "<Figure size 432x288 with 1 Axes>"
      ]
     },
     "metadata": {
      "needs_background": "light"
     },
     "output_type": "display_data"
    }
   ],
   "source": [
    "#plota a curva de densidade probabilistica com a normalização \n",
    "fig, ax = plt.subplots(1, 1)\n",
    "# definindo os valores de x\n",
    "x = data.salario_log.sort_values()\n",
    "# calculando a média\n",
    "mu = data.salario_log.mean()\n",
    "# calculando o desvio padrão populacional\n",
    "sigma = data.salario_log.std()#/len(df.salary)\n",
    "# plotando o gráfico com os valores de x e os valores normais da densidade de probabilidade\n",
    "ax.plot(x, stats.norm.pdf(x, mu, sigma))\n",
    "# imprimindo a legenda\n",
    "ax.set_title(\"Salário Log\")\n",
    "# mostrando o gráfico\n",
    "plt.show()"
   ]
  },
  {
   "cell_type": "code",
   "execution_count": 15,
   "metadata": {},
   "outputs": [],
   "source": [
    "#calcula a padronização Z\n",
    "data[\"salario_padrao\"] = ( data.salario_log - data.salario_log.mean() ) / data.salario_log.std()"
   ]
  },
  {
   "cell_type": "code",
   "execution_count": 16,
   "metadata": {},
   "outputs": [
    {
     "data": {
      "text/plain": [
       "<matplotlib.axes._subplots.AxesSubplot at 0x1ad18cdc390>"
      ]
     },
     "execution_count": 16,
     "metadata": {},
     "output_type": "execute_result"
    },
    {
     "data": {
      "image/png": "[encoded data removed]",
      "text/plain": [
       "<Figure size 432x288 with 1 Axes>"
      ]
     },
     "metadata": {
      "needs_background": "light"
     },
     "output_type": "display_data"
    }
   ],
   "source": [
    "#plota o histograma do salario normalizado e padronizado em Z\n",
    "data.salario_padrao.plot.hist(bins=50)"
   ]
  },
  {
   "cell_type": "code",
   "execution_count": 17,
   "metadata": {},
   "outputs": [
    {
     "data": {
      "image/png": "[encoded data removed]",
      "text/plain": [
       "<Figure size 432x288 with 1 Axes>"
      ]
     },
     "metadata": {
      "needs_background": "light"
     },
     "output_type": "display_data"
    }
   ],
   "source": [
    "#plota a curva de densidade probabilistica com a normalização e a padronizacao\n",
    "fig, ax = plt.subplots(1, 1)\n",
    "# definindo os valores de x\n",
    "x = data.salario_padrao.sort_values()\n",
    "# calculando a média\n",
    "mu = data.salario_padrao.mean()\n",
    "# calculando o desvio padrão populacional\n",
    "sigma = data.salario_padrao.std()#/len(df.salary)\n",
    "# plotando o gráfico com os valores de x e os valores normais da densidade de probabilidade\n",
    "ax.plot(x, stats.norm.pdf(x, mu, sigma))\n",
    "# imprimindo a legenda\n",
    "ax.set_title(\"Salário Z\")\n",
    "# mostrando o gráfico\n",
    "plt.show()"
   ]
  },
  {
   "cell_type": "code",
   "execution_count": 34,
   "metadata": {},
   "outputs": [
    {
     "data": {
      "text/plain": [
       "<matplotlib.collections.PathCollection at 0x1ad1a333358>"
      ]
     },
     "execution_count": 34,
     "metadata": {},
     "output_type": "execute_result"
    },
    {
     "data": {
      "image/png": "[encoded data removed]",
      "text/plain": [
       "<Figure size 1440x720 with 1 Axes>"
      ]
     },
     "metadata": {
      "needs_background": "light"
     },
     "output_type": "display_data"
    }
   ],
   "source": [
    "# plota a disperção do salario x UF\n",
    "plt.figure(figsize=(20,10))\n",
    "plt.scatter(x=data.sigla, y=data.salario_log)"
   ]
  },
  {
   "cell_type": "code",
   "execution_count": 57,
   "metadata": {},
   "outputs": [
    {
     "data": {
      "image/png": "[encoded data removed]",
      "text/plain": [
       "<Figure size 1440x1440 with 6 Axes>"
      ]
     },
     "metadata": {
      "needs_background": "light"
     },
     "output_type": "display_data"
    }
   ],
   "source": [
    "#PLOTA TODOS OS GRAFICOS :D\n",
    "fig, ax = plt.subplots(3, 2,figsize=(20,20)) #cria a matriz de plotagem com 6 graficos\n",
    "\n",
    "#plota o histograma do salario mensal\n",
    "x = data.salario_mensal\n",
    "ax[0,0].hist(x, bins=50, range=(0,5000))\n",
    "ax[0,0].set_title(\"Salário Mensal Hist\")\n",
    "\n",
    "#plota a curva de densidade do salario mensal\n",
    "x = data.salario_mensal.sort_values()\n",
    "# calculando a média\n",
    "mu = x.mean()\n",
    "# calculando o desvio padrão populacional\n",
    "sigma = x.std()#/len(df.salary)\n",
    "# plotando o gráfico com os valores de x e os valores normais da densidade de probabilidade\n",
    "ax[0,1].plot(x, stats.norm.pdf(x, mu, sigma))\n",
    "ax[0,1].set_title(\"Salário Mensal PDF\")\n",
    "\n",
    "#plota o histograma do salario normalizado\n",
    "x = data.salario_log\n",
    "ax[1,0].hist(x, bins=50)\n",
    "ax[1,0].set_title(\"Salário LOG Hist\")\n",
    "\n",
    "#plota a curva de densidade do salario mensal\n",
    "x = data.salario_log.sort_values()\n",
    "# calculando a média\n",
    "mu = x.mean()\n",
    "# calculando o desvio padrão populacional\n",
    "sigma = x.std()#/len(df.salary)\n",
    "# plotando o gráfico com os valores de x e os valores normais da densidade de probabilidade\n",
    "ax[1,1].plot(x, stats.norm.pdf(x, mu, sigma))\n",
    "ax[1,1].set_title(\"Salário LOG PDF\")\n",
    "\n",
    "#plota o histograma do salario Z\n",
    "x = data.salario_padrao\n",
    "ax[2,0].hist(x, bins=50)\n",
    "ax[2,0].set_title(\"Salário Z Hist\")\n",
    "\n",
    "#plota a curva de densidade do salario mensal\n",
    "x = data.salario_padrao.sort_values()\n",
    "# calculando a média\n",
    "mu = x.mean()\n",
    "# calculando o desvio padrão populacional\n",
    "sigma = x.std()#/len(df.salary)\n",
    "# plotando o gráfico com os valores de x e os valores normais da densidade de probabilidade\n",
    "ax[2,1].plot(x, stats.norm.pdf(x, mu, sigma))\n",
    "ax[2,1].set_title(\"Salário Z PDF\")\n",
    "\n",
    "plt.show()"
   ]
  },
  {
   "cell_type": "code",
   "execution_count": null,
   "metadata": {},
   "outputs": [],
   "source": []
  }
 ],
 "metadata": {
  "kernelspec": {
   "display_name": "Python 3",
   "language": "python",
   "name": "python3"
  },
  "language_info": {
   "codemirror_mode": {
    "name": "ipython",
    "version": 3
   },
   "file_extension": ".py",
   "mimetype": "text/x-python",
   "name": "python",
   "nbconvert_exporter": "python",
   "pygments_lexer": "ipython3",
   "version": "3.7.3"
  }
 },
 "nbformat": 4,
 "nbformat_minor": 4
}
