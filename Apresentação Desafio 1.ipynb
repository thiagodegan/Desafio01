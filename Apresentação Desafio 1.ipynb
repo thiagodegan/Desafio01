{
 "cells": [
  {
   "cell_type": "markdown",
   "metadata": {},
   "source": [
    "<br>\n",
    "<img src=\"img/Capa.png\">\n",
    "<br>"
   ]
  },
  {
   "cell_type": "markdown",
   "metadata": {},
   "source": [
    "# OBJETIVO\n",
    "Realizar o processo de ETL (Extração, Transformação e Leitura) da fonte de dados do CAGED e elaborar uma hipótese para ser rejeitada ou não-rejeitada.\n",
    "\n",
    "# METODOLOGIA\n",
    "<br>\n",
    "<img src=\"img/Metodologia.png\">\n",
    "<br>\n",
    "\n",
    "# ETAPAS"
   ]
  },
  {
   "cell_type": "markdown",
   "metadata": {},
   "source": [
    "<br>\n",
    "<img src=\"img/Importação Bibliotecas.png\">\n",
    "<br>"
   ]
  },
  {
   "cell_type": "markdown",
   "metadata": {},
   "source": [
    "Neste momento visualizamos a estrutura e conteúdo do arquivo, e identificamos a necessidade de alterar nomenclaturas das colunas, tipos de dados e valores de algumas variáveis.\n",
    "\n",
    "**Importação das bibliotecas necessárias para leitura, transformação e visualização dos dados (ETL)**"
   ]
  },
  {
   "cell_type": "code",
   "execution_count": 56,
   "metadata": {},
   "outputs": [],
   "source": [
    "#importa bibliotecas\n",
    "import matplotlib.pyplot as plt\n",
    "import matplotlib as mpl\n",
    "%matplotlib inline\n",
    "import numpy as np\n",
    "import pandas as pd\n",
    "from scipy import stats\n",
    "import seaborn as sns\n",
    "\n",
    "import warnings\n",
    "warnings.filterwarnings(\"ignore\")"
   ]
  },
  {
   "cell_type": "markdown",
   "metadata": {},
   "source": [
    "**Leitura dos dados e importação em um dataframe**"
   ]
  },
  {
   "cell_type": "code",
   "execution_count": 57,
   "metadata": {},
   "outputs": [],
   "source": [
    "data = pd.read_csv('Fonte IBGE/CAGEDEST_122018.txt', encoding = 'ISO-8859-1', decimal = ',', delimiter = ';')"
   ]
  },
  {
   "cell_type": "markdown",
   "metadata": {},
   "source": [
    "**Visualizar o número de variáveis (linhas) e parâmetros (colunas) do dataframe**"
   ]
  },
  {
   "cell_type": "code",
   "execution_count": 58,
   "metadata": {},
   "outputs": [
    {
     "data": {
      "text/plain": [
       "(2256752, 42)"
      ]
     },
     "execution_count": 58,
     "metadata": {},
     "output_type": "execute_result"
    }
   ],
   "source": [
    "data.shape"
   ]
  },
  {
   "cell_type": "markdown",
   "metadata": {},
   "source": [
    "**Listagem das colunas existentes no dataframe**"
   ]
  },
  {
   "cell_type": "code",
   "execution_count": 59,
   "metadata": {},
   "outputs": [
    {
     "data": {
      "text/plain": [
       "Index(['Admitidos/Desligados', 'Competência Declarada', 'Município',\n",
       "       'Ano Declarado', 'CBO 2002 Ocupação', 'CNAE 1.0 Classe',\n",
       "       'CNAE 2.0 Classe', 'CNAE 2.0 Subclas', 'Faixa Empr Início Jan',\n",
       "       'Grau Instrução', 'Qtd Hora Contrat', 'IBGE Subsetor', 'Idade',\n",
       "       'Ind Aprendiz', 'Ind Portador Defic', 'Raça Cor', 'Salário Mensal',\n",
       "       'Saldo Mov', 'Sexo', 'Tempo Emprego', 'Tipo Estab', 'Tipo Defic',\n",
       "       'Tipo Mov Desagregado', 'UF', 'Bairros SP', 'Bairros Fortaleza',\n",
       "       'Bairros RJ', 'Distritos SP', 'Regiões Adm DF', 'Mesorregião',\n",
       "       'Microrregião', 'Região Adm RJ', 'Região Adm SP', 'Região Corede',\n",
       "       'Região Corede 04', 'Região Gov SP', 'Região Senac PR',\n",
       "       'Região Senai PR', 'Região Senai SP', 'Sub-Região Senai PR',\n",
       "       'Ind Trab Parcial', 'Ind Trab Intermitente'],\n",
       "      dtype='object')"
      ]
     },
     "execution_count": 59,
     "metadata": {},
     "output_type": "execute_result"
    }
   ],
   "source": [
    "data.columns"
   ]
  },
  {
   "cell_type": "markdown",
   "metadata": {},
   "source": [
    "**Alteração do nome das colunas para facilitar a análise**"
   ]
  },
  {
   "cell_type": "code",
   "execution_count": 60,
   "metadata": {},
   "outputs": [],
   "source": [
    "#renomeia o nome das colunas para facilitar a analize\n",
    "data.rename(columns={'Admitidos/Desligados': 'admitidos_desligados', \n",
    "                     'Competência Declarada': 'competencia_declarada', \n",
    "                     'Município': 'municipio',\n",
    "                     'Ano Declarado' : 'ano_declarado',\n",
    "                     'CBO 2002 Ocupação' : 'cbo_2002_ocupacao',\n",
    "                     'CNAE 1.0 Classe' : 'cnae_10_classe',\n",
    "                     'CNAE 2.0 Classe' : 'cnae_20_classe',\n",
    "                     'CNAE 2.0 Subclas' : 'cnae_20_subclas',\n",
    "                     'Faixa Empr Início Jan' : 'faixa_empr_ini_jan',\n",
    "                     'Grau Instrução' : 'grau_instrucao',\n",
    "                     'Qtd Hora Contrat' : 'qtd_hora_contrat',\n",
    "                     'IBGE Subsetor' : 'ibge_subsetor',\n",
    "                     'Idade' : 'idade',\n",
    "                     'Ind Aprendiz' : 'ind_aprendiz', \n",
    "                     'Ind Portador Defic' : 'ind_portador_defic',\n",
    "                     'Raça Cor' : 'raca_cor',\n",
    "                     'Salário Mensal':'salario_mensal',\n",
    "                     'Saldo Mov':'salario_mov',\n",
    "                     'Sexo':'sexo',\n",
    "                     'Tempo Emprego':'tempo_emprego',\n",
    "                     'Tipo Estab':'tipo_estab',\n",
    "                     'Tipo Defic':'tipo_defic',\n",
    "                     'Tipo Mov Desagregado':'tipo_mov_desagregado',\n",
    "                     'UF':'uf',\n",
    "                     'Bairros SP':'bairros_sp',\n",
    "                     'Bairros Fortaleza':'bairros_fortaleza',\n",
    "                     'Bairros RJ':'bairros_rj',\n",
    "                     'Distritos SP':'distritos_sp',\n",
    "                     'Regiões Adm DF':'regioes_adm_df',\n",
    "                     'Mesorregião':'mesoregiao',\n",
    "                     'Microrregião':'microregiao',\n",
    "                     'Região Adm RJ':'regiao_adm_rj',\n",
    "                     'Região Adm SP':'regiao_adm_sp',\n",
    "                     'Região Corede':'regiao_corede',\n",
    "                     'Região Corede 04':'regiao_corede_04',\n",
    "                     'Região Gov SP':'regiao_gov_sp',\n",
    "                     'Região Senac PR':'regiao_senac_pr',\n",
    "                     'Região Senai PR':'regiao_senai_pr',\n",
    "                     'Região Senai SP':'regiao_senai_sp',\n",
    "                     'Sub-Região Senai PR':'subregiao_senai_pr',\n",
    "                     'Ind Trab Parcial':'ind_trab_parcial',\n",
    "                     'Ind Trab Intermitente':'ind_trab_intermitente'}, inplace=True)"
   ]
  },
  {
   "cell_type": "markdown",
   "metadata": {},
   "source": [
    "**Mostra as colunas renomeadas**"
   ]
  },
  {
   "cell_type": "code",
   "execution_count": 61,
   "metadata": {},
   "outputs": [
    {
     "data": {
      "text/plain": [
       "Index(['admitidos_desligados', 'competencia_declarada', 'municipio',\n",
       "       'ano_declarado', 'cbo_2002_ocupacao', 'cnae_10_classe',\n",
       "       'cnae_20_classe', 'cnae_20_subclas', 'faixa_empr_ini_jan',\n",
       "       'grau_instrucao', 'qtd_hora_contrat', 'ibge_subsetor', 'idade',\n",
       "       'ind_aprendiz', 'ind_portador_defic', 'raca_cor', 'salario_mensal',\n",
       "       'salario_mov', 'sexo', 'tempo_emprego', 'tipo_estab', 'tipo_defic',\n",
       "       'tipo_mov_desagregado', 'uf', 'bairros_sp', 'bairros_fortaleza',\n",
       "       'bairros_rj', 'distritos_sp', 'regioes_adm_df', 'mesoregiao',\n",
       "       'microregiao', 'regiao_adm_rj', 'regiao_adm_sp', 'regiao_corede',\n",
       "       'regiao_corede_04', 'regiao_gov_sp', 'regiao_senac_pr',\n",
       "       'regiao_senai_pr', 'regiao_senai_sp', 'subregiao_senai_pr',\n",
       "       'ind_trab_parcial', 'ind_trab_intermitente'],\n",
       "      dtype='object')"
      ]
     },
     "execution_count": 61,
     "metadata": {},
     "output_type": "execute_result"
    }
   ],
   "source": [
    "data.columns"
   ]
  },
  {
   "cell_type": "markdown",
   "metadata": {},
   "source": [
    "**Altera os valores numéricos para as \"Descrições\" na coluna \"estados\" e exibe o resultado**"
   ]
  },
  {
   "cell_type": "code",
   "execution_count": 62,
   "metadata": {},
   "outputs": [
    {
     "data": {
      "text/plain": [
       "['AC',\n",
       " 'AL',\n",
       " 'AM',\n",
       " 'AP',\n",
       " 'BA',\n",
       " 'CE',\n",
       " 'DF',\n",
       " 'ES',\n",
       " 'GO',\n",
       " 'MA',\n",
       " 'MG',\n",
       " 'MS',\n",
       " 'MT',\n",
       " 'PA',\n",
       " 'PB',\n",
       " 'PE',\n",
       " 'PI',\n",
       " 'PR',\n",
       " 'RJ',\n",
       " 'RN',\n",
       " 'RO',\n",
       " 'RR',\n",
       " 'RS',\n",
       " 'SC',\n",
       " 'SE',\n",
       " 'SP',\n",
       " 'TO']"
      ]
     },
     "execution_count": 62,
     "metadata": {},
     "output_type": "execute_result"
    }
   ],
   "source": [
    "siglas = pd.read_csv('Fonte IBGE/siglas.csv', encoding = 'UTF-8', delimiter = ';')\n",
    "data = pd.merge(data, siglas, on ='uf', how='outer')\n",
    "\n",
    "def remove_repetidos(lista):\n",
    "    l = []\n",
    "    for i in lista:\n",
    "       if i not in l:\n",
    "            l.append(i)\n",
    "    l.sort()\n",
    "    return l\n",
    "\n",
    "lista = data['sigla']\n",
    "\n",
    "l_siglas = remove_repetidos(lista)\n",
    "\n",
    "l_siglas"
   ]
  },
  {
   "cell_type": "markdown",
   "metadata": {},
   "source": [
    "**Altera os valores numéricos para as \"Descrições\" na coluna \"grau_instrucao\" e exibe o resultado**"
   ]
  },
  {
   "cell_type": "code",
   "execution_count": 63,
   "metadata": {},
   "outputs": [
    {
     "data": {
      "text/plain": [
       "['5ª Completo Fundamental',\n",
       " '6ª a 9ª Fundamental',\n",
       " 'Analfabeto',\n",
       " 'Até 5ª Incompleto',\n",
       " 'Fundamental Completo',\n",
       " 'Médio Completo',\n",
       " 'Médio Incompleto',\n",
       " 'Superior Completo',\n",
       " 'Superior Incompleto']"
      ]
     },
     "execution_count": 63,
     "metadata": {},
     "output_type": "execute_result"
    }
   ],
   "source": [
    "dic_grau = pd.read_csv('Fonte IBGE/dic_grau_instrucao.csv', encoding = 'UTF-8', delimiter = ';')\n",
    "data = pd.merge(data, dic_grau, on ='grau_instrucao', how='left')\n",
    "\n",
    "def remove_repetidos(lista):\n",
    "    l = []\n",
    "    for i in lista:\n",
    "       if i not in l:\n",
    "            l.append(i)\n",
    "    l.sort()\n",
    "    return l\n",
    "\n",
    "lista = data['desc_instrucao']\n",
    "\n",
    "l_grau_inst = remove_repetidos(lista)\n",
    "\n",
    "l_grau_inst"
   ]
  },
  {
   "cell_type": "markdown",
   "metadata": {},
   "source": [
    "**Altera os valores numéricos para as \"Descrições\" na coluna \"raca_cor\" e exibe o resultado**"
   ]
  },
  {
   "cell_type": "code",
   "execution_count": 64,
   "metadata": {},
   "outputs": [
    {
     "data": {
      "text/plain": [
       "['AMARELA', 'BRANCA', 'INDIGENA', 'NAO IDENT', 'PARDA', 'PRETA']"
      ]
     },
     "execution_count": 64,
     "metadata": {},
     "output_type": "execute_result"
    }
   ],
   "source": [
    "dic_raca = pd.read_csv('Fonte IBGE/dic_raca.csv', encoding = 'UTF-8', delimiter = ';')\n",
    "data = pd.merge(data, dic_raca, on ='raca_cor', how='left')\n",
    "\n",
    "def remove_repetidos(lista):\n",
    "    l = []\n",
    "    for i in lista:\n",
    "       if i not in l:\n",
    "            l.append(i)\n",
    "    l.sort()\n",
    "    return l\n",
    "\n",
    "lista = data['desc_raca']\n",
    "\n",
    "l_raca_cor = remove_repetidos(lista)\n",
    "\n",
    "l_raca_cor"
   ]
  },
  {
   "cell_type": "markdown",
   "metadata": {},
   "source": [
    "**Altera os valores numéricos para as \"Descrições\" na coluna \"sexo\" e exibe o resultado**"
   ]
  },
  {
   "cell_type": "code",
   "execution_count": 66,
   "metadata": {},
   "outputs": [
    {
     "data": {
      "text/plain": [
       "['FEMININO', 'MASCULINO']"
      ]
     },
     "execution_count": 66,
     "metadata": {},
     "output_type": "execute_result"
    }
   ],
   "source": [
    "dic_sexo = pd.read_csv('Fonte IBGE/dic_sexo.csv', encoding = 'UTF-8', delimiter = ';')\n",
    "data = pd.merge(data, dic_sexo, on ='sexo', how='left')\n",
    "\n",
    "def remove_repetidos(lista):\n",
    "    l = []\n",
    "    for i in lista:\n",
    "       if i not in l:\n",
    "            l.append(i)\n",
    "    l.sort()\n",
    "    return l\n",
    "\n",
    "lista = data['desc_sexo']\n",
    "\n",
    "l_sexo = remove_repetidos(lista)\n",
    "\n",
    "l_sexo"
   ]
  },
  {
   "cell_type": "markdown",
   "metadata": {},
   "source": [
    "**Verifica informações da estrutura dos parâmetros do dataframe**"
   ]
  },
  {
   "cell_type": "code",
   "execution_count": 68,
   "metadata": {},
   "outputs": [
    {
     "name": "stdout",
     "output_type": "stream",
     "text": [
      "<class 'pandas.core.frame.DataFrame'>\n",
      "Int64Index: 2256752 entries, 0 to 2256751\n",
      "Data columns (total 47 columns):\n",
      "admitidos_desligados     int64\n",
      "competencia_declarada    int64\n",
      "municipio                int64\n",
      "ano_declarado            int64\n",
      "cbo_2002_ocupacao        int64\n",
      "cnae_10_classe           int64\n",
      "cnae_20_classe           int64\n",
      "cnae_20_subclas          int64\n",
      "faixa_empr_ini_jan       int64\n",
      "grau_instrucao           int64\n",
      "qtd_hora_contrat         int64\n",
      "ibge_subsetor            int64\n",
      "idade                    int64\n",
      "ind_aprendiz             int64\n",
      "ind_portador_defic       int64\n",
      "raca_cor                 int64\n",
      "salario_mensal           float64\n",
      "salario_mov              int64\n",
      "sexo                     int64\n",
      "tempo_emprego            float64\n",
      "tipo_estab               int64\n",
      "tipo_defic               int64\n",
      "tipo_mov_desagregado     int64\n",
      "uf                       int64\n",
      "bairros_sp               object\n",
      "bairros_fortaleza        object\n",
      "bairros_rj               object\n",
      "distritos_sp             object\n",
      "regioes_adm_df           int64\n",
      "mesoregiao               int64\n",
      "microregiao              int64\n",
      "regiao_adm_rj            object\n",
      "regiao_adm_sp            object\n",
      "regiao_corede            object\n",
      "regiao_corede_04         object\n",
      "regiao_gov_sp            object\n",
      "regiao_senac_pr          object\n",
      "regiao_senai_pr          object\n",
      "regiao_senai_sp          object\n",
      "subregiao_senai_pr       object\n",
      "ind_trab_parcial         int64\n",
      "ind_trab_intermitente    int64\n",
      "estado                   object\n",
      "sigla                    object\n",
      "desc_instrucao           object\n",
      "desc_raca                object\n",
      "desc_sexo                object\n",
      "dtypes: float64(2), int64(27), object(18)\n",
      "memory usage: 826.4+ MB\n"
     ]
    }
   ],
   "source": [
    "data.info()"
   ]
  },
  {
   "cell_type": "markdown",
   "metadata": {},
   "source": [
    "**Verifica a distribuição numérica dos dados**"
   ]
  },
  {
   "cell_type": "code",
   "execution_count": 69,
   "metadata": {},
   "outputs": [
    {
     "data": {
      "text/html": [
       "<div>\n",
       "<style scoped>\n",
       "    .dataframe tbody tr th:only-of-type {\n",
       "        vertical-align: middle;\n",
       "    }\n",
       "\n",
       "    .dataframe tbody tr th {\n",
       "        vertical-align: top;\n",
       "    }\n",
       "\n",
       "    .dataframe thead th {\n",
       "        text-align: right;\n",
       "    }\n",
       "</style>\n",
       "<table border=\"1\" class=\"dataframe\">\n",
       "  <thead>\n",
       "    <tr style=\"text-align: right;\">\n",
       "      <th></th>\n",
       "      <th>admitidos_desligados</th>\n",
       "      <th>competencia_declarada</th>\n",
       "      <th>municipio</th>\n",
       "      <th>ano_declarado</th>\n",
       "      <th>cbo_2002_ocupacao</th>\n",
       "      <th>cnae_10_classe</th>\n",
       "      <th>cnae_20_classe</th>\n",
       "      <th>cnae_20_subclas</th>\n",
       "      <th>faixa_empr_ini_jan</th>\n",
       "      <th>grau_instrucao</th>\n",
       "      <th>...</th>\n",
       "      <th>tempo_emprego</th>\n",
       "      <th>tipo_estab</th>\n",
       "      <th>tipo_defic</th>\n",
       "      <th>tipo_mov_desagregado</th>\n",
       "      <th>uf</th>\n",
       "      <th>regioes_adm_df</th>\n",
       "      <th>mesoregiao</th>\n",
       "      <th>microregiao</th>\n",
       "      <th>ind_trab_parcial</th>\n",
       "      <th>ind_trab_intermitente</th>\n",
       "    </tr>\n",
       "  </thead>\n",
       "  <tbody>\n",
       "    <tr>\n",
       "      <th>count</th>\n",
       "      <td>2.256752e+06</td>\n",
       "      <td>2256752.0</td>\n",
       "      <td>2.256752e+06</td>\n",
       "      <td>2256752.0</td>\n",
       "      <td>2.256752e+06</td>\n",
       "      <td>2.256752e+06</td>\n",
       "      <td>2.256752e+06</td>\n",
       "      <td>2.256752e+06</td>\n",
       "      <td>2.256752e+06</td>\n",
       "      <td>2.256752e+06</td>\n",
       "      <td>...</td>\n",
       "      <td>2.256752e+06</td>\n",
       "      <td>2.256752e+06</td>\n",
       "      <td>2.256752e+06</td>\n",
       "      <td>2.256752e+06</td>\n",
       "      <td>2.256752e+06</td>\n",
       "      <td>2.256752e+06</td>\n",
       "      <td>2.256752e+06</td>\n",
       "      <td>2.256752e+06</td>\n",
       "      <td>2.256752e+06</td>\n",
       "      <td>2.256752e+06</td>\n",
       "    </tr>\n",
       "    <tr>\n",
       "      <th>mean</th>\n",
       "      <td>1.574103e+00</td>\n",
       "      <td>201812.0</td>\n",
       "      <td>3.553863e+05</td>\n",
       "      <td>2018.0</td>\n",
       "      <td>5.368213e+05</td>\n",
       "      <td>5.304958e+04</td>\n",
       "      <td>5.126839e+04</td>\n",
       "      <td>5.126847e+06</td>\n",
       "      <td>4.303066e+00</td>\n",
       "      <td>6.595547e+00</td>\n",
       "      <td>...</td>\n",
       "      <td>1.318030e+01</td>\n",
       "      <td>1.084850e+00</td>\n",
       "      <td>1.553693e-02</td>\n",
       "      <td>6.216255e+00</td>\n",
       "      <td>3.534381e+01</td>\n",
       "      <td>7.773592e-01</td>\n",
       "      <td>3.540988e+03</td>\n",
       "      <td>3.537022e+04</td>\n",
       "      <td>4.852106e-03</td>\n",
       "      <td>5.339089e-03</td>\n",
       "    </tr>\n",
       "    <tr>\n",
       "      <th>std</th>\n",
       "      <td>4.944784e-01</td>\n",
       "      <td>0.0</td>\n",
       "      <td>8.300073e+04</td>\n",
       "      <td>0.0</td>\n",
       "      <td>1.784826e+05</td>\n",
       "      <td>2.269392e+04</td>\n",
       "      <td>2.468035e+04</td>\n",
       "      <td>2.468034e+06</td>\n",
       "      <td>2.646710e+00</td>\n",
       "      <td>1.548538e+00</td>\n",
       "      <td>...</td>\n",
       "      <td>3.413455e+01</td>\n",
       "      <td>4.031142e-01</td>\n",
       "      <td>2.154446e-01</td>\n",
       "      <td>9.922202e+00</td>\n",
       "      <td>8.311311e+00</td>\n",
       "      <td>8.125151e+01</td>\n",
       "      <td>8.309257e+02</td>\n",
       "      <td>8.310356e+03</td>\n",
       "      <td>6.948788e-02</td>\n",
       "      <td>7.287376e-02</td>\n",
       "    </tr>\n",
       "    <tr>\n",
       "      <th>min</th>\n",
       "      <td>1.000000e+00</td>\n",
       "      <td>201812.0</td>\n",
       "      <td>1.100010e+05</td>\n",
       "      <td>2018.0</td>\n",
       "      <td>3.011000e+04</td>\n",
       "      <td>1.112000e+03</td>\n",
       "      <td>1.113000e+03</td>\n",
       "      <td>1.113010e+05</td>\n",
       "      <td>1.000000e+00</td>\n",
       "      <td>1.000000e+00</td>\n",
       "      <td>...</td>\n",
       "      <td>0.000000e+00</td>\n",
       "      <td>1.000000e+00</td>\n",
       "      <td>0.000000e+00</td>\n",
       "      <td>1.000000e+00</td>\n",
       "      <td>1.100000e+01</td>\n",
       "      <td>0.000000e+00</td>\n",
       "      <td>1.101000e+03</td>\n",
       "      <td>1.100100e+04</td>\n",
       "      <td>0.000000e+00</td>\n",
       "      <td>0.000000e+00</td>\n",
       "    </tr>\n",
       "    <tr>\n",
       "      <th>25%</th>\n",
       "      <td>1.000000e+00</td>\n",
       "      <td>201812.0</td>\n",
       "      <td>3.147000e+05</td>\n",
       "      <td>2018.0</td>\n",
       "      <td>4.141050e+05</td>\n",
       "      <td>4.525000e+04</td>\n",
       "      <td>4.213800e+04</td>\n",
       "      <td>4.213800e+06</td>\n",
       "      <td>2.000000e+00</td>\n",
       "      <td>6.000000e+00</td>\n",
       "      <td>...</td>\n",
       "      <td>0.000000e+00</td>\n",
       "      <td>1.000000e+00</td>\n",
       "      <td>0.000000e+00</td>\n",
       "      <td>2.000000e+00</td>\n",
       "      <td>3.100000e+01</td>\n",
       "      <td>0.000000e+00</td>\n",
       "      <td>3.108000e+03</td>\n",
       "      <td>3.103900e+04</td>\n",
       "      <td>0.000000e+00</td>\n",
       "      <td>0.000000e+00</td>\n",
       "    </tr>\n",
       "    <tr>\n",
       "      <th>50%</th>\n",
       "      <td>2.000000e+00</td>\n",
       "      <td>201812.0</td>\n",
       "      <td>3.531500e+05</td>\n",
       "      <td>2018.0</td>\n",
       "      <td>5.174100e+05</td>\n",
       "      <td>5.241800e+04</td>\n",
       "      <td>4.773300e+04</td>\n",
       "      <td>4.773300e+06</td>\n",
       "      <td>4.000000e+00</td>\n",
       "      <td>7.000000e+00</td>\n",
       "      <td>...</td>\n",
       "      <td>2.000000e+00</td>\n",
       "      <td>1.000000e+00</td>\n",
       "      <td>0.000000e+00</td>\n",
       "      <td>4.000000e+00</td>\n",
       "      <td>3.500000e+01</td>\n",
       "      <td>0.000000e+00</td>\n",
       "      <td>3.512000e+03</td>\n",
       "      <td>3.504600e+04</td>\n",
       "      <td>0.000000e+00</td>\n",
       "      <td>0.000000e+00</td>\n",
       "    </tr>\n",
       "    <tr>\n",
       "      <th>75%</th>\n",
       "      <td>2.000000e+00</td>\n",
       "      <td>201812.0</td>\n",
       "      <td>4.117900e+05</td>\n",
       "      <td>2018.0</td>\n",
       "      <td>7.152100e+05</td>\n",
       "      <td>7.412800e+04</td>\n",
       "      <td>7.490100e+04</td>\n",
       "      <td>7.490102e+06</td>\n",
       "      <td>6.000000e+00</td>\n",
       "      <td>7.000000e+00</td>\n",
       "      <td>...</td>\n",
       "      <td>1.100000e+01</td>\n",
       "      <td>1.000000e+00</td>\n",
       "      <td>0.000000e+00</td>\n",
       "      <td>6.000000e+00</td>\n",
       "      <td>4.100000e+01</td>\n",
       "      <td>0.000000e+00</td>\n",
       "      <td>4.110000e+03</td>\n",
       "      <td>4.103700e+04</td>\n",
       "      <td>0.000000e+00</td>\n",
       "      <td>0.000000e+00</td>\n",
       "    </tr>\n",
       "    <tr>\n",
       "      <th>max</th>\n",
       "      <td>2.000000e+00</td>\n",
       "      <td>201812.0</td>\n",
       "      <td>5.300100e+05</td>\n",
       "      <td>2018.0</td>\n",
       "      <td>9.922250e+05</td>\n",
       "      <td>9.900700e+04</td>\n",
       "      <td>9.900800e+04</td>\n",
       "      <td>9.900800e+06</td>\n",
       "      <td>9.000000e+00</td>\n",
       "      <td>9.000000e+00</td>\n",
       "      <td>...</td>\n",
       "      <td>5.990000e+02</td>\n",
       "      <td>3.000000e+00</td>\n",
       "      <td>6.000000e+00</td>\n",
       "      <td>9.000000e+01</td>\n",
       "      <td>5.300000e+01</td>\n",
       "      <td>9.999000e+03</td>\n",
       "      <td>5.301000e+03</td>\n",
       "      <td>5.300100e+04</td>\n",
       "      <td>1.000000e+00</td>\n",
       "      <td>1.000000e+00</td>\n",
       "    </tr>\n",
       "  </tbody>\n",
       "</table>\n",
       "<p>8 rows × 29 columns</p>\n",
       "</div>"
      ],
      "text/plain": [
       "       admitidos_desligados  competencia_declarada     municipio  \\\n",
       "count          2.256752e+06              2256752.0  2.256752e+06   \n",
       "mean           1.574103e+00               201812.0  3.553863e+05   \n",
       "std            4.944784e-01                    0.0  8.300073e+04   \n",
       "min            1.000000e+00               201812.0  1.100010e+05   \n",
       "25%            1.000000e+00               201812.0  3.147000e+05   \n",
       "50%            2.000000e+00               201812.0  3.531500e+05   \n",
       "75%            2.000000e+00               201812.0  4.117900e+05   \n",
       "max            2.000000e+00               201812.0  5.300100e+05   \n",
       "\n",
       "       ano_declarado  cbo_2002_ocupacao  cnae_10_classe  cnae_20_classe  \\\n",
       "count      2256752.0       2.256752e+06    2.256752e+06    2.256752e+06   \n",
       "mean          2018.0       5.368213e+05    5.304958e+04    5.126839e+04   \n",
       "std              0.0       1.784826e+05    2.269392e+04    2.468035e+04   \n",
       "min           2018.0       3.011000e+04    1.112000e+03    1.113000e+03   \n",
       "25%           2018.0       4.141050e+05    4.525000e+04    4.213800e+04   \n",
       "50%           2018.0       5.174100e+05    5.241800e+04    4.773300e+04   \n",
       "75%           2018.0       7.152100e+05    7.412800e+04    7.490100e+04   \n",
       "max           2018.0       9.922250e+05    9.900700e+04    9.900800e+04   \n",
       "\n",
       "       cnae_20_subclas  faixa_empr_ini_jan  grau_instrucao  \\\n",
       "count     2.256752e+06        2.256752e+06    2.256752e+06   \n",
       "mean      5.126847e+06        4.303066e+00    6.595547e+00   \n",
       "std       2.468034e+06        2.646710e+00    1.548538e+00   \n",
       "min       1.113010e+05        1.000000e+00    1.000000e+00   \n",
       "25%       4.213800e+06        2.000000e+00    6.000000e+00   \n",
       "50%       4.773300e+06        4.000000e+00    7.000000e+00   \n",
       "75%       7.490102e+06        6.000000e+00    7.000000e+00   \n",
       "max       9.900800e+06        9.000000e+00    9.000000e+00   \n",
       "\n",
       "               ...            tempo_emprego    tipo_estab    tipo_defic  \\\n",
       "count          ...             2.256752e+06  2.256752e+06  2.256752e+06   \n",
       "mean           ...             1.318030e+01  1.084850e+00  1.553693e-02   \n",
       "std            ...             3.413455e+01  4.031142e-01  2.154446e-01   \n",
       "min            ...             0.000000e+00  1.000000e+00  0.000000e+00   \n",
       "25%            ...             0.000000e+00  1.000000e+00  0.000000e+00   \n",
       "50%            ...             2.000000e+00  1.000000e+00  0.000000e+00   \n",
       "75%            ...             1.100000e+01  1.000000e+00  0.000000e+00   \n",
       "max            ...             5.990000e+02  3.000000e+00  6.000000e+00   \n",
       "\n",
       "       tipo_mov_desagregado            uf  regioes_adm_df    mesoregiao  \\\n",
       "count          2.256752e+06  2.256752e+06    2.256752e+06  2.256752e+06   \n",
       "mean           6.216255e+00  3.534381e+01    7.773592e-01  3.540988e+03   \n",
       "std            9.922202e+00  8.311311e+00    8.125151e+01  8.309257e+02   \n",
       "min            1.000000e+00  1.100000e+01    0.000000e+00  1.101000e+03   \n",
       "25%            2.000000e+00  3.100000e+01    0.000000e+00  3.108000e+03   \n",
       "50%            4.000000e+00  3.500000e+01    0.000000e+00  3.512000e+03   \n",
       "75%            6.000000e+00  4.100000e+01    0.000000e+00  4.110000e+03   \n",
       "max            9.000000e+01  5.300000e+01    9.999000e+03  5.301000e+03   \n",
       "\n",
       "        microregiao  ind_trab_parcial  ind_trab_intermitente  \n",
       "count  2.256752e+06      2.256752e+06           2.256752e+06  \n",
       "mean   3.537022e+04      4.852106e-03           5.339089e-03  \n",
       "std    8.310356e+03      6.948788e-02           7.287376e-02  \n",
       "min    1.100100e+04      0.000000e+00           0.000000e+00  \n",
       "25%    3.103900e+04      0.000000e+00           0.000000e+00  \n",
       "50%    3.504600e+04      0.000000e+00           0.000000e+00  \n",
       "75%    4.103700e+04      0.000000e+00           0.000000e+00  \n",
       "max    5.300100e+04      1.000000e+00           1.000000e+00  \n",
       "\n",
       "[8 rows x 29 columns]"
      ]
     },
     "execution_count": 69,
     "metadata": {},
     "output_type": "execute_result"
    }
   ],
   "source": [
    "data.describe()"
   ]
  },
  {
   "cell_type": "markdown",
   "metadata": {},
   "source": [
    "# Considerações\n",
    "\n",
    "O dataframe possui 44 colunas e será necessário eliminar as que não apresentarem correlação com o objetivo proposto."
   ]
  },
  {
   "cell_type": "markdown",
   "metadata": {},
   "source": [
    "<br>\n",
    "<img src=\"img/Transformação.png\">\n",
    "<br>"
   ]
  },
  {
   "cell_type": "markdown",
   "metadata": {},
   "source": [
    "**Verifica se o Salário Mensal possui valores NaN, nulos ou menores que zero**"
   ]
  },
  {
   "cell_type": "code",
   "execution_count": 70,
   "metadata": {},
   "outputs": [
    {
     "name": "stdout",
     "output_type": "stream",
     "text": [
      "Qtd Valores NaN: 0\n",
      "Qtd Valores Nulos 0\n",
      "Qtd Valores Menores que Zero 0\n"
     ]
    }
   ],
   "source": [
    "qtd_nan = data['salario_mensal'].isna().sum()\n",
    "qtd_null = data['salario_mensal'].isnull().sum()\n",
    "qtd_zeros = data[data['salario_mensal'] < 0]['salario_mensal'].count()\n",
    "print(\"Qtd Valores NaN:\",qtd_nan)\n",
    "print(\"Qtd Valores Nulos\",qtd_null)\n",
    "print(\"Qtd Valores Menores que Zero\",qtd_zeros)"
   ]
  },
  {
   "cell_type": "markdown",
   "metadata": {},
   "source": [
    "# Mostrar o tipo de dados"
   ]
  },
  {
   "cell_type": "code",
   "execution_count": 71,
   "metadata": {},
   "outputs": [
    {
     "data": {
      "text/plain": [
       "dtype('float64')"
      ]
     },
     "execution_count": 71,
     "metadata": {},
     "output_type": "execute_result"
    }
   ],
   "source": [
    "data.salario_mensal.dtypes"
   ]
  },
  {
   "cell_type": "markdown",
   "metadata": {},
   "source": [
    "# Calcular média, variância e desvio padrão da variável Salário Mensal"
   ]
  },
  {
   "cell_type": "code",
   "execution_count": 72,
   "metadata": {},
   "outputs": [
    {
     "name": "stdout",
     "output_type": "stream",
     "text": [
      "Registros: 2256752\n",
      "Média: 1627.2442231135722\n",
      "Desvio-Padrão: 2097.520546695418\n",
      "Varância: 4399592.443809445\n"
     ]
    }
   ],
   "source": [
    "n_salario = len(data.salario_mensal)\n",
    "mean_salario = data.salario_mensal.mean()\n",
    "std_amostral_salario = np.std(data.salario_mensal, ddof=1) \n",
    "var_amostral_salario = std_amostral_salario**2\n",
    "\n",
    "print('Registros:',n_salario)\n",
    "print('Média:',mean_salario)\n",
    "print('Desvio-Padrão:',std_amostral_salario)\n",
    "print('Varância:',var_amostral_salario)"
   ]
  },
  {
   "cell_type": "markdown",
   "metadata": {},
   "source": [
    "# Considerações\n",
    "\n",
    "a. Desvio padrão amostral e populacional quase idênticos, dado que n é muito alto\n",
    "\n",
    "b. Outro metodo, porém calcula dp populacional: data.salario_mensal.describe()"
   ]
  },
  {
   "cell_type": "markdown",
   "metadata": {},
   "source": [
    "# Plota o histograma para variável Salário Mensal"
   ]
  },
  {
   "cell_type": "code",
   "execution_count": 73,
   "metadata": {},
   "outputs": [
    {
     "data": {
      "text/plain": [
       "<matplotlib.axes._subplots.AxesSubplot at 0x29c1b83ca90>"
      ]
     },
     "execution_count": 73,
     "metadata": {},
     "output_type": "execute_result"
    },
    {
     "data": {
      "image/png": "[encoded data removed]",
      "text/plain": [
       "<Figure size 432x288 with 1 Axes>"
      ]
     },
     "metadata": {
      "needs_background": "light"
     },
     "output_type": "display_data"
    }
   ],
   "source": [
    "data.salario_mensal.plot.hist(bins=50, range=(0,5000))"
   ]
  },
  {
   "cell_type": "markdown",
   "metadata": {},
   "source": [
    "# Verifica se é uma distribuição normal com a função scipy.stats.shapiro"
   ]
  },
  {
   "cell_type": "code",
   "execution_count": 74,
   "metadata": {},
   "outputs": [
    {
     "data": {
      "text/plain": [
       "(0.2637892961502075, 0.0)"
      ]
     },
     "execution_count": 74,
     "metadata": {},
     "output_type": "execute_result"
    }
   ],
   "source": [
    "stats.shapiro(data.salario_mensal)"
   ]
  },
  {
   "cell_type": "markdown",
   "metadata": {},
   "source": [
    "# Normaliza a curva utilizando LOG (numpy.log) e salva em uma nova coluna \"salario_log\"\n",
    "\n",
    "Observação: Soma +1 no salário para evitar erros de log = 0 o que tendem ao infinito negativo"
   ]
  },
  {
   "cell_type": "code",
   "execution_count": 75,
   "metadata": {},
   "outputs": [],
   "source": [
    "data[\"salario_log\"] = np.log(data.salario_mensal+1)"
   ]
  },
  {
   "cell_type": "markdown",
   "metadata": {},
   "source": [
    "# Plota o histograma para verificar a distribuicao depois da normalização"
   ]
  },
  {
   "cell_type": "code",
   "execution_count": 76,
   "metadata": {},
   "outputs": [
    {
     "data": {
      "text/plain": [
       "<matplotlib.axes._subplots.AxesSubplot at 0x29b9d0ee588>"
      ]
     },
     "execution_count": 76,
     "metadata": {},
     "output_type": "execute_result"
    },
    {
     "data": {
      "image/png": "[encoded data removed]",
      "text/plain": [
       "<Figure size 432x288 with 1 Axes>"
      ]
     },
     "metadata": {
      "needs_background": "light"
     },
     "output_type": "display_data"
    }
   ],
   "source": [
    "data.salario_log.plot.hist(bins=100)"
   ]
  },
  {
   "cell_type": "markdown",
   "metadata": {},
   "source": [
    "# Verifica se é uma distribuição normal com a função scipy.stats.shapiro para salario_log (precisa se aproximar de (1,0))"
   ]
  },
  {
   "cell_type": "code",
   "execution_count": 77,
   "metadata": {},
   "outputs": [
    {
     "data": {
      "text/plain": [
       "(0.5028517246246338, 0.0)"
      ]
     },
     "execution_count": 77,
     "metadata": {},
     "output_type": "execute_result"
    }
   ],
   "source": [
    "stats.shapiro(data.salario_log)"
   ]
  },
  {
   "cell_type": "markdown",
   "metadata": {},
   "source": [
    "# Calcula a padronização Z"
   ]
  },
  {
   "cell_type": "code",
   "execution_count": 78,
   "metadata": {},
   "outputs": [],
   "source": [
    "data[\"salario_padrao\"] = ( data.salario_log - data.salario_log.mean() ) / data.salario_log.std()"
   ]
  },
  {
   "cell_type": "markdown",
   "metadata": {},
   "source": [
    "# Plota o histograma do salario normalizado e padronizado em Z"
   ]
  },
  {
   "cell_type": "code",
   "execution_count": 79,
   "metadata": {},
   "outputs": [
    {
     "data": {
      "text/plain": [
       "<matplotlib.axes._subplots.AxesSubplot at 0x29b9edc12b0>"
      ]
     },
     "execution_count": 79,
     "metadata": {},
     "output_type": "execute_result"
    },
    {
     "data": {
      "image/png": "[encoded data removed]",
      "text/plain": [
       "<Figure size 432x288 with 1 Axes>"
      ]
     },
     "metadata": {
      "needs_background": "light"
     },
     "output_type": "display_data"
    }
   ],
   "source": [
    "data.salario_padrao.plot.hist(bins=50)"
   ]
  },
  {
   "cell_type": "markdown",
   "metadata": {},
   "source": [
    "# Plota todos os gráficos com a curva de densidade de probabilidade"
   ]
  },
  {
   "cell_type": "code",
   "execution_count": 80,
   "metadata": {},
   "outputs": [
    {
     "data": {
      "image/png": "[encoded data removed]",
      "text/plain": [
       "<Figure size 1440x1440 with 6 Axes>"
      ]
     },
     "metadata": {
      "needs_background": "light"
     },
     "output_type": "display_data"
    }
   ],
   "source": [
    "fig, ax = plt.subplots(3, 2,figsize=(20,20)) #cria a matriz de plotagem com 6 graficos\n",
    "\n",
    "#plota o histograma do salario mensal\n",
    "x = data.salario_mensal\n",
    "ax[0,0].hist(x, bins=50, range=(0,5000))\n",
    "ax[0,0].set_title(\"Salário Mensal Hist\")\n",
    "\n",
    "#plota a curva de densidade do salario mensal\n",
    "x = data.salario_mensal.sort_values()\n",
    "# calculando a média\n",
    "mu = x.mean()\n",
    "# calculando o desvio padrão populacional\n",
    "sigma = x.std()#/len(df.salary)\n",
    "# plotando o gráfico com os valores de x e os valores normais da densidade de probabilidade\n",
    "ax[0,1].plot(x, stats.norm.pdf(x, mu, sigma))\n",
    "ax[0,1].set_title(\"Salário Mensal PDF\")\n",
    "\n",
    "#plota o histograma do salario normalizado\n",
    "x = data.salario_log\n",
    "ax[1,0].hist(x, bins=50)\n",
    "ax[1,0].set_title(\"Salário Norm Hist\")\n",
    "\n",
    "#plota a curva de densidade do salario mensal\n",
    "x = data.salario_log.sort_values()\n",
    "# calculando a média\n",
    "mu = x.mean()\n",
    "# calculando o desvio padrão populacional\n",
    "sigma = x.std()#/len(df.salary)\n",
    "# plotando o gráfico com os valores de x e os valores normais da densidade de probabilidade\n",
    "ax[1,1].plot(x, stats.norm.pdf(x, mu, sigma))\n",
    "ax[1,1].set_title(\"Salário LOG PDF\")\n",
    "\n",
    "#plota o histograma do salario Z\n",
    "x = data.salario_padrao\n",
    "ax[2,0].hist(x, bins=50)\n",
    "ax[2,0].set_title(\"Salário Z Hist\")\n",
    "\n",
    "#plota a curva de densidade do salario mensal\n",
    "x = data.salario_padrao.sort_values()\n",
    "# calculando a média\n",
    "mu = x.mean()\n",
    "# calculando o desvio padrão populacional\n",
    "sigma = x.std()#/len(df.salary)\n",
    "# plotando o gráfico com os valores de x e os valores normais da densidade de probabilidade\n",
    "ax[2,1].plot(x, stats.norm.pdf(x, mu, sigma))\n",
    "ax[2,1].set_title(\"Salário LOG PDF\")\n",
    "\n",
    "plt.show()"
   ]
  },
  {
   "cell_type": "markdown",
   "metadata": {},
   "source": [
    "<br>\n",
    "<img src=\"img/Exploração_Idade.png\">\n",
    "<br>"
   ]
  },
  {
   "cell_type": "markdown",
   "metadata": {},
   "source": [
    "**Analisa o tipo de dado da variával \"Idade\"**"
   ]
  },
  {
   "cell_type": "code",
   "execution_count": 81,
   "metadata": {},
   "outputs": [
    {
     "data": {
      "text/plain": [
       "dtype('float64')"
      ]
     },
     "execution_count": 81,
     "metadata": {},
     "output_type": "execute_result"
    }
   ],
   "source": [
    "data.salario_mensal.dtypes"
   ]
  },
  {
   "cell_type": "markdown",
   "metadata": {},
   "source": [
    "**Calcula a média, variância e desvio**"
   ]
  },
  {
   "cell_type": "code",
   "execution_count": 109,
   "metadata": {},
   "outputs": [
    {
     "name": "stdout",
     "output_type": "stream",
     "text": [
      "Registros: 2256752\n",
      "Média: 32.314226374896315\n",
      "Desvio-Padrão: 10.960189422168419\n",
      "Varância: 120.1257521698125\n"
     ]
    }
   ],
   "source": [
    "n_idade = len(data.idade)\n",
    "mean_idade = data.idade.mean()\n",
    "std_amostral_idade = np.std(data.idade, ddof=1) \n",
    "var_amostral_idade = std_amostral_idade**2\n",
    "\n",
    "print('Registros:',n_idade)\n",
    "print('Média:',mean_idade)\n",
    "print('Desvio-Padrão:',std_amostral_idade)\n",
    "print('Varância:',var_amostral_idade)"
   ]
  },
  {
   "cell_type": "markdown",
   "metadata": {},
   "source": [
    "**Plota o histograma**"
   ]
  },
  {
   "cell_type": "code",
   "execution_count": 111,
   "metadata": {},
   "outputs": [
    {
     "data": {
      "text/plain": [
       "<matplotlib.axes._subplots.AxesSubplot at 0x29b9f957320>"
      ]
     },
     "execution_count": 111,
     "metadata": {},
     "output_type": "execute_result"
    },
    {
     "data": {
      "image/png": "[encoded data removed]",
      "text/plain": [
       "<Figure size 432x288 with 1 Axes>"
      ]
     },
     "metadata": {
      "needs_background": "light"
     },
     "output_type": "display_data"
    }
   ],
   "source": [
    "data.idade.plot.hist(bins=25,)"
   ]
  },
  {
   "cell_type": "markdown",
   "metadata": {},
   "source": [
    "**Verifica se é uma distribuição normal com a função scipy.stats.shapiro**"
   ]
  },
  {
   "cell_type": "code",
   "execution_count": 112,
   "metadata": {},
   "outputs": [
    {
     "data": {
      "text/plain": [
       "(0.9411314725875854, 0.0)"
      ]
     },
     "execution_count": 112,
     "metadata": {},
     "output_type": "execute_result"
    }
   ],
   "source": [
    "stats.shapiro(data.idade)"
   ]
  },
  {
   "cell_type": "markdown",
   "metadata": {},
   "source": [
    "**Normaliza a curva utilizando LOG (numpy.log) e salva em uma nova coluna: \"idade_log\"**"
   ]
  },
  {
   "cell_type": "code",
   "execution_count": 114,
   "metadata": {},
   "outputs": [],
   "source": [
    "data[\"idade_log\"] = np.log(data.idade)"
   ]
  },
  {
   "cell_type": "markdown",
   "metadata": {},
   "source": [
    "**Verifica se é uma distribuição normal com a função scipy.stats.shapiro para idade_log (precisa de aproximar de (1,0))**"
   ]
  },
  {
   "cell_type": "code",
   "execution_count": 115,
   "metadata": {},
   "outputs": [
    {
     "data": {
      "text/plain": [
       "(0.9819164276123047, 0.0)"
      ]
     },
     "execution_count": 115,
     "metadata": {},
     "output_type": "execute_result"
    }
   ],
   "source": [
    "stats.shapiro(data.idade_log)"
   ]
  },
  {
   "cell_type": "markdown",
   "metadata": {},
   "source": [
    "**Plota o histograma para variável \"idade_log\"**"
   ]
  },
  {
   "cell_type": "code",
   "execution_count": 116,
   "metadata": {},
   "outputs": [
    {
     "data": {
      "text/plain": [
       "<matplotlib.axes._subplots.AxesSubplot at 0x29bcdc33dd8>"
      ]
     },
     "execution_count": 116,
     "metadata": {},
     "output_type": "execute_result"
    },
    {
     "data": {
      "image/png": "[encoded data removed]",
      "text/plain": [
       "<Figure size 432x288 with 1 Axes>"
      ]
     },
     "metadata": {
      "needs_background": "light"
     },
     "output_type": "display_data"
    }
   ],
   "source": [
    "data.idade_log.plot.hist(bins=25,)"
   ]
  },
  {
   "cell_type": "markdown",
   "metadata": {},
   "source": [
    "**Calcula a padronização Z**"
   ]
  },
  {
   "cell_type": "code",
   "execution_count": 117,
   "metadata": {},
   "outputs": [],
   "source": [
    "data[\"idade_padrao\"] = ( data.idade_log - data.idade_log.mean() ) / data.idade_log.std()"
   ]
  },
  {
   "cell_type": "markdown",
   "metadata": {},
   "source": [
    "**Plotar dispersão \"salario_log\" vs \"idade_log\" (Apenas os 10000 primeiros registros)**"
   ]
  },
  {
   "cell_type": "code",
   "execution_count": 118,
   "metadata": {},
   "outputs": [
    {
     "data": {
      "image/png": "[encoded data removed]",
      "text/plain": [
       "<Figure size 432x288 with 1 Axes>"
      ]
     },
     "metadata": {
      "needs_background": "light"
     },
     "output_type": "display_data"
    }
   ],
   "source": [
    "plt.plot(data.salario_log.head(10000), data.idade_log.head(10000),'o')\n",
    "plt.title('Dispersão entre Salário_log e Idade_log')\n",
    "plt.xlabel('salario_log')\n",
    "plt.ylabel('Idade_log')\n",
    "plt.show()"
   ]
  },
  {
   "cell_type": "markdown",
   "metadata": {},
   "source": [
    "**Mostra a correlação entre \"salario_log\" e \"idade_log\"**"
   ]
  },
  {
   "cell_type": "code",
   "execution_count": 119,
   "metadata": {},
   "outputs": [
    {
     "data": {
      "text/html": [
       "<div>\n",
       "<style scoped>\n",
       "    .dataframe tbody tr th:only-of-type {\n",
       "        vertical-align: middle;\n",
       "    }\n",
       "\n",
       "    .dataframe tbody tr th {\n",
       "        vertical-align: top;\n",
       "    }\n",
       "\n",
       "    .dataframe thead th {\n",
       "        text-align: right;\n",
       "    }\n",
       "</style>\n",
       "<table border=\"1\" class=\"dataframe\">\n",
       "  <thead>\n",
       "    <tr style=\"text-align: right;\">\n",
       "      <th></th>\n",
       "      <th>salario_log</th>\n",
       "      <th>idade_log</th>\n",
       "    </tr>\n",
       "  </thead>\n",
       "  <tbody>\n",
       "    <tr>\n",
       "      <th>salario_log</th>\n",
       "      <td>1.000000</td>\n",
       "      <td>0.153457</td>\n",
       "    </tr>\n",
       "    <tr>\n",
       "      <th>idade_log</th>\n",
       "      <td>0.153457</td>\n",
       "      <td>1.000000</td>\n",
       "    </tr>\n",
       "  </tbody>\n",
       "</table>\n",
       "</div>"
      ],
      "text/plain": [
       "             salario_log  idade_log\n",
       "salario_log     1.000000   0.153457\n",
       "idade_log       0.153457   1.000000"
      ]
     },
     "execution_count": 119,
     "metadata": {},
     "output_type": "execute_result"
    }
   ],
   "source": [
    "data[['salario_log',\n",
    "      'idade_log',\n",
    "    ]].corr(method ='pearson')"
   ]
  },
  {
   "cell_type": "markdown",
   "metadata": {},
   "source": [
    "<br>\n",
    "<img src=\"img/Exploração_Instrução.png\">\n",
    "<br>"
   ]
  },
  {
   "cell_type": "markdown",
   "metadata": {},
   "source": [
    "**Analisa o tipo de dado da variával \"Grau de Instrução\"**"
   ]
  },
  {
   "cell_type": "code",
   "execution_count": 82,
   "metadata": {},
   "outputs": [
    {
     "data": {
      "text/plain": [
       "dtype('int64')"
      ]
     },
     "execution_count": 82,
     "metadata": {},
     "output_type": "execute_result"
    }
   ],
   "source": [
    "data.grau_instrucao.dtypes"
   ]
  },
  {
   "cell_type": "markdown",
   "metadata": {},
   "source": [
    "**Calcula a média, variância e desvio padrão**"
   ]
  },
  {
   "cell_type": "code",
   "execution_count": 83,
   "metadata": {},
   "outputs": [
    {
     "name": "stdout",
     "output_type": "stream",
     "text": [
      "Registros: 2256752\n",
      "Média: 6.595547494806696\n",
      "Desvio-Padrão: 1.5485383327955375\n",
      "Varância: 2.397970968137183\n"
     ]
    }
   ],
   "source": [
    "n_grau_instrucao = len(data.grau_instrucao)\n",
    "mean_grau_instrucao = data.grau_instrucao.mean()\n",
    "std_amostral_grau_instrucao = np.std(data.grau_instrucao, ddof=1) \n",
    "var_amostral_grau_instrucao = std_amostral_grau_instrucao**2\n",
    "\n",
    "print('Registros:',n_grau_instrucao)\n",
    "print('Média:',mean_grau_instrucao)\n",
    "print('Desvio-Padrão:',std_amostral_grau_instrucao)\n",
    "print('Varância:',var_amostral_grau_instrucao)"
   ]
  },
  {
   "cell_type": "markdown",
   "metadata": {},
   "source": [
    "**Plota o histograma**"
   ]
  },
  {
   "cell_type": "code",
   "execution_count": 84,
   "metadata": {},
   "outputs": [
    {
     "data": {
      "text/plain": [
       "<matplotlib.axes._subplots.AxesSubplot at 0x29b9eed02b0>"
      ]
     },
     "execution_count": 84,
     "metadata": {},
     "output_type": "execute_result"
    },
    {
     "data": {
      "image/png": "[encoded data removed]",
      "text/plain": [
       "<Figure size 432x288 with 1 Axes>"
      ]
     },
     "metadata": {
      "needs_background": "light"
     },
     "output_type": "display_data"
    }
   ],
   "source": [
    "data.grau_instrucao.plot.hist(bins=25,)"
   ]
  },
  {
   "cell_type": "markdown",
   "metadata": {},
   "source": [
    "**Verifica se é uma distribuição normal com a função scipy.stats.shapiro**"
   ]
  },
  {
   "cell_type": "code",
   "execution_count": 85,
   "metadata": {},
   "outputs": [
    {
     "data": {
      "text/plain": [
       "(0.8100849986076355, 0.0)"
      ]
     },
     "execution_count": 85,
     "metadata": {},
     "output_type": "execute_result"
    }
   ],
   "source": [
    "stats.shapiro(data.grau_instrucao)"
   ]
  },
  {
   "cell_type": "markdown",
   "metadata": {},
   "source": [
    "**Normaliza a curva utilizando LOG (numpy.log) e salva em uma nova coluna \"grau_instrucao_log\"**"
   ]
  },
  {
   "cell_type": "code",
   "execution_count": 86,
   "metadata": {},
   "outputs": [],
   "source": [
    "data[\"grau_instrucao_log\"] = np.log(data.grau_instrucao)"
   ]
  },
  {
   "cell_type": "markdown",
   "metadata": {},
   "source": [
    "**Verifica se é uma distribuição normal com a função scipy.stats.shapiro para \"grau_instrucao_log\"**"
   ]
  },
  {
   "cell_type": "code",
   "execution_count": 87,
   "metadata": {},
   "outputs": [
    {
     "data": {
      "text/plain": [
       "(0.6717902421951294, 0.0)"
      ]
     },
     "execution_count": 87,
     "metadata": {},
     "output_type": "execute_result"
    }
   ],
   "source": [
    "stats.shapiro(data.grau_instrucao_log)"
   ]
  },
  {
   "cell_type": "markdown",
   "metadata": {},
   "source": [
    "**Calcula a padronização Z**"
   ]
  },
  {
   "cell_type": "code",
   "execution_count": 88,
   "metadata": {},
   "outputs": [],
   "source": [
    "data[\"grau_instrucao_padrao\"] = ( data.grau_instrucao - data.grau_instrucao.mean() ) / data.grau_instrucao.std()"
   ]
  },
  {
   "cell_type": "markdown",
   "metadata": {},
   "source": [
    "**Plotar dispersão salario_log vs grau_instrucao (Apenas os 10000 primeiros registros)**"
   ]
  },
  {
   "cell_type": "code",
   "execution_count": 89,
   "metadata": {},
   "outputs": [
    {
     "data": {
      "image/png": "[encoded data removed]",
      "text/plain": [
       "<Figure size 432x288 with 1 Axes>"
      ]
     },
     "metadata": {
      "needs_background": "light"
     },
     "output_type": "display_data"
    }
   ],
   "source": [
    "plt.plot(data.salario_log.head(10000), data.grau_instrucao.head(10000),'o')\n",
    "plt.title('Dispersão entre salario_log e grau_instrucao')\n",
    "plt.xlabel('salario_log')\n",
    "plt.ylabel('grau_instrução')\n",
    "plt.show()"
   ]
  },
  {
   "cell_type": "markdown",
   "metadata": {},
   "source": [
    "**Mostra a correlação entre salario_log e grau_instrucao**"
   ]
  },
  {
   "cell_type": "code",
   "execution_count": 90,
   "metadata": {},
   "outputs": [
    {
     "data": {
      "text/html": [
       "<div>\n",
       "<style scoped>\n",
       "    .dataframe tbody tr th:only-of-type {\n",
       "        vertical-align: middle;\n",
       "    }\n",
       "\n",
       "    .dataframe tbody tr th {\n",
       "        vertical-align: top;\n",
       "    }\n",
       "\n",
       "    .dataframe thead th {\n",
       "        text-align: right;\n",
       "    }\n",
       "</style>\n",
       "<table border=\"1\" class=\"dataframe\">\n",
       "  <thead>\n",
       "    <tr style=\"text-align: right;\">\n",
       "      <th></th>\n",
       "      <th>salario_log</th>\n",
       "      <th>grau_instrucao</th>\n",
       "    </tr>\n",
       "  </thead>\n",
       "  <tbody>\n",
       "    <tr>\n",
       "      <th>salario_log</th>\n",
       "      <td>1.000000</td>\n",
       "      <td>0.110415</td>\n",
       "    </tr>\n",
       "    <tr>\n",
       "      <th>grau_instrucao</th>\n",
       "      <td>0.110415</td>\n",
       "      <td>1.000000</td>\n",
       "    </tr>\n",
       "  </tbody>\n",
       "</table>\n",
       "</div>"
      ],
      "text/plain": [
       "                salario_log  grau_instrucao\n",
       "salario_log        1.000000        0.110415\n",
       "grau_instrucao     0.110415        1.000000"
      ]
     },
     "execution_count": 90,
     "metadata": {},
     "output_type": "execute_result"
    }
   ],
   "source": [
    "data[['salario_log',\n",
    "      'grau_instrucao',\n",
    "    ]].corr(method ='pearson')"
   ]
  },
  {
   "cell_type": "markdown",
   "metadata": {},
   "source": [
    "**CONCLUSÕES**"
   ]
  },
  {
   "cell_type": "markdown",
   "metadata": {},
   "source": [
    "<br>\n",
    "<img src=\"img/Exploração_Sexo.png\">\n",
    "<br>"
   ]
  },
  {
   "cell_type": "markdown",
   "metadata": {},
   "source": [
    "**Analisa o tipo de dado da variával \"Sexo\"**"
   ]
  },
  {
   "cell_type": "code",
   "execution_count": 91,
   "metadata": {},
   "outputs": [
    {
     "data": {
      "text/plain": [
       "dtype('int64')"
      ]
     },
     "execution_count": 91,
     "metadata": {},
     "output_type": "execute_result"
    }
   ],
   "source": [
    "data.sexo.dtypes"
   ]
  },
  {
   "cell_type": "markdown",
   "metadata": {},
   "source": [
    "**Calcula a média, variância e desvio padrão**"
   ]
  },
  {
   "cell_type": "code",
   "execution_count": 92,
   "metadata": {},
   "outputs": [
    {
     "name": "stdout",
     "output_type": "stream",
     "text": [
      "Registros: 2256752\n",
      "Média: 1.4137029678050579\n",
      "Desvio-Padrão: 0.4924966291446393\n",
      "Varância: 0.24255292971883238\n"
     ]
    }
   ],
   "source": [
    "n_sexo = len(data.sexo)\n",
    "mean_sexo = data.sexo.mean()\n",
    "std_amostral_sexo = np.std(data.sexo, ddof=1) \n",
    "var_amostral_sexo = std_amostral_sexo**2\n",
    "\n",
    "print('Registros:',n_sexo)\n",
    "print('Média:',mean_sexo)\n",
    "print('Desvio-Padrão:',std_amostral_sexo)\n",
    "print('Varância:',var_amostral_sexo)"
   ]
  },
  {
   "cell_type": "markdown",
   "metadata": {},
   "source": [
    "**Plota o histograma**"
   ]
  },
  {
   "cell_type": "code",
   "execution_count": 93,
   "metadata": {},
   "outputs": [
    {
     "data": {
      "text/plain": [
       "<matplotlib.axes._subplots.AxesSubplot at 0x29b9f7b5da0>"
      ]
     },
     "execution_count": 93,
     "metadata": {},
     "output_type": "execute_result"
    },
    {
     "data": {
      "image/png": "[encoded data removed]",
      "text/plain": [
       "<Figure size 432x288 with 1 Axes>"
      ]
     },
     "metadata": {
      "needs_background": "light"
     },
     "output_type": "display_data"
    }
   ],
   "source": [
    "data.sexo.plot.hist()"
   ]
  },
  {
   "cell_type": "markdown",
   "metadata": {},
   "source": [
    "**Plotar dispersão salario_log vs sexo (Apenas os 10000 primeiros registros)**"
   ]
  },
  {
   "cell_type": "code",
   "execution_count": 94,
   "metadata": {},
   "outputs": [
    {
     "data": {
      "image/png": "[encoded data removed]",
      "text/plain": [
       "<Figure size 432x288 with 1 Axes>"
      ]
     },
     "metadata": {
      "needs_background": "light"
     },
     "output_type": "display_data"
    }
   ],
   "source": [
    "plt.plot(data.salario_log.head(10000), data.sexo.head(10000),'o')\n",
    "plt.title('Dispersão entre salario_log e sexo')\n",
    "plt.xlabel('salario_log')\n",
    "plt.ylabel('grau_instrução')\n",
    "plt.show()"
   ]
  },
  {
   "cell_type": "markdown",
   "metadata": {},
   "source": [
    "**Correlação entre salario_log e sexo**"
   ]
  },
  {
   "cell_type": "code",
   "execution_count": 95,
   "metadata": {},
   "outputs": [
    {
     "data": {
      "text/html": [
       "<div>\n",
       "<style scoped>\n",
       "    .dataframe tbody tr th:only-of-type {\n",
       "        vertical-align: middle;\n",
       "    }\n",
       "\n",
       "    .dataframe tbody tr th {\n",
       "        vertical-align: top;\n",
       "    }\n",
       "\n",
       "    .dataframe thead th {\n",
       "        text-align: right;\n",
       "    }\n",
       "</style>\n",
       "<table border=\"1\" class=\"dataframe\">\n",
       "  <thead>\n",
       "    <tr style=\"text-align: right;\">\n",
       "      <th></th>\n",
       "      <th>salario_log</th>\n",
       "      <th>sexo</th>\n",
       "    </tr>\n",
       "  </thead>\n",
       "  <tbody>\n",
       "    <tr>\n",
       "      <th>salario_log</th>\n",
       "      <td>1.000000</td>\n",
       "      <td>-0.063652</td>\n",
       "    </tr>\n",
       "    <tr>\n",
       "      <th>sexo</th>\n",
       "      <td>-0.063652</td>\n",
       "      <td>1.000000</td>\n",
       "    </tr>\n",
       "  </tbody>\n",
       "</table>\n",
       "</div>"
      ],
      "text/plain": [
       "             salario_log      sexo\n",
       "salario_log     1.000000 -0.063652\n",
       "sexo           -0.063652  1.000000"
      ]
     },
     "execution_count": 95,
     "metadata": {},
     "output_type": "execute_result"
    }
   ],
   "source": [
    "data[['salario_log',\n",
    "      'sexo',\n",
    "    ]].corr(method ='pearson')"
   ]
  },
  {
   "cell_type": "markdown",
   "metadata": {},
   "source": [
    "**CONCLUSÕES**"
   ]
  },
  {
   "cell_type": "markdown",
   "metadata": {},
   "source": [
    "<br>\n",
    "<img src=\"img/Exploração_RacaCor.png\">\n",
    "<br>"
   ]
  },
  {
   "cell_type": "markdown",
   "metadata": {},
   "source": [
    "**Analisa o tipo de dado da variável raça cor**"
   ]
  },
  {
   "cell_type": "code",
   "execution_count": 96,
   "metadata": {},
   "outputs": [
    {
     "data": {
      "text/plain": [
       "dtype('int64')"
      ]
     },
     "execution_count": 96,
     "metadata": {},
     "output_type": "execute_result"
    }
   ],
   "source": [
    "data.raca_cor.dtypes"
   ]
  },
  {
   "cell_type": "markdown",
   "metadata": {},
   "source": [
    "**Calcula a média, variância e desvio padrão**"
   ]
  },
  {
   "cell_type": "code",
   "execution_count": 97,
   "metadata": {},
   "outputs": [
    {
     "name": "stdout",
     "output_type": "stream",
     "text": [
      "Registros: 2256752\n",
      "Média: 5.254455961488015\n",
      "Desvio-Padrão: 3.0665596516038414\n",
      "Varância: 9.403788096844673\n"
     ]
    }
   ],
   "source": [
    "n_raca_cor = len(data.raca_cor)\n",
    "mean_raca_cor = data.raca_cor.mean()\n",
    "std_amostral_raca_cor = np.std(data.raca_cor, ddof=1) \n",
    "var_amostral_raca_cor = std_amostral_raca_cor**2\n",
    "\n",
    "print('Registros:',n_raca_cor)\n",
    "print('Média:',mean_raca_cor)\n",
    "print('Desvio-Padrão:',std_amostral_raca_cor)\n",
    "print('Varância:',var_amostral_raca_cor)"
   ]
  },
  {
   "cell_type": "markdown",
   "metadata": {},
   "source": [
    "**Plota o histograma**"
   ]
  },
  {
   "cell_type": "code",
   "execution_count": 98,
   "metadata": {},
   "outputs": [
    {
     "data": {
      "text/plain": [
       "<matplotlib.axes._subplots.AxesSubplot at 0x29c1b840b00>"
      ]
     },
     "execution_count": 98,
     "metadata": {},
     "output_type": "execute_result"
    },
    {
     "data": {
      "image/png": "[encoded data removed]",
      "text/plain": [
       "<Figure size 432x288 with 1 Axes>"
      ]
     },
     "metadata": {
      "needs_background": "light"
     },
     "output_type": "display_data"
    }
   ],
   "source": [
    "data.raca_cor.plot.hist()\n",
    "\n"
   ]
  },
  {
   "cell_type": "markdown",
   "metadata": {},
   "source": [
    "**Plota a dispersão \"salario_log\" vs \"sexo\" (Apenas os 10000 primeiros registros)**"
   ]
  },
  {
   "cell_type": "code",
   "execution_count": 99,
   "metadata": {},
   "outputs": [
    {
     "data": {
      "image/png": "[encoded data removed]",
      "text/plain": [
       "<Figure size 432x288 with 1 Axes>"
      ]
     },
     "metadata": {
      "needs_background": "light"
     },
     "output_type": "display_data"
    }
   ],
   "source": [
    "plt.plot(data.salario_log.head(10000), data.raca_cor.head(10000),'o')\n",
    "plt.title('Dispersão entre salario_log e raca_cor')\n",
    "plt.xlabel('salario_log')\n",
    "plt.ylabel('raca_cor')\n",
    "plt.show()"
   ]
  },
  {
   "cell_type": "markdown",
   "metadata": {},
   "source": [
    "**Mostra correlação entre salario_log e raca_cor**"
   ]
  },
  {
   "cell_type": "code",
   "execution_count": 100,
   "metadata": {},
   "outputs": [
    {
     "data": {
      "text/html": [
       "<div>\n",
       "<style scoped>\n",
       "    .dataframe tbody tr th:only-of-type {\n",
       "        vertical-align: middle;\n",
       "    }\n",
       "\n",
       "    .dataframe tbody tr th {\n",
       "        vertical-align: top;\n",
       "    }\n",
       "\n",
       "    .dataframe thead th {\n",
       "        text-align: right;\n",
       "    }\n",
       "</style>\n",
       "<table border=\"1\" class=\"dataframe\">\n",
       "  <thead>\n",
       "    <tr style=\"text-align: right;\">\n",
       "      <th></th>\n",
       "      <th>salario_log</th>\n",
       "      <th>raca_cor</th>\n",
       "    </tr>\n",
       "  </thead>\n",
       "  <tbody>\n",
       "    <tr>\n",
       "      <th>salario_log</th>\n",
       "      <td>1.00000</td>\n",
       "      <td>-0.06586</td>\n",
       "    </tr>\n",
       "    <tr>\n",
       "      <th>raca_cor</th>\n",
       "      <td>-0.06586</td>\n",
       "      <td>1.00000</td>\n",
       "    </tr>\n",
       "  </tbody>\n",
       "</table>\n",
       "</div>"
      ],
      "text/plain": [
       "             salario_log  raca_cor\n",
       "salario_log      1.00000  -0.06586\n",
       "raca_cor        -0.06586   1.00000"
      ]
     },
     "execution_count": 100,
     "metadata": {},
     "output_type": "execute_result"
    }
   ],
   "source": [
    "data[['salario_log',\n",
    "      'raca_cor',\n",
    "    ]].corr(method ='pearson')"
   ]
  },
  {
   "cell_type": "code",
   "execution_count": 104,
   "metadata": {},
   "outputs": [
    {
     "name": "stdout",
     "output_type": "stream",
     "text": [
      "Média salário Indígena: 1767.2401253918495\n",
      "Média salário branco: 1824.9111422037026\n",
      "Média salário negro: 1451.7972360229858\n",
      "Média salário amarelo: 2111.330215239306\n",
      "Média salário pardo: 1459.304827614948\n",
      "Média salário nd: 1497.2058303944511\n",
      "Média salário ignorado: nan\n",
      "Média salário branco padrão: 0.09423837082385148\n"
     ]
    }
   ],
   "source": [
    "data_indigena = data.loc[data.raca_cor == 1 , ['salario_log', 'raca_cor', 'salario_mensal']]\n",
    "data_branco = data.loc[data.raca_cor == 2 , ['salario_log', 'raca_cor', 'salario_mensal']]\n",
    "data_negro = data.loc[data.raca_cor == 4 , ['salario_log', 'raca_cor', 'salario_mensal']]\n",
    "data_amarelo = data.loc[data.raca_cor == 6 , ['salario_log', 'raca_cor', 'salario_mensal']]\n",
    "data_pardo = data.loc[data.raca_cor == 8 , ['salario_log', 'raca_cor', 'salario_mensal']]\n",
    "data_nd = data.loc[data.raca_cor == 9 , ['salario_log', 'raca_cor', 'salario_mensal']]\n",
    "data_ignorado = data.loc[data.raca_cor == -1 , ['salario_log', 'raca_cor', 'salario_mensal']]\n",
    "\n",
    "mean_salario_indigena = data_indigena.salario_mensal.mean()\n",
    "mean_salario_branco = data_branco.salario_mensal.mean()\n",
    "mean_salario_negro = data_negro.salario_mensal.mean()\n",
    "mean_salario_amarelo = data_amarelo.salario_mensal.mean()\n",
    "mean_salario_pardo = data_pardo.salario_mensal.mean()\n",
    "mean_salario_nd = data_nd.salario_mensal.mean()\n",
    "mean_salario_ignorado = data_ignorado.salario_mensal.mean()\n",
    "\n",
    "\n",
    "mean_salario_branco_padrao = (mean_salario_branco - mean_salario) / std_amostral_salario\n",
    "\n",
    "print('Média salário Indígena:',mean_salario_indigena)\n",
    "print('Média salário branco:',mean_salario_branco)\n",
    "print('Média salário negro:',mean_salario_negro)\n",
    "print('Média salário amarelo:',mean_salario_amarelo)\n",
    "print('Média salário pardo:',mean_salario_pardo)\n",
    "print('Média salário nd:',mean_salario_nd)\n",
    "print('Média salário ignorado:',mean_salario_ignorado)\n",
    "print('Média salário branco padrão:',mean_salario_branco_padrao)"
   ]
  },
  {
   "cell_type": "code",
   "execution_count": null,
   "metadata": {},
   "outputs": [],
   "source": []
  },
  {
   "cell_type": "markdown",
   "metadata": {},
   "source": [
    "<br>\n",
    "<img src=\"img/Hipotese.png\">\n",
    "<br>"
   ]
  },
  {
   "cell_type": "markdown",
   "metadata": {},
   "source": [
    "<br>\n",
    "<img src=\"img/Correlações.png\">\n",
    "<br>"
   ]
  },
  {
   "cell_type": "markdown",
   "metadata": {},
   "source": [
    "**Exibe a correlação entre variáveis numéricas**"
   ]
  },
  {
   "cell_type": "code",
   "execution_count": 120,
   "metadata": {},
   "outputs": [
    {
     "data": {
      "text/html": [
       "<div>\n",
       "<style scoped>\n",
       "    .dataframe tbody tr th:only-of-type {\n",
       "        vertical-align: middle;\n",
       "    }\n",
       "\n",
       "    .dataframe tbody tr th {\n",
       "        vertical-align: top;\n",
       "    }\n",
       "\n",
       "    .dataframe thead th {\n",
       "        text-align: right;\n",
       "    }\n",
       "</style>\n",
       "<table border=\"1\" class=\"dataframe\">\n",
       "  <thead>\n",
       "    <tr style=\"text-align: right;\">\n",
       "      <th></th>\n",
       "      <th>salario_log</th>\n",
       "      <th>idade_log</th>\n",
       "      <th>admitidos_desligados</th>\n",
       "      <th>grau_instrucao</th>\n",
       "      <th>qtd_hora_contrat</th>\n",
       "      <th>raca_cor</th>\n",
       "      <th>sexo</th>\n",
       "      <th>tempo_emprego</th>\n",
       "    </tr>\n",
       "  </thead>\n",
       "  <tbody>\n",
       "    <tr>\n",
       "      <th>salario_log</th>\n",
       "      <td>1.000000</td>\n",
       "      <td>0.153457</td>\n",
       "      <td>0.018844</td>\n",
       "      <td>0.110415</td>\n",
       "      <td>0.328399</td>\n",
       "      <td>-0.065860</td>\n",
       "      <td>-0.063652</td>\n",
       "      <td>0.126529</td>\n",
       "    </tr>\n",
       "    <tr>\n",
       "      <th>idade_log</th>\n",
       "      <td>0.153457</td>\n",
       "      <td>1.000000</td>\n",
       "      <td>0.110425</td>\n",
       "      <td>-0.089976</td>\n",
       "      <td>0.101038</td>\n",
       "      <td>-0.029238</td>\n",
       "      <td>-0.064082</td>\n",
       "      <td>0.252897</td>\n",
       "    </tr>\n",
       "    <tr>\n",
       "      <th>admitidos_desligados</th>\n",
       "      <td>0.018844</td>\n",
       "      <td>0.110425</td>\n",
       "      <td>1.000000</td>\n",
       "      <td>-0.031150</td>\n",
       "      <td>-0.058134</td>\n",
       "      <td>-0.039206</td>\n",
       "      <td>-0.013509</td>\n",
       "      <td>0.332575</td>\n",
       "    </tr>\n",
       "    <tr>\n",
       "      <th>grau_instrucao</th>\n",
       "      <td>0.110415</td>\n",
       "      <td>-0.089976</td>\n",
       "      <td>-0.031150</td>\n",
       "      <td>1.000000</td>\n",
       "      <td>-0.155670</td>\n",
       "      <td>-0.062680</td>\n",
       "      <td>0.205090</td>\n",
       "      <td>0.041182</td>\n",
       "    </tr>\n",
       "    <tr>\n",
       "      <th>qtd_hora_contrat</th>\n",
       "      <td>0.328399</td>\n",
       "      <td>0.101038</td>\n",
       "      <td>-0.058134</td>\n",
       "      <td>-0.155670</td>\n",
       "      <td>1.000000</td>\n",
       "      <td>0.049328</td>\n",
       "      <td>-0.114000</td>\n",
       "      <td>-0.063910</td>\n",
       "    </tr>\n",
       "    <tr>\n",
       "      <th>raca_cor</th>\n",
       "      <td>-0.065860</td>\n",
       "      <td>-0.029238</td>\n",
       "      <td>-0.039206</td>\n",
       "      <td>-0.062680</td>\n",
       "      <td>0.049328</td>\n",
       "      <td>1.000000</td>\n",
       "      <td>-0.059259</td>\n",
       "      <td>-0.092636</td>\n",
       "    </tr>\n",
       "    <tr>\n",
       "      <th>sexo</th>\n",
       "      <td>-0.063652</td>\n",
       "      <td>-0.064082</td>\n",
       "      <td>-0.013509</td>\n",
       "      <td>0.205090</td>\n",
       "      <td>-0.114000</td>\n",
       "      <td>-0.059259</td>\n",
       "      <td>1.000000</td>\n",
       "      <td>0.009666</td>\n",
       "    </tr>\n",
       "    <tr>\n",
       "      <th>tempo_emprego</th>\n",
       "      <td>0.126529</td>\n",
       "      <td>0.252897</td>\n",
       "      <td>0.332575</td>\n",
       "      <td>0.041182</td>\n",
       "      <td>-0.063910</td>\n",
       "      <td>-0.092636</td>\n",
       "      <td>0.009666</td>\n",
       "      <td>1.000000</td>\n",
       "    </tr>\n",
       "  </tbody>\n",
       "</table>\n",
       "</div>"
      ],
      "text/plain": [
       "                      salario_log  idade_log  admitidos_desligados  \\\n",
       "salario_log              1.000000   0.153457              0.018844   \n",
       "idade_log                0.153457   1.000000              0.110425   \n",
       "admitidos_desligados     0.018844   0.110425              1.000000   \n",
       "grau_instrucao           0.110415  -0.089976             -0.031150   \n",
       "qtd_hora_contrat         0.328399   0.101038             -0.058134   \n",
       "raca_cor                -0.065860  -0.029238             -0.039206   \n",
       "sexo                    -0.063652  -0.064082             -0.013509   \n",
       "tempo_emprego            0.126529   0.252897              0.332575   \n",
       "\n",
       "                      grau_instrucao  qtd_hora_contrat  raca_cor      sexo  \\\n",
       "salario_log                 0.110415          0.328399 -0.065860 -0.063652   \n",
       "idade_log                  -0.089976          0.101038 -0.029238 -0.064082   \n",
       "admitidos_desligados       -0.031150         -0.058134 -0.039206 -0.013509   \n",
       "grau_instrucao              1.000000         -0.155670 -0.062680  0.205090   \n",
       "qtd_hora_contrat           -0.155670          1.000000  0.049328 -0.114000   \n",
       "raca_cor                   -0.062680          0.049328  1.000000 -0.059259   \n",
       "sexo                        0.205090         -0.114000 -0.059259  1.000000   \n",
       "tempo_emprego               0.041182         -0.063910 -0.092636  0.009666   \n",
       "\n",
       "                      tempo_emprego  \n",
       "salario_log                0.126529  \n",
       "idade_log                  0.252897  \n",
       "admitidos_desligados       0.332575  \n",
       "grau_instrucao             0.041182  \n",
       "qtd_hora_contrat          -0.063910  \n",
       "raca_cor                  -0.092636  \n",
       "sexo                       0.009666  \n",
       "tempo_emprego              1.000000  "
      ]
     },
     "execution_count": 120,
     "metadata": {},
     "output_type": "execute_result"
    }
   ],
   "source": [
    "data[['salario_log',\n",
    "      'idade_log',\n",
    "      'admitidos_desligados',\n",
    "      'grau_instrucao',\n",
    "      'qtd_hora_contrat',\n",
    "      'raca_cor',\n",
    "      'sexo',\n",
    "      'tempo_emprego'\n",
    "     ]].corr(method ='pearson')"
   ]
  },
  {
   "cell_type": "code",
   "execution_count": null,
   "metadata": {},
   "outputs": [],
   "source": []
  }
 ],
 "metadata": {
  "kernelspec": {
   "display_name": "Python 3",
   "language": "python",
   "name": "python3"
  },
  "language_info": {
   "codemirror_mode": {
    "name": "ipython",
    "version": 3
   },
   "file_extension": ".py",
   "mimetype": "text/x-python",
   "name": "python",
   "nbconvert_exporter": "python",
   "pygments_lexer": "ipython3",
   "version": "3.7.1"
  }
 },
 "nbformat": 4,
 "nbformat_minor": 2
}
