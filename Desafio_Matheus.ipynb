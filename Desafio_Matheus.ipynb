{
 "cells": [
  {
   "cell_type": "markdown",
   "metadata": {},
   "source": [
    "## 1 - IMPORTANDO DADOS"
   ]
  },
  {
   "cell_type": "code",
   "execution_count": 1,
   "metadata": {},
   "outputs": [],
   "source": [
    "#importa bibliotecas\n",
    "import matplotlib.pyplot as plt\n",
    "import matplotlib as mpl\n",
    "%matplotlib inline\n",
    "import numpy as np\n",
    "import pandas as pd\n",
    "from scipy import stats\n",
    "import seaborn as sns\n",
    "\n",
    "import warnings\n",
    "warnings.filterwarnings(\"ignore\")"
   ]
  },
  {
   "cell_type": "code",
   "execution_count": 3,
   "metadata": {},
   "outputs": [],
   "source": [
    "#abre arquivo e importa em um dataframe\n",
    "\n",
    "data = pd.read_csv('Fonte IBGE/CAGEDEST_122018.txt', encoding = 'ISO-8859-1', decimal = ',', delimiter = ';')"
   ]
  },
  {
   "cell_type": "code",
   "execution_count": 4,
   "metadata": {},
   "outputs": [
    {
     "data": {
      "text/plain": [
       "Index(['Admitidos/Desligados', 'Competência Declarada', 'Município',\n",
       "       'Ano Declarado', 'CBO 2002 Ocupação', 'CNAE 1.0 Classe',\n",
       "       'CNAE 2.0 Classe', 'CNAE 2.0 Subclas', 'Faixa Empr Início Jan',\n",
       "       'Grau Instrução', 'Qtd Hora Contrat', 'IBGE Subsetor', 'Idade',\n",
       "       'Ind Aprendiz', 'Ind Portador Defic', 'Raça Cor', 'Salário Mensal',\n",
       "       'Saldo Mov', 'Sexo', 'Tempo Emprego', 'Tipo Estab', 'Tipo Defic',\n",
       "       'Tipo Mov Desagregado', 'UF', 'Bairros SP', 'Bairros Fortaleza',\n",
       "       'Bairros RJ', 'Distritos SP', 'Regiões Adm DF', 'Mesorregião',\n",
       "       'Microrregião', 'Região Adm RJ', 'Região Adm SP', 'Região Corede',\n",
       "       'Região Corede 04', 'Região Gov SP', 'Região Senac PR',\n",
       "       'Região Senai PR', 'Região Senai SP', 'Sub-Região Senai PR',\n",
       "       'Ind Trab Parcial', 'Ind Trab Intermitente'],\n",
       "      dtype='object')"
      ]
     },
     "execution_count": 4,
     "metadata": {},
     "output_type": "execute_result"
    }
   ],
   "source": [
    "#verifica quais são as colunas\n",
    "data.columns"
   ]
  },
  {
   "cell_type": "code",
   "execution_count": 5,
   "metadata": {},
   "outputs": [],
   "source": [
    "#renomeia o nome das colunas para facilitar a analize\n",
    "data.rename(columns={'Admitidos/Desligados': 'admitidos_desligados', \n",
    "                     'Competência Declarada': 'competencia_declarada', \n",
    "                     'Município': 'municipio',\n",
    "                     'Ano Declarado' : 'ano_declarado',\n",
    "                     'CBO 2002 Ocupação' : 'cbo_2002_ocupacao',\n",
    "                     'CNAE 1.0 Classe' : 'cnae_10_classe',\n",
    "                     'CNAE 2.0 Classe' : 'cnae_20_classe',\n",
    "                     'CNAE 2.0 Subclas' : 'cnae_20_subclas',\n",
    "                     'Faixa Empr Início Jan' : 'faixa_empr_ini_jan',\n",
    "                     'Grau Instrução' : 'grau_instrucao',\n",
    "                     'Qtd Hora Contrat' : 'qtd_hora_contrat',\n",
    "                     'IBGE Subsetor' : 'ibge_subsetor',\n",
    "                     'Idade' : 'idade',\n",
    "                     'Ind Aprendiz' : 'ind_aprendiz', \n",
    "                     'Ind Portador Defic' : 'ind_portador_defic',\n",
    "                     'Raça Cor' : 'raca_cor',\n",
    "                     'Salário Mensal':'salario_mensal',\n",
    "                     'Saldo Mov':'salario_mov',\n",
    "                     'Sexo':'sexo',\n",
    "                     'Tempo Emprego':'tempo_emprego',\n",
    "                     'Tipo Estab':'tipo_estab',\n",
    "                     'Tipo Defic':'tipo_defic',\n",
    "                     'Tipo Mov Desagregado':'tipo_mov_desagregado',\n",
    "                     'UF':'uf',\n",
    "                     'Bairros SP':'bairros_sp',\n",
    "                     'Bairros Fortaleza':'bairros_fortaleza',\n",
    "                     'Bairros RJ':'bairros_rj',\n",
    "                     'Distritos SP':'distritos_sp',\n",
    "                     'Regiões Adm DF':'regioes_adm_df',\n",
    "                     'Mesorregião':'mesoregiao',\n",
    "                     'Microrregião':'microregiao',\n",
    "                     'Região Adm RJ':'regiao_adm_rj',\n",
    "                     'Região Adm SP':'regiao_adm_sp',\n",
    "                     'Região Corede':'regiao_corede',\n",
    "                     'Região Corede 04':'regiao_corede_04',\n",
    "                     'Região Gov SP':'regiao_gov_sp',\n",
    "                     'Região Senac PR':'regiao_senac_pr',\n",
    "                     'Região Senai PR':'regiao_senai_pr',\n",
    "                     'Região Senai SP':'regiao_senai_sp',\n",
    "                     'Sub-Região Senai PR':'subregiao_senai_pr',\n",
    "                     'Ind Trab Parcial':'ind_trab_parcial',\n",
    "                     'Ind Trab Intermitente':'ind_trab_intermitente'}, inplace=True)"
   ]
  },
  {
   "cell_type": "code",
   "execution_count": 6,
   "metadata": {},
   "outputs": [
    {
     "data": {
      "text/plain": [
       "Index(['admitidos_desligados', 'competencia_declarada', 'municipio',\n",
       "       'ano_declarado', 'cbo_2002_ocupacao', 'cnae_10_classe',\n",
       "       'cnae_20_classe', 'cnae_20_subclas', 'faixa_empr_ini_jan',\n",
       "       'grau_instrucao', 'qtd_hora_contrat', 'ibge_subsetor', 'idade',\n",
       "       'ind_aprendiz', 'ind_portador_defic', 'raca_cor', 'salario_mensal',\n",
       "       'salario_mov', 'sexo', 'tempo_emprego', 'tipo_estab', 'tipo_defic',\n",
       "       'tipo_mov_desagregado', 'uf', 'bairros_sp', 'bairros_fortaleza',\n",
       "       'bairros_rj', 'distritos_sp', 'regioes_adm_df', 'mesoregiao',\n",
       "       'microregiao', 'regiao_adm_rj', 'regiao_adm_sp', 'regiao_corede',\n",
       "       'regiao_corede_04', 'regiao_gov_sp', 'regiao_senac_pr',\n",
       "       'regiao_senai_pr', 'regiao_senai_sp', 'subregiao_senai_pr',\n",
       "       'ind_trab_parcial', 'ind_trab_intermitente'],\n",
       "      dtype='object')"
      ]
     },
     "execution_count": 6,
     "metadata": {},
     "output_type": "execute_result"
    }
   ],
   "source": [
    "#verifica as colunas renomeadas\n",
    "data.columns"
   ]
  },
  {
   "cell_type": "code",
   "execution_count": 7,
   "metadata": {},
   "outputs": [
    {
     "name": "stdout",
     "output_type": "stream",
     "text": [
      "<class 'pandas.core.frame.DataFrame'>\n",
      "RangeIndex: 2256752 entries, 0 to 2256751\n",
      "Data columns (total 42 columns):\n",
      "admitidos_desligados     int64\n",
      "competencia_declarada    int64\n",
      "municipio                int64\n",
      "ano_declarado            int64\n",
      "cbo_2002_ocupacao        int64\n",
      "cnae_10_classe           int64\n",
      "cnae_20_classe           int64\n",
      "cnae_20_subclas          int64\n",
      "faixa_empr_ini_jan       int64\n",
      "grau_instrucao           int64\n",
      "qtd_hora_contrat         int64\n",
      "ibge_subsetor            int64\n",
      "idade                    int64\n",
      "ind_aprendiz             int64\n",
      "ind_portador_defic       int64\n",
      "raca_cor                 int64\n",
      "salario_mensal           float64\n",
      "salario_mov              int64\n",
      "sexo                     int64\n",
      "tempo_emprego            float64\n",
      "tipo_estab               int64\n",
      "tipo_defic               int64\n",
      "tipo_mov_desagregado     int64\n",
      "uf                       int64\n",
      "bairros_sp               object\n",
      "bairros_fortaleza        object\n",
      "bairros_rj               object\n",
      "distritos_sp             object\n",
      "regioes_adm_df           int64\n",
      "mesoregiao               int64\n",
      "microregiao              int64\n",
      "regiao_adm_rj            object\n",
      "regiao_adm_sp            object\n",
      "regiao_corede            object\n",
      "regiao_corede_04         object\n",
      "regiao_gov_sp            object\n",
      "regiao_senac_pr          object\n",
      "regiao_senai_pr          object\n",
      "regiao_senai_sp          object\n",
      "subregiao_senai_pr       object\n",
      "ind_trab_parcial         int64\n",
      "ind_trab_intermitente    int64\n",
      "dtypes: float64(2), int64(27), object(13)\n",
      "memory usage: 723.1+ MB\n"
     ]
    }
   ],
   "source": [
    "#verifica informações basicas do dataframe\n",
    "data.info()"
   ]
  },
  {
   "cell_type": "code",
   "execution_count": 8,
   "metadata": {},
   "outputs": [
    {
     "data": {
      "text/plain": [
       "(2256752, 42)"
      ]
     },
     "execution_count": 8,
     "metadata": {},
     "output_type": "execute_result"
    }
   ],
   "source": [
    "data.shape"
   ]
  },
  {
   "cell_type": "code",
   "execution_count": 9,
   "metadata": {},
   "outputs": [
    {
     "data": {
      "text/html": [
       "<div>\n",
       "<style scoped>\n",
       "    .dataframe tbody tr th:only-of-type {\n",
       "        vertical-align: middle;\n",
       "    }\n",
       "\n",
       "    .dataframe tbody tr th {\n",
       "        vertical-align: top;\n",
       "    }\n",
       "\n",
       "    .dataframe thead th {\n",
       "        text-align: right;\n",
       "    }\n",
       "</style>\n",
       "<table border=\"1\" class=\"dataframe\">\n",
       "  <thead>\n",
       "    <tr style=\"text-align: right;\">\n",
       "      <th></th>\n",
       "      <th>admitidos_desligados</th>\n",
       "      <th>competencia_declarada</th>\n",
       "      <th>municipio</th>\n",
       "      <th>ano_declarado</th>\n",
       "      <th>cbo_2002_ocupacao</th>\n",
       "      <th>cnae_10_classe</th>\n",
       "      <th>cnae_20_classe</th>\n",
       "      <th>cnae_20_subclas</th>\n",
       "      <th>faixa_empr_ini_jan</th>\n",
       "      <th>grau_instrucao</th>\n",
       "      <th>...</th>\n",
       "      <th>tempo_emprego</th>\n",
       "      <th>tipo_estab</th>\n",
       "      <th>tipo_defic</th>\n",
       "      <th>tipo_mov_desagregado</th>\n",
       "      <th>uf</th>\n",
       "      <th>regioes_adm_df</th>\n",
       "      <th>mesoregiao</th>\n",
       "      <th>microregiao</th>\n",
       "      <th>ind_trab_parcial</th>\n",
       "      <th>ind_trab_intermitente</th>\n",
       "    </tr>\n",
       "  </thead>\n",
       "  <tbody>\n",
       "    <tr>\n",
       "      <th>count</th>\n",
       "      <td>2.256752e+06</td>\n",
       "      <td>2256752.0</td>\n",
       "      <td>2.256752e+06</td>\n",
       "      <td>2256752.0</td>\n",
       "      <td>2.256752e+06</td>\n",
       "      <td>2.256752e+06</td>\n",
       "      <td>2.256752e+06</td>\n",
       "      <td>2.256752e+06</td>\n",
       "      <td>2.256752e+06</td>\n",
       "      <td>2.256752e+06</td>\n",
       "      <td>...</td>\n",
       "      <td>2.256752e+06</td>\n",
       "      <td>2.256752e+06</td>\n",
       "      <td>2.256752e+06</td>\n",
       "      <td>2.256752e+06</td>\n",
       "      <td>2.256752e+06</td>\n",
       "      <td>2.256752e+06</td>\n",
       "      <td>2.256752e+06</td>\n",
       "      <td>2.256752e+06</td>\n",
       "      <td>2.256752e+06</td>\n",
       "      <td>2.256752e+06</td>\n",
       "    </tr>\n",
       "    <tr>\n",
       "      <th>mean</th>\n",
       "      <td>1.574103e+00</td>\n",
       "      <td>201812.0</td>\n",
       "      <td>3.553863e+05</td>\n",
       "      <td>2018.0</td>\n",
       "      <td>5.368213e+05</td>\n",
       "      <td>5.304958e+04</td>\n",
       "      <td>5.126839e+04</td>\n",
       "      <td>5.126847e+06</td>\n",
       "      <td>4.303066e+00</td>\n",
       "      <td>6.595547e+00</td>\n",
       "      <td>...</td>\n",
       "      <td>1.318030e+01</td>\n",
       "      <td>1.084850e+00</td>\n",
       "      <td>1.553693e-02</td>\n",
       "      <td>6.216255e+00</td>\n",
       "      <td>3.534381e+01</td>\n",
       "      <td>7.773592e-01</td>\n",
       "      <td>3.540988e+03</td>\n",
       "      <td>3.537022e+04</td>\n",
       "      <td>4.852106e-03</td>\n",
       "      <td>5.339089e-03</td>\n",
       "    </tr>\n",
       "    <tr>\n",
       "      <th>std</th>\n",
       "      <td>4.944784e-01</td>\n",
       "      <td>0.0</td>\n",
       "      <td>8.300073e+04</td>\n",
       "      <td>0.0</td>\n",
       "      <td>1.784826e+05</td>\n",
       "      <td>2.269392e+04</td>\n",
       "      <td>2.468035e+04</td>\n",
       "      <td>2.468034e+06</td>\n",
       "      <td>2.646710e+00</td>\n",
       "      <td>1.548538e+00</td>\n",
       "      <td>...</td>\n",
       "      <td>3.413455e+01</td>\n",
       "      <td>4.031142e-01</td>\n",
       "      <td>2.154446e-01</td>\n",
       "      <td>9.922202e+00</td>\n",
       "      <td>8.311311e+00</td>\n",
       "      <td>8.125151e+01</td>\n",
       "      <td>8.309257e+02</td>\n",
       "      <td>8.310356e+03</td>\n",
       "      <td>6.948788e-02</td>\n",
       "      <td>7.287376e-02</td>\n",
       "    </tr>\n",
       "    <tr>\n",
       "      <th>min</th>\n",
       "      <td>1.000000e+00</td>\n",
       "      <td>201812.0</td>\n",
       "      <td>1.100010e+05</td>\n",
       "      <td>2018.0</td>\n",
       "      <td>3.011000e+04</td>\n",
       "      <td>1.112000e+03</td>\n",
       "      <td>1.113000e+03</td>\n",
       "      <td>1.113010e+05</td>\n",
       "      <td>1.000000e+00</td>\n",
       "      <td>1.000000e+00</td>\n",
       "      <td>...</td>\n",
       "      <td>0.000000e+00</td>\n",
       "      <td>1.000000e+00</td>\n",
       "      <td>0.000000e+00</td>\n",
       "      <td>1.000000e+00</td>\n",
       "      <td>1.100000e+01</td>\n",
       "      <td>0.000000e+00</td>\n",
       "      <td>1.101000e+03</td>\n",
       "      <td>1.100100e+04</td>\n",
       "      <td>0.000000e+00</td>\n",
       "      <td>0.000000e+00</td>\n",
       "    </tr>\n",
       "    <tr>\n",
       "      <th>25%</th>\n",
       "      <td>1.000000e+00</td>\n",
       "      <td>201812.0</td>\n",
       "      <td>3.147000e+05</td>\n",
       "      <td>2018.0</td>\n",
       "      <td>4.141050e+05</td>\n",
       "      <td>4.525000e+04</td>\n",
       "      <td>4.213800e+04</td>\n",
       "      <td>4.213800e+06</td>\n",
       "      <td>2.000000e+00</td>\n",
       "      <td>6.000000e+00</td>\n",
       "      <td>...</td>\n",
       "      <td>0.000000e+00</td>\n",
       "      <td>1.000000e+00</td>\n",
       "      <td>0.000000e+00</td>\n",
       "      <td>2.000000e+00</td>\n",
       "      <td>3.100000e+01</td>\n",
       "      <td>0.000000e+00</td>\n",
       "      <td>3.108000e+03</td>\n",
       "      <td>3.103900e+04</td>\n",
       "      <td>0.000000e+00</td>\n",
       "      <td>0.000000e+00</td>\n",
       "    </tr>\n",
       "    <tr>\n",
       "      <th>50%</th>\n",
       "      <td>2.000000e+00</td>\n",
       "      <td>201812.0</td>\n",
       "      <td>3.531500e+05</td>\n",
       "      <td>2018.0</td>\n",
       "      <td>5.174100e+05</td>\n",
       "      <td>5.241800e+04</td>\n",
       "      <td>4.773300e+04</td>\n",
       "      <td>4.773300e+06</td>\n",
       "      <td>4.000000e+00</td>\n",
       "      <td>7.000000e+00</td>\n",
       "      <td>...</td>\n",
       "      <td>2.000000e+00</td>\n",
       "      <td>1.000000e+00</td>\n",
       "      <td>0.000000e+00</td>\n",
       "      <td>4.000000e+00</td>\n",
       "      <td>3.500000e+01</td>\n",
       "      <td>0.000000e+00</td>\n",
       "      <td>3.512000e+03</td>\n",
       "      <td>3.504600e+04</td>\n",
       "      <td>0.000000e+00</td>\n",
       "      <td>0.000000e+00</td>\n",
       "    </tr>\n",
       "    <tr>\n",
       "      <th>75%</th>\n",
       "      <td>2.000000e+00</td>\n",
       "      <td>201812.0</td>\n",
       "      <td>4.117900e+05</td>\n",
       "      <td>2018.0</td>\n",
       "      <td>7.152100e+05</td>\n",
       "      <td>7.412800e+04</td>\n",
       "      <td>7.490100e+04</td>\n",
       "      <td>7.490102e+06</td>\n",
       "      <td>6.000000e+00</td>\n",
       "      <td>7.000000e+00</td>\n",
       "      <td>...</td>\n",
       "      <td>1.100000e+01</td>\n",
       "      <td>1.000000e+00</td>\n",
       "      <td>0.000000e+00</td>\n",
       "      <td>6.000000e+00</td>\n",
       "      <td>4.100000e+01</td>\n",
       "      <td>0.000000e+00</td>\n",
       "      <td>4.110000e+03</td>\n",
       "      <td>4.103700e+04</td>\n",
       "      <td>0.000000e+00</td>\n",
       "      <td>0.000000e+00</td>\n",
       "    </tr>\n",
       "    <tr>\n",
       "      <th>max</th>\n",
       "      <td>2.000000e+00</td>\n",
       "      <td>201812.0</td>\n",
       "      <td>5.300100e+05</td>\n",
       "      <td>2018.0</td>\n",
       "      <td>9.922250e+05</td>\n",
       "      <td>9.900700e+04</td>\n",
       "      <td>9.900800e+04</td>\n",
       "      <td>9.900800e+06</td>\n",
       "      <td>9.000000e+00</td>\n",
       "      <td>9.000000e+00</td>\n",
       "      <td>...</td>\n",
       "      <td>5.990000e+02</td>\n",
       "      <td>3.000000e+00</td>\n",
       "      <td>6.000000e+00</td>\n",
       "      <td>9.000000e+01</td>\n",
       "      <td>5.300000e+01</td>\n",
       "      <td>9.999000e+03</td>\n",
       "      <td>5.301000e+03</td>\n",
       "      <td>5.300100e+04</td>\n",
       "      <td>1.000000e+00</td>\n",
       "      <td>1.000000e+00</td>\n",
       "    </tr>\n",
       "  </tbody>\n",
       "</table>\n",
       "<p>8 rows × 29 columns</p>\n",
       "</div>"
      ],
      "text/plain": [
       "       admitidos_desligados  competencia_declarada     municipio  \\\n",
       "count          2.256752e+06              2256752.0  2.256752e+06   \n",
       "mean           1.574103e+00               201812.0  3.553863e+05   \n",
       "std            4.944784e-01                    0.0  8.300073e+04   \n",
       "min            1.000000e+00               201812.0  1.100010e+05   \n",
       "25%            1.000000e+00               201812.0  3.147000e+05   \n",
       "50%            2.000000e+00               201812.0  3.531500e+05   \n",
       "75%            2.000000e+00               201812.0  4.117900e+05   \n",
       "max            2.000000e+00               201812.0  5.300100e+05   \n",
       "\n",
       "       ano_declarado  cbo_2002_ocupacao  cnae_10_classe  cnae_20_classe  \\\n",
       "count      2256752.0       2.256752e+06    2.256752e+06    2.256752e+06   \n",
       "mean          2018.0       5.368213e+05    5.304958e+04    5.126839e+04   \n",
       "std              0.0       1.784826e+05    2.269392e+04    2.468035e+04   \n",
       "min           2018.0       3.011000e+04    1.112000e+03    1.113000e+03   \n",
       "25%           2018.0       4.141050e+05    4.525000e+04    4.213800e+04   \n",
       "50%           2018.0       5.174100e+05    5.241800e+04    4.773300e+04   \n",
       "75%           2018.0       7.152100e+05    7.412800e+04    7.490100e+04   \n",
       "max           2018.0       9.922250e+05    9.900700e+04    9.900800e+04   \n",
       "\n",
       "       cnae_20_subclas  faixa_empr_ini_jan  grau_instrucao  ...  \\\n",
       "count     2.256752e+06        2.256752e+06    2.256752e+06  ...   \n",
       "mean      5.126847e+06        4.303066e+00    6.595547e+00  ...   \n",
       "std       2.468034e+06        2.646710e+00    1.548538e+00  ...   \n",
       "min       1.113010e+05        1.000000e+00    1.000000e+00  ...   \n",
       "25%       4.213800e+06        2.000000e+00    6.000000e+00  ...   \n",
       "50%       4.773300e+06        4.000000e+00    7.000000e+00  ...   \n",
       "75%       7.490102e+06        6.000000e+00    7.000000e+00  ...   \n",
       "max       9.900800e+06        9.000000e+00    9.000000e+00  ...   \n",
       "\n",
       "       tempo_emprego    tipo_estab    tipo_defic  tipo_mov_desagregado  \\\n",
       "count   2.256752e+06  2.256752e+06  2.256752e+06          2.256752e+06   \n",
       "mean    1.318030e+01  1.084850e+00  1.553693e-02          6.216255e+00   \n",
       "std     3.413455e+01  4.031142e-01  2.154446e-01          9.922202e+00   \n",
       "min     0.000000e+00  1.000000e+00  0.000000e+00          1.000000e+00   \n",
       "25%     0.000000e+00  1.000000e+00  0.000000e+00          2.000000e+00   \n",
       "50%     2.000000e+00  1.000000e+00  0.000000e+00          4.000000e+00   \n",
       "75%     1.100000e+01  1.000000e+00  0.000000e+00          6.000000e+00   \n",
       "max     5.990000e+02  3.000000e+00  6.000000e+00          9.000000e+01   \n",
       "\n",
       "                 uf  regioes_adm_df    mesoregiao   microregiao  \\\n",
       "count  2.256752e+06    2.256752e+06  2.256752e+06  2.256752e+06   \n",
       "mean   3.534381e+01    7.773592e-01  3.540988e+03  3.537022e+04   \n",
       "std    8.311311e+00    8.125151e+01  8.309257e+02  8.310356e+03   \n",
       "min    1.100000e+01    0.000000e+00  1.101000e+03  1.100100e+04   \n",
       "25%    3.100000e+01    0.000000e+00  3.108000e+03  3.103900e+04   \n",
       "50%    3.500000e+01    0.000000e+00  3.512000e+03  3.504600e+04   \n",
       "75%    4.100000e+01    0.000000e+00  4.110000e+03  4.103700e+04   \n",
       "max    5.300000e+01    9.999000e+03  5.301000e+03  5.300100e+04   \n",
       "\n",
       "       ind_trab_parcial  ind_trab_intermitente  \n",
       "count      2.256752e+06           2.256752e+06  \n",
       "mean       4.852106e-03           5.339089e-03  \n",
       "std        6.948788e-02           7.287376e-02  \n",
       "min        0.000000e+00           0.000000e+00  \n",
       "25%        0.000000e+00           0.000000e+00  \n",
       "50%        0.000000e+00           0.000000e+00  \n",
       "75%        0.000000e+00           0.000000e+00  \n",
       "max        1.000000e+00           1.000000e+00  \n",
       "\n",
       "[8 rows x 29 columns]"
      ]
     },
     "execution_count": 9,
     "metadata": {},
     "output_type": "execute_result"
    }
   ],
   "source": [
    "data.describe()"
   ]
  },
  {
   "cell_type": "markdown",
   "metadata": {},
   "source": [
    "## 2 - ANÁLISE DE SALARIO_MENSAL"
   ]
  },
  {
   "cell_type": "code",
   "execution_count": 30,
   "metadata": {},
   "outputs": [
    {
     "data": {
      "text/plain": [
       "dtype('float64')"
      ]
     },
     "execution_count": 30,
     "metadata": {},
     "output_type": "execute_result"
    }
   ],
   "source": [
    "#tipo de dado da variával Salário Mensal (não é necessário correção)\n",
    "data.salario_mensal.dtypes"
   ]
  },
  {
   "cell_type": "code",
   "execution_count": 61,
   "metadata": {},
   "outputs": [
    {
     "name": "stdout",
     "output_type": "stream",
     "text": [
      "Registros: 2256752\n",
      "Média: 1627.2442231135722\n",
      "Desvio-Padrão: 2097.520546695418\n",
      "Varância: 4399592.443809445\n"
     ]
    }
   ],
   "source": [
    "#calculando média, variância e desvio padrão da variável Salário Mensal\n",
    "n_salario = len(data.salario_mensal)\n",
    "mean_salario = data.salario_mensal.mean()\n",
    "std_amostral_salario = np.std(data.salario_mensal, ddof=1) \n",
    "var_amostral_salario = std_amostral_salario**2\n",
    "\n",
    "print('Registros:',n_salario)\n",
    "print('Média:',mean_salario)\n",
    "print('Desvio-Padrão:',std_amostral_salario)\n",
    "print('Varância:',var_amostral_salario)\n",
    "\n",
    "#desvio padrão amostral e populacional quase idênticos, dado que n é muito alto\n",
    "#outro metodo, porém calcula dp populacional: data.salario_mensal.describe()"
   ]
  },
  {
   "cell_type": "code",
   "execution_count": 31,
   "metadata": {},
   "outputs": [
    {
     "data": {
      "text/plain": [
       "<matplotlib.axes._subplots.AxesSubplot at 0x266d3850a58>"
      ]
     },
     "execution_count": 31,
     "metadata": {},
     "output_type": "execute_result"
    },
    {
     "data": {
      "image/png": "[encoded data removed]",
      "text/plain": [
       "<Figure size 432x288 with 1 Axes>"
      ]
     },
     "metadata": {
      "needs_background": "light"
     },
     "output_type": "display_data"
    }
   ],
   "source": [
    "#plota o histograma para variável Salário Mensal\n",
    "data.salario_mensal.plot.hist(bins=50, range=(0,5000))"
   ]
  },
  {
   "cell_type": "code",
   "execution_count": 36,
   "metadata": {},
   "outputs": [
    {
     "data": {
      "text/plain": [
       "(0.2637892961502075, 0.0)"
      ]
     },
     "execution_count": 36,
     "metadata": {},
     "output_type": "execute_result"
    }
   ],
   "source": [
    "#verifica se é uma distribuição normal com a função scipy.stats.shapiro\n",
    "stats.shapiro(data.salario_mensal)"
   ]
  },
  {
   "cell_type": "code",
   "execution_count": 55,
   "metadata": {},
   "outputs": [],
   "source": [
    "#normaliza a curva utilizando LOG (numpy.log) e salva em uma nova coluna: OBS: SOMA +1 NO SALARIO PARA EVITAR ERROS DE LOG = 0 QUE TENDEM AO INFINITO NEGATIVO\n",
    "data[\"salario_log\"] = np.log(data.salario_mensal+1)"
   ]
  },
  {
   "cell_type": "code",
   "execution_count": 56,
   "metadata": {},
   "outputs": [
    {
     "data": {
      "text/plain": [
       "<matplotlib.axes._subplots.AxesSubplot at 0x266d2715b38>"
      ]
     },
     "execution_count": 56,
     "metadata": {},
     "output_type": "execute_result"
    },
    {
     "data": {
      "image/png": "[encoded data removed]",
      "text/plain": [
       "<Figure size 432x288 with 1 Axes>"
      ]
     },
     "metadata": {
      "needs_background": "light"
     },
     "output_type": "display_data"
    }
   ],
   "source": [
    "#plota o histograma para verificar a distribuicao depois da normalização\n",
    "data.salario_log.plot.hist(bins=100)"
   ]
  },
  {
   "cell_type": "code",
   "execution_count": 57,
   "metadata": {},
   "outputs": [
    {
     "data": {
      "text/plain": [
       "(0.5028517246246338, 0.0)"
      ]
     },
     "execution_count": 57,
     "metadata": {},
     "output_type": "execute_result"
    }
   ],
   "source": [
    "#verifica se é uma distribuição normal com a função scipy.stats.shapiro para salario_log (precisa de aproximar de (1,0))\n",
    "stats.shapiro(data.salario_log)"
   ]
  },
  {
   "cell_type": "code",
   "execution_count": 47,
   "metadata": {},
   "outputs": [],
   "source": [
    "#calcula a padronização Z\n",
    "data[\"salario_padrao\"] = ( data.salario_log - data.salario_log.mean() ) / data.salario_log.std()"
   ]
  },
  {
   "cell_type": "code",
   "execution_count": 49,
   "metadata": {},
   "outputs": [
    {
     "data": {
      "text/plain": [
       "<matplotlib.axes._subplots.AxesSubplot at 0x203c12fce48>"
      ]
     },
     "execution_count": 49,
     "metadata": {},
     "output_type": "execute_result"
    },
    {
     "data": {
      "image/png": "[encoded data removed]",
      "text/plain": [
       "<Figure size 432x288 with 1 Axes>"
      ]
     },
     "metadata": {
      "needs_background": "light"
     },
     "output_type": "display_data"
    }
   ],
   "source": [
    "#plota o histograma do salario normalizado e padronizado em Z\n",
    "data.salario_padrao.plot.hist(bins=50)"
   ]
  },
  {
   "cell_type": "code",
   "execution_count": null,
   "metadata": {},
   "outputs": [],
   "source": []
  },
  {
   "cell_type": "code",
   "execution_count": null,
   "metadata": {},
   "outputs": [],
   "source": [
    "#PLOTA TODOS OS GRAFICOS :D\n",
    "fig, ax = plt.subplots(3, 2,figsize=(20,20)) #cria a matriz de plotagem com 6 graficos\n",
    "\n",
    "#plota o histograma do salario mensal\n",
    "x = data.salario_mensal\n",
    "ax[0,0].hist(x, bins=50, range=(0,5000))\n",
    "ax[0,0].set_title(\"Salário Mensal Hist\")\n",
    "\n",
    "#plota a curva de densidade do salario mensal\n",
    "x = data.salario_mensal.sort_values()\n",
    "# calculando a média\n",
    "mu = x.mean()\n",
    "# calculando o desvio padrão populacional\n",
    "sigma = x.std()#/len(df.salary)\n",
    "# plotando o gráfico com os valores de x e os valores normais da densidade de probabilidade\n",
    "ax[0,1].plot(x, stats.norm.pdf(x, mu, sigma))\n",
    "ax[0,1].set_title(\"Salário Mensal PDF\")\n",
    "\n",
    "#plota o histograma do salario normalizado\n",
    "x = data.salario_log\n",
    "ax[1,0].hist(x, bins=50)\n",
    "ax[1,0].set_title(\"Salário Norm Hist\")\n",
    "\n",
    "#plota a curva de densidade do salario mensal\n",
    "x = data.salario_log.sort_values()\n",
    "# calculando a média\n",
    "mu = x.mean()\n",
    "# calculando o desvio padrão populacional\n",
    "sigma = x.std()#/len(df.salary)\n",
    "# plotando o gráfico com os valores de x e os valores normais da densidade de probabilidade\n",
    "ax[1,1].plot(x, stats.norm.pdf(x, mu, sigma))\n",
    "ax[1,1].set_title(\"Salário LOG PDF\")\n",
    "\n",
    "#plota o histograma do salario Z\n",
    "x = data.salario_padrao\n",
    "ax[2,0].hist(x, bins=50)\n",
    "ax[2,0].set_title(\"Salário Z Hist\")\n",
    "\n",
    "#plota a curva de densidade do salario mensal\n",
    "x = data.salario_padrao.sort_values()\n",
    "# calculando a média\n",
    "mu = x.mean()\n",
    "# calculando o desvio padrão populacional\n",
    "sigma = x.std()#/len(df.salary)\n",
    "# plotando o gráfico com os valores de x e os valores normais da densidade de probabilidade\n",
    "ax[2,1].plot(x, stats.norm.pdf(x, mu, sigma))\n",
    "ax[2,1].set_title(\"Salário LOG PDF\")\n",
    "\n",
    "plt.show()"
   ]
  },
  {
   "cell_type": "code",
   "execution_count": 57,
   "metadata": {},
   "outputs": [
    {
     "data": {
      "image/png": "[encoded data removed]",
      "text/plain": [
       "<Figure size 1440x1440 with 6 Axes>"
      ]
     },
     "metadata": {
      "needs_background": "light"
     },
     "output_type": "display_data"
    }
   ],
   "source": [
    "#PLOTA TODOS OS GRAFICOS :D\n",
    "fig, ax = plt.subplots(3, 2,figsize=(20,20)) #cria a matriz de plotagem com 6 graficos\n",
    "\n",
    "#plota o histograma do salario mensal\n",
    "x = data.salario_mensal\n",
    "ax[0,0].hist(x, bins=50, range=(0,5000))\n",
    "ax[0,0].set_title(\"Salário Mensal Hist\")\n",
    "\n",
    "#plota a curva de densidade do salario mensal\n",
    "x = data.salario_mensal.sort_values()\n",
    "# calculando a média\n",
    "mu = x.mean()\n",
    "# calculando o desvio padrão populacional\n",
    "sigma = x.std()#/len(df.salary)\n",
    "# plotando o gráfico com os valores de x e os valores normais da densidade de probabilidade\n",
    "ax[0,1].plot(x, stats.norm.pdf(x, mu, sigma))\n",
    "ax[0,1].set_title(\"Salário Mensal PDF\")\n",
    "\n",
    "#plota o histograma do salario normalizado\n",
    "x = data.salario_log\n",
    "ax[1,0].hist(x, bins=50)\n",
    "ax[1,0].set_title(\"Salário Norm Hist\")\n",
    "\n",
    "#plota a curva de densidade do salario mensal\n",
    "x = data.salario_log.sort_values()\n",
    "# calculando a média\n",
    "mu = x.mean()\n",
    "# calculando o desvio padrão populacional\n",
    "sigma = x.std()#/len(df.salary)\n",
    "# plotando o gráfico com os valores de x e os valores normais da densidade de probabilidade\n",
    "ax[1,1].plot(x, stats.norm.pdf(x, mu, sigma))\n",
    "ax[1,1].set_title(\"Salário LOG PDF\")\n",
    "\n",
    "#plota o histograma do salario Z\n",
    "x = data.salario_padrao\n",
    "ax[2,0].hist(x, bins=50)\n",
    "ax[2,0].set_title(\"Salário Z Hist\")\n",
    "\n",
    "#plota a curva de densidade do salario mensal\n",
    "x = data.salario_padrao.sort_values()\n",
    "# calculando a média\n",
    "mu = x.mean()\n",
    "# calculando o desvio padrão populacional\n",
    "sigma = x.std()#/len(df.salary)\n",
    "# plotando o gráfico com os valores de x e os valores normais da densidade de probabilidade\n",
    "ax[2,1].plot(x, stats.norm.pdf(x, mu, sigma))\n",
    "ax[2,1].set_title(\"Salário LOG PDF\")\n",
    "\n",
    "plt.show()"
   ]
  },
  {
   "cell_type": "markdown",
   "metadata": {},
   "source": [
    "## 3 - ANÁLISE DE IDADE"
   ]
  },
  {
   "cell_type": "code",
   "execution_count": 58,
   "metadata": {},
   "outputs": [
    {
     "data": {
      "text/plain": [
       "dtype('float64')"
      ]
     },
     "execution_count": 58,
     "metadata": {},
     "output_type": "execute_result"
    }
   ],
   "source": [
    "#tipo de dado da variával Idade (não é necessário correção)\n",
    "data.salario_mensal.dtypes"
   ]
  },
  {
   "cell_type": "code",
   "execution_count": 62,
   "metadata": {},
   "outputs": [
    {
     "name": "stdout",
     "output_type": "stream",
     "text": [
      "Registros: 2256752\n",
      "Média: 32.314226374896315\n",
      "Desvio-Padrão: 10.960189422168419\n",
      "Varância: 120.1257521698125\n"
     ]
    }
   ],
   "source": [
    "#calculando média, variância e desvio padrão da variável Idade\n",
    "n_idade = len(data.idade)\n",
    "mean_idade = data.idade.mean()\n",
    "std_amostral_idade = np.std(data.idade, ddof=1) \n",
    "var_amostral_idade = std_amostral_idade**2\n",
    "\n",
    "print('Registros:',n_idade)\n",
    "print('Média:',mean_idade)\n",
    "print('Desvio-Padrão:',std_amostral_idade)\n",
    "print('Varância:',var_amostral_idade)\n",
    "\n",
    "#desvio padrão amostral e populacional quase idênticos, dado que n é muito alto\n",
    "#outro metodo, porém calcula dp populacional: data.idade.describe()"
   ]
  },
  {
   "cell_type": "code",
   "execution_count": 72,
   "metadata": {},
   "outputs": [
    {
     "data": {
      "text/plain": [
       "<matplotlib.axes._subplots.AxesSubplot at 0x266d448ab70>"
      ]
     },
     "execution_count": 72,
     "metadata": {},
     "output_type": "execute_result"
    },
    {
     "data": {
      "image/png": "[encoded data removed]",
      "text/plain": [
       "<Figure size 432x288 with 1 Axes>"
      ]
     },
     "metadata": {
      "needs_background": "light"
     },
     "output_type": "display_data"
    }
   ],
   "source": [
    "#plota o histograma para variável Idade\n",
    "data.idade.plot.hist(bins=25,)"
   ]
  },
  {
   "cell_type": "code",
   "execution_count": 67,
   "metadata": {},
   "outputs": [
    {
     "data": {
      "text/plain": [
       "(0.9411314725875854, 0.0)"
      ]
     },
     "execution_count": 67,
     "metadata": {},
     "output_type": "execute_result"
    }
   ],
   "source": [
    "#verifica se é uma distribuição normal com a função scipy.stats.shapiro\n",
    "stats.shapiro(data.idade)"
   ]
  },
  {
   "cell_type": "code",
   "execution_count": 69,
   "metadata": {},
   "outputs": [],
   "source": [
    "#normaliza a curva utilizando LOG (numpy.log) e salva em uma nova coluna:\n",
    "data[\"idade_log\"] = np.log(data.idade)"
   ]
  },
  {
   "cell_type": "code",
   "execution_count": 70,
   "metadata": {},
   "outputs": [
    {
     "data": {
      "text/plain": [
       "(0.9819164276123047, 0.0)"
      ]
     },
     "execution_count": 70,
     "metadata": {},
     "output_type": "execute_result"
    }
   ],
   "source": [
    "#verifica se é uma distribuição normal com a função scipy.stats.shapiro para idade_log (precisa de aproximar de (1,0))\n",
    "stats.shapiro(data.idade_log)"
   ]
  },
  {
   "cell_type": "markdown",
   "metadata": {},
   "source": [
    "a distribuição já estava bastante normal, mas a aplicação do log melhorou um pouco"
   ]
  },
  {
   "cell_type": "code",
   "execution_count": 73,
   "metadata": {},
   "outputs": [
    {
     "data": {
      "text/plain": [
       "<matplotlib.axes._subplots.AxesSubplot at 0x266d44c0080>"
      ]
     },
     "execution_count": 73,
     "metadata": {},
     "output_type": "execute_result"
    },
    {
     "data": {
      "image/png": "[encoded data removed]",
      "text/plain": [
       "<Figure size 432x288 with 1 Axes>"
      ]
     },
     "metadata": {
      "needs_background": "light"
     },
     "output_type": "display_data"
    }
   ],
   "source": [
    "#plota o histograma para variável Idade_log\n",
    "data.idade_log.plot.hist(bins=25,)"
   ]
  },
  {
   "cell_type": "code",
   "execution_count": 75,
   "metadata": {},
   "outputs": [],
   "source": [
    "#calcula a padronização Z\n",
    "data[\"idade_padrao\"] = ( data.idade_log - data.idade_log.mean() ) / data.idade_log.std()"
   ]
  },
  {
   "cell_type": "code",
   "execution_count": 78,
   "metadata": {},
   "outputs": [
    {
     "data": {
      "image/png": "[encoded data removed]",
      "text/plain": [
       "<Figure size 432x288 with 1 Axes>"
      ]
     },
     "metadata": {
      "needs_background": "light"
     },
     "output_type": "display_data"
    }
   ],
   "source": [
    "#plotar dispersão salario vs idade (plotei apenas os 10000 primeiros registros)\n",
    "plt.plot(data.salario_log.head(10000), data.idade_log.head(10000),'o')\n",
    "plt.title('Dispersão entre Salário_log e Idade_log')\n",
    "plt.xlabel('salario_log')\n",
    "plt.ylabel('Idade_log')\n",
    "plt.show()"
   ]
  },
  {
   "cell_type": "code",
   "execution_count": 86,
   "metadata": {},
   "outputs": [
    {
     "data": {
      "text/html": [
       "<div>\n",
       "<style scoped>\n",
       "    .dataframe tbody tr th:only-of-type {\n",
       "        vertical-align: middle;\n",
       "    }\n",
       "\n",
       "    .dataframe tbody tr th {\n",
       "        vertical-align: top;\n",
       "    }\n",
       "\n",
       "    .dataframe thead th {\n",
       "        text-align: right;\n",
       "    }\n",
       "</style>\n",
       "<table border=\"1\" class=\"dataframe\">\n",
       "  <thead>\n",
       "    <tr style=\"text-align: right;\">\n",
       "      <th></th>\n",
       "      <th>salario_log</th>\n",
       "      <th>idade_log</th>\n",
       "    </tr>\n",
       "  </thead>\n",
       "  <tbody>\n",
       "    <tr>\n",
       "      <th>salario_log</th>\n",
       "      <td>1.000000</td>\n",
       "      <td>0.153457</td>\n",
       "    </tr>\n",
       "    <tr>\n",
       "      <th>idade_log</th>\n",
       "      <td>0.153457</td>\n",
       "      <td>1.000000</td>\n",
       "    </tr>\n",
       "  </tbody>\n",
       "</table>\n",
       "</div>"
      ],
      "text/plain": [
       "             salario_log  idade_log\n",
       "salario_log     1.000000   0.153457\n",
       "idade_log       0.153457   1.000000"
      ]
     },
     "execution_count": 86,
     "metadata": {},
     "output_type": "execute_result"
    }
   ],
   "source": [
    "#correlação entre salario_log e idade_log\n",
    "data[['salario_log',\n",
    "      'idade_log',\n",
    "    ]].corr(method ='pearson')"
   ]
  },
  {
   "cell_type": "markdown",
   "metadata": {},
   "source": [
    "correlação baixa entre salário e idade"
   ]
  },
  {
   "cell_type": "markdown",
   "metadata": {},
   "source": [
    "## 4 - Análise de grau de instrução"
   ]
  },
  {
   "cell_type": "code",
   "execution_count": 88,
   "metadata": {},
   "outputs": [
    {
     "data": {
      "text/plain": [
       "dtype('int64')"
      ]
     },
     "execution_count": 88,
     "metadata": {},
     "output_type": "execute_result"
    }
   ],
   "source": [
    "#tipo de dado da variával grau de instrução (não é necessário correção)\n",
    "data.grau_instrucao.dtypes"
   ]
  },
  {
   "cell_type": "code",
   "execution_count": 89,
   "metadata": {},
   "outputs": [
    {
     "name": "stdout",
     "output_type": "stream",
     "text": [
      "Registros: 2256752\n",
      "Média: 6.595547494806696\n",
      "Desvio-Padrão: 1.5485383327955375\n",
      "Varância: 2.397970968137183\n"
     ]
    }
   ],
   "source": [
    "#calculando média, variância e desvio padrão da variável Idade\n",
    "n_grau_instrucao = len(data.grau_instrucao)\n",
    "mean_grau_instrucao = data.grau_instrucao.mean()\n",
    "std_amostral_grau_instrucao = np.std(data.grau_instrucao, ddof=1) \n",
    "var_amostral_grau_instrucao = std_amostral_grau_instrucao**2\n",
    "\n",
    "print('Registros:',n_grau_instrucao)\n",
    "print('Média:',mean_grau_instrucao)\n",
    "print('Desvio-Padrão:',std_amostral_grau_instrucao)\n",
    "print('Varância:',var_amostral_grau_instrucao)\n",
    "\n",
    "#desvio padrão amostral e populacional quase idênticos, dado que n é muito alto\n",
    "#outro metodo, porém calcula dp populacional: data.idade.describe()"
   ]
  },
  {
   "cell_type": "code",
   "execution_count": 90,
   "metadata": {},
   "outputs": [
    {
     "data": {
      "text/plain": [
       "<matplotlib.axes._subplots.AxesSubplot at 0x266d6697860>"
      ]
     },
     "execution_count": 90,
     "metadata": {},
     "output_type": "execute_result"
    },
    {
     "data": {
      "image/png": "[encoded data removed]",
      "text/plain": [
       "<Figure size 432x288 with 1 Axes>"
      ]
     },
     "metadata": {
      "needs_background": "light"
     },
     "output_type": "display_data"
    }
   ],
   "source": [
    "#plota o histograma para variável grau_instrucao\n",
    "data.grau_instrucao.plot.hist(bins=25,)"
   ]
  },
  {
   "cell_type": "code",
   "execution_count": 92,
   "metadata": {},
   "outputs": [
    {
     "data": {
      "text/plain": [
       "(0.8100849986076355, 0.0)"
      ]
     },
     "execution_count": 92,
     "metadata": {},
     "output_type": "execute_result"
    }
   ],
   "source": [
    "#verifica se é uma distribuição normal com a função scipy.stats.shapiro\n",
    "stats.shapiro(data.grau_instrucao)"
   ]
  },
  {
   "cell_type": "code",
   "execution_count": 97,
   "metadata": {},
   "outputs": [],
   "source": [
    "#normaliza a curva utilizando LOG (numpy.log) e salva em uma nova coluna:\n",
    "data[\"grau_instrucao_log\"] = np.log(data.grau_instrucao)"
   ]
  },
  {
   "cell_type": "code",
   "execution_count": 98,
   "metadata": {},
   "outputs": [
    {
     "data": {
      "text/plain": [
       "(0.6717902421951294, 0.0)"
      ]
     },
     "execution_count": 98,
     "metadata": {},
     "output_type": "execute_result"
    }
   ],
   "source": [
    "#verifica se é uma distribuição normal com a função scipy.stats.shapiro para idade_log (precisa de aproximar de (1,0))\n",
    "stats.shapiro(data.grau_instrucao_log)"
   ]
  },
  {
   "cell_type": "markdown",
   "metadata": {},
   "source": [
    "Não faz sentido usar log para grau de instrução, piora o teste de shapiro"
   ]
  },
  {
   "cell_type": "code",
   "execution_count": 99,
   "metadata": {},
   "outputs": [],
   "source": [
    "#calcula a padronização Z\n",
    "data[\"grau_instrucao_padrao\"] = ( data.grau_instrucao - data.grau_instrucao.mean() ) / data.grau_instrucao.std()"
   ]
  },
  {
   "cell_type": "code",
   "execution_count": 100,
   "metadata": {},
   "outputs": [
    {
     "data": {
      "image/png": "[encoded data removed]",
      "text/plain": [
       "<Figure size 432x288 with 1 Axes>"
      ]
     },
     "metadata": {
      "needs_background": "light"
     },
     "output_type": "display_data"
    }
   ],
   "source": [
    "#plotar dispersão salario vs grau de instrução (plotei apenas os 10000 primeiros registros)\n",
    "plt.plot(data.salario_log.head(10000), data.grau_instrucao.head(10000),'o')\n",
    "plt.title('Dispersão entre salario_log e grau_instrucao')\n",
    "plt.xlabel('salario_log')\n",
    "plt.ylabel('grau_instrução')\n",
    "plt.show()"
   ]
  },
  {
   "cell_type": "code",
   "execution_count": 101,
   "metadata": {},
   "outputs": [
    {
     "data": {
      "text/html": [
       "<div>\n",
       "<style scoped>\n",
       "    .dataframe tbody tr th:only-of-type {\n",
       "        vertical-align: middle;\n",
       "    }\n",
       "\n",
       "    .dataframe tbody tr th {\n",
       "        vertical-align: top;\n",
       "    }\n",
       "\n",
       "    .dataframe thead th {\n",
       "        text-align: right;\n",
       "    }\n",
       "</style>\n",
       "<table border=\"1\" class=\"dataframe\">\n",
       "  <thead>\n",
       "    <tr style=\"text-align: right;\">\n",
       "      <th></th>\n",
       "      <th>salario_log</th>\n",
       "      <th>grau_instrucao</th>\n",
       "    </tr>\n",
       "  </thead>\n",
       "  <tbody>\n",
       "    <tr>\n",
       "      <th>salario_log</th>\n",
       "      <td>1.000000</td>\n",
       "      <td>0.110415</td>\n",
       "    </tr>\n",
       "    <tr>\n",
       "      <th>grau_instrucao</th>\n",
       "      <td>0.110415</td>\n",
       "      <td>1.000000</td>\n",
       "    </tr>\n",
       "  </tbody>\n",
       "</table>\n",
       "</div>"
      ],
      "text/plain": [
       "                salario_log  grau_instrucao\n",
       "salario_log        1.000000        0.110415\n",
       "grau_instrucao     0.110415        1.000000"
      ]
     },
     "execution_count": 101,
     "metadata": {},
     "output_type": "execute_result"
    }
   ],
   "source": [
    "#correlação entre salario_log e grau_instrucao\n",
    "data[['salario_log',\n",
    "      'grau_instrucao',\n",
    "    ]].corr(method ='pearson')"
   ]
  },
  {
   "cell_type": "markdown",
   "metadata": {},
   "source": [
    "Baixa correlação entre as variáveis grau de instrução e salário"
   ]
  },
  {
   "cell_type": "markdown",
   "metadata": {},
   "source": [
    "## 5 - Análise de Sexo"
   ]
  },
  {
   "cell_type": "code",
   "execution_count": 102,
   "metadata": {},
   "outputs": [
    {
     "data": {
      "text/plain": [
       "dtype('int64')"
      ]
     },
     "execution_count": 102,
     "metadata": {},
     "output_type": "execute_result"
    }
   ],
   "source": [
    "#tipo de dado da variával sexo (não é necessário correção)\n",
    "data.sexo.dtypes"
   ]
  },
  {
   "cell_type": "code",
   "execution_count": 103,
   "metadata": {},
   "outputs": [
    {
     "name": "stdout",
     "output_type": "stream",
     "text": [
      "Registros: 2256752\n",
      "Média: 1.4137029678050579\n",
      "Desvio-Padrão: 0.4924966291446393\n",
      "Varância: 0.24255292971883238\n"
     ]
    }
   ],
   "source": [
    "#calculando média, variância e desvio padrão da variável sexo\n",
    "n_sexo = len(data.sexo)\n",
    "mean_sexo = data.sexo.mean()\n",
    "std_amostral_sexo = np.std(data.sexo, ddof=1) \n",
    "var_amostral_sexo = std_amostral_sexo**2\n",
    "\n",
    "print('Registros:',n_sexo)\n",
    "print('Média:',mean_sexo)\n",
    "print('Desvio-Padrão:',std_amostral_sexo)\n",
    "print('Varância:',var_amostral_sexo)\n",
    "\n",
    "#desvio padrão amostral e populacional quase idênticos, dado que n é muito alto\n",
    "#outro metodo, porém calcula dp populacional: data.idade.describe()"
   ]
  },
  {
   "cell_type": "code",
   "execution_count": 104,
   "metadata": {},
   "outputs": [
    {
     "data": {
      "text/plain": [
       "<matplotlib.axes._subplots.AxesSubplot at 0x266d6857710>"
      ]
     },
     "execution_count": 104,
     "metadata": {},
     "output_type": "execute_result"
    },
    {
     "data": {
      "image/png": "[encoded data removed]",
      "text/plain": [
       "<Figure size 432x288 with 1 Axes>"
      ]
     },
     "metadata": {
      "needs_background": "light"
     },
     "output_type": "display_data"
    }
   ],
   "source": [
    "#plota o histograma para variável sexo\n",
    "data.sexo.plot.hist()"
   ]
  },
  {
   "cell_type": "code",
   "execution_count": 105,
   "metadata": {},
   "outputs": [
    {
     "data": {
      "image/png": "[encoded data removed]",
      "text/plain": [
       "<Figure size 432x288 with 1 Axes>"
      ]
     },
     "metadata": {
      "needs_background": "light"
     },
     "output_type": "display_data"
    }
   ],
   "source": [
    "#plotar dispersão salario vs sexo (plotei apenas os 10000 primeiros registros)\n",
    "plt.plot(data.salario_log.head(10000), data.sexo.head(10000),'o')\n",
    "plt.title('Dispersão entre salario_log e sexo')\n",
    "plt.xlabel('salario_log')\n",
    "plt.ylabel('grau_instrução')\n",
    "plt.show()"
   ]
  },
  {
   "cell_type": "code",
   "execution_count": 106,
   "metadata": {},
   "outputs": [
    {
     "data": {
      "text/html": [
       "<div>\n",
       "<style scoped>\n",
       "    .dataframe tbody tr th:only-of-type {\n",
       "        vertical-align: middle;\n",
       "    }\n",
       "\n",
       "    .dataframe tbody tr th {\n",
       "        vertical-align: top;\n",
       "    }\n",
       "\n",
       "    .dataframe thead th {\n",
       "        text-align: right;\n",
       "    }\n",
       "</style>\n",
       "<table border=\"1\" class=\"dataframe\">\n",
       "  <thead>\n",
       "    <tr style=\"text-align: right;\">\n",
       "      <th></th>\n",
       "      <th>salario_log</th>\n",
       "      <th>sexo</th>\n",
       "    </tr>\n",
       "  </thead>\n",
       "  <tbody>\n",
       "    <tr>\n",
       "      <th>salario_log</th>\n",
       "      <td>1.000000</td>\n",
       "      <td>-0.063652</td>\n",
       "    </tr>\n",
       "    <tr>\n",
       "      <th>sexo</th>\n",
       "      <td>-0.063652</td>\n",
       "      <td>1.000000</td>\n",
       "    </tr>\n",
       "  </tbody>\n",
       "</table>\n",
       "</div>"
      ],
      "text/plain": [
       "             salario_log      sexo\n",
       "salario_log     1.000000 -0.063652\n",
       "sexo           -0.063652  1.000000"
      ]
     },
     "execution_count": 106,
     "metadata": {},
     "output_type": "execute_result"
    }
   ],
   "source": [
    "#correlação entre salario_log e sexo\n",
    "data[['salario_log',\n",
    "      'sexo',\n",
    "    ]].corr(method ='pearson')"
   ]
  },
  {
   "cell_type": "markdown",
   "metadata": {},
   "source": [
    "Baixa correlação"
   ]
  },
  {
   "cell_type": "code",
   "execution_count": 142,
   "metadata": {},
   "outputs": [
    {
     "data": {
      "text/plain": [
       "<matplotlib.axes._subplots.AxesSubplot at 0x266d6412208>"
      ]
     },
     "execution_count": 142,
     "metadata": {},
     "output_type": "execute_result"
    },
    {
     "data": {
      "image/png": "[encoded data removed]",
      "text/plain": [
       "<Figure size 432x288 with 1 Axes>"
      ]
     },
     "metadata": {
      "needs_background": "light"
     },
     "output_type": "display_data"
    }
   ],
   "source": [
    "#criar histograma de salario homem vs mulher\n",
    "\n",
    "\n",
    "data_homem = data.loc[data.sexo == 1 , ['salario_log', 'sexo', 'salario_mensal'] ]\n",
    "#data_homem.head()\n",
    "\n",
    "data_mulher = data.loc[data.sexo == 2 , ['salario_log', 'sexo', 'salario_mensal'] ]\n",
    "#data_mulher.head()\n",
    "\n",
    "\n",
    "data_homem.salario_log.plot.hist()\n",
    "# data_mulher.salario_log.plot.hist()"
   ]
  },
  {
   "cell_type": "code",
   "execution_count": 144,
   "metadata": {},
   "outputs": [
    {
     "name": "stdout",
     "output_type": "stream",
     "text": [
      "Média salário homem: 1701.9405272509744\n",
      "Média salário mulher: 1521.3851289329227\n",
      "Teste T: 0.03561171510576334\n"
     ]
    }
   ],
   "source": [
    "mean_salario_homem = data_homem.salario_mensal.mean()\n",
    "mean_salario_mulher = data_mulher.salario_mensal.mean()\n",
    "salario_padrao_homem = (mean_salario_homem - mean_salario) / std_amostral_salario\n",
    "\n",
    "\n",
    "print('Média salário homem:',mean_salario_homem)\n",
    "print('Média salário mulher:',mean_salario_mulher)\n",
    "print('Média salário homem padrão:',salario_padrao_homem)"
   ]
  },
  {
   "cell_type": "markdown",
   "metadata": {},
   "source": [
    "## 6 - ANÁLISE DE COR"
   ]
  },
  {
   "cell_type": "code",
   "execution_count": 145,
   "metadata": {},
   "outputs": [
    {
     "data": {
      "text/plain": [
       "dtype('int64')"
      ]
     },
     "execution_count": 145,
     "metadata": {},
     "output_type": "execute_result"
    }
   ],
   "source": [
    "#tipo de dado da variával raça cor (não é necessário correção)\n",
    "data.raca_cor.dtypes"
   ]
  },
  {
   "cell_type": "code",
   "execution_count": 148,
   "metadata": {},
   "outputs": [
    {
     "name": "stdout",
     "output_type": "stream",
     "text": [
      "Registros: 2256752\n",
      "Média: 5.254455961488015\n",
      "Desvio-Padrão: 3.0665596516038414\n",
      "Varância: 9.403788096844673\n"
     ]
    }
   ],
   "source": [
    "#calculando média, variância e desvio padrão da variável raca_cor\n",
    "n_raca_cor = len(data.raca_cor)\n",
    "mean_raca_cor = data.raca_cor.mean()\n",
    "std_amostral_raca_cor = np.std(data.raca_cor, ddof=1) \n",
    "var_amostral_raca_cor = std_amostral_raca_cor**2\n",
    "\n",
    "print('Registros:',n_raca_cor)\n",
    "print('Média:',mean_raca_cor)\n",
    "print('Desvio-Padrão:',std_amostral_raca_cor)\n",
    "print('Varância:',var_amostral_raca_cor)\n",
    "\n",
    "#desvio padrão amostral e populacional quase idênticos, dado que n é muito alto\n",
    "#outro metodo, porém calcula dp populacional: data.idade.describe()"
   ]
  },
  {
   "cell_type": "code",
   "execution_count": 146,
   "metadata": {},
   "outputs": [
    {
     "data": {
      "text/plain": [
       "<matplotlib.axes._subplots.AxesSubplot at 0x26703000208>"
      ]
     },
     "execution_count": 146,
     "metadata": {},
     "output_type": "execute_result"
    },
    {
     "data": {
      "image/png": "[encoded data removed]",
      "text/plain": [
       "<Figure size 432x288 with 1 Axes>"
      ]
     },
     "metadata": {
      "needs_background": "light"
     },
     "output_type": "display_data"
    }
   ],
   "source": [
    "#plota o histograma para variável raça cor\n",
    "data.raca_cor.plot.hist()"
   ]
  },
  {
   "cell_type": "code",
   "execution_count": 147,
   "metadata": {},
   "outputs": [
    {
     "data": {
      "image/png": "[encoded data removed]",
      "text/plain": [
       "<Figure size 432x288 with 1 Axes>"
      ]
     },
     "metadata": {
      "needs_background": "light"
     },
     "output_type": "display_data"
    }
   ],
   "source": [
    "#plotar dispersão salario vs sexo (plotei apenas os 10000 primeiros registros)\n",
    "plt.plot(data.salario_log.head(10000), data.raca_cor.head(10000),'o')\n",
    "plt.title('Dispersão entre salario_log e raca_cor')\n",
    "plt.xlabel('salario_log')\n",
    "plt.ylabel('raca_cor')\n",
    "plt.show()"
   ]
  },
  {
   "cell_type": "code",
   "execution_count": 149,
   "metadata": {},
   "outputs": [
    {
     "data": {
      "text/html": [
       "<div>\n",
       "<style scoped>\n",
       "    .dataframe tbody tr th:only-of-type {\n",
       "        vertical-align: middle;\n",
       "    }\n",
       "\n",
       "    .dataframe tbody tr th {\n",
       "        vertical-align: top;\n",
       "    }\n",
       "\n",
       "    .dataframe thead th {\n",
       "        text-align: right;\n",
       "    }\n",
       "</style>\n",
       "<table border=\"1\" class=\"dataframe\">\n",
       "  <thead>\n",
       "    <tr style=\"text-align: right;\">\n",
       "      <th></th>\n",
       "      <th>salario_log</th>\n",
       "      <th>raca_cor</th>\n",
       "    </tr>\n",
       "  </thead>\n",
       "  <tbody>\n",
       "    <tr>\n",
       "      <th>salario_log</th>\n",
       "      <td>1.00000</td>\n",
       "      <td>-0.06586</td>\n",
       "    </tr>\n",
       "    <tr>\n",
       "      <th>raca_cor</th>\n",
       "      <td>-0.06586</td>\n",
       "      <td>1.00000</td>\n",
       "    </tr>\n",
       "  </tbody>\n",
       "</table>\n",
       "</div>"
      ],
      "text/plain": [
       "             salario_log  raca_cor\n",
       "salario_log      1.00000  -0.06586\n",
       "raca_cor        -0.06586   1.00000"
      ]
     },
     "execution_count": 149,
     "metadata": {},
     "output_type": "execute_result"
    }
   ],
   "source": [
    "#correlação entre salario_log e sexo\n",
    "data[['salario_log',\n",
    "      'raca_cor',\n",
    "    ]].corr(method ='pearson')"
   ]
  },
  {
   "cell_type": "code",
   "execution_count": 151,
   "metadata": {},
   "outputs": [
    {
     "name": "stdout",
     "output_type": "stream",
     "text": [
      "Média salário negro: 1451.7972360229858\n",
      "Média salário pardo: 1459.304827614948\n",
      "Média salário branco: 1824.9111422037026\n",
      "Média salário branco padrão: 0.09423837082385148\n"
     ]
    }
   ],
   "source": [
    "data_negro = data.loc[data.raca_cor == 4 , ['salario_log', 'raca_cor', 'salario_mensal'] ]\n",
    "data_pardo = data.loc[data.raca_cor == 8 , ['salario_log', 'raca_cor', 'salario_mensal'] ]\n",
    "data_branco = data.loc[data.raca_cor == 2 , ['salario_log', 'raca_cor', 'salario_mensal'] ]\n",
    "\n",
    "\n",
    "mean_salario_negro = data_negro.salario_mensal.mean()\n",
    "mean_salario_pardo = data_pardo.salario_mensal.mean()\n",
    "mean_salario_branco = data_branco.salario_mensal.mean()\n",
    "\n",
    "mean_salario_branco_padrao = (mean_salario_branco - mean_salario) / std_amostral_salario\n",
    "\n",
    "print('Média salário negro:',mean_salario_negro)\n",
    "print('Média salário pardo:',mean_salario_pardo)\n",
    "print('Média salário branco:',mean_salario_branco)\n",
    "print('Média salário branco padrão:',mean_salario_branco_padrao)\n"
   ]
  },
  {
   "cell_type": "markdown",
   "metadata": {},
   "source": [
    "## 7 - TESTE DE HIPÓTESE"
   ]
  },
  {
   "cell_type": "markdown",
   "metadata": {},
   "source": [
    "## 8 MATRIZ DE CORRELAÇÃO"
   ]
  },
  {
   "cell_type": "code",
   "execution_count": 85,
   "metadata": {},
   "outputs": [
    {
     "data": {
      "text/html": [
       "<div>\n",
       "<style scoped>\n",
       "    .dataframe tbody tr th:only-of-type {\n",
       "        vertical-align: middle;\n",
       "    }\n",
       "\n",
       "    .dataframe tbody tr th {\n",
       "        vertical-align: top;\n",
       "    }\n",
       "\n",
       "    .dataframe thead th {\n",
       "        text-align: right;\n",
       "    }\n",
       "</style>\n",
       "<table border=\"1\" class=\"dataframe\">\n",
       "  <thead>\n",
       "    <tr style=\"text-align: right;\">\n",
       "      <th></th>\n",
       "      <th>salario_log</th>\n",
       "      <th>idade_log</th>\n",
       "      <th>admitidos_desligados</th>\n",
       "      <th>grau_instrucao</th>\n",
       "      <th>qtd_hora_contrat</th>\n",
       "      <th>raca_cor</th>\n",
       "      <th>sexo</th>\n",
       "      <th>tempo_emprego</th>\n",
       "    </tr>\n",
       "  </thead>\n",
       "  <tbody>\n",
       "    <tr>\n",
       "      <th>salario_log</th>\n",
       "      <td>1.000000</td>\n",
       "      <td>0.153457</td>\n",
       "      <td>0.018844</td>\n",
       "      <td>0.110415</td>\n",
       "      <td>0.328399</td>\n",
       "      <td>-0.065860</td>\n",
       "      <td>-0.063652</td>\n",
       "      <td>0.126529</td>\n",
       "    </tr>\n",
       "    <tr>\n",
       "      <th>idade_log</th>\n",
       "      <td>0.153457</td>\n",
       "      <td>1.000000</td>\n",
       "      <td>0.110425</td>\n",
       "      <td>-0.089976</td>\n",
       "      <td>0.101038</td>\n",
       "      <td>-0.029238</td>\n",
       "      <td>-0.064082</td>\n",
       "      <td>0.252897</td>\n",
       "    </tr>\n",
       "    <tr>\n",
       "      <th>admitidos_desligados</th>\n",
       "      <td>0.018844</td>\n",
       "      <td>0.110425</td>\n",
       "      <td>1.000000</td>\n",
       "      <td>-0.031150</td>\n",
       "      <td>-0.058134</td>\n",
       "      <td>-0.039206</td>\n",
       "      <td>-0.013509</td>\n",
       "      <td>0.332575</td>\n",
       "    </tr>\n",
       "    <tr>\n",
       "      <th>grau_instrucao</th>\n",
       "      <td>0.110415</td>\n",
       "      <td>-0.089976</td>\n",
       "      <td>-0.031150</td>\n",
       "      <td>1.000000</td>\n",
       "      <td>-0.155670</td>\n",
       "      <td>-0.062680</td>\n",
       "      <td>0.205090</td>\n",
       "      <td>0.041182</td>\n",
       "    </tr>\n",
       "    <tr>\n",
       "      <th>qtd_hora_contrat</th>\n",
       "      <td>0.328399</td>\n",
       "      <td>0.101038</td>\n",
       "      <td>-0.058134</td>\n",
       "      <td>-0.155670</td>\n",
       "      <td>1.000000</td>\n",
       "      <td>0.049328</td>\n",
       "      <td>-0.114000</td>\n",
       "      <td>-0.063910</td>\n",
       "    </tr>\n",
       "    <tr>\n",
       "      <th>raca_cor</th>\n",
       "      <td>-0.065860</td>\n",
       "      <td>-0.029238</td>\n",
       "      <td>-0.039206</td>\n",
       "      <td>-0.062680</td>\n",
       "      <td>0.049328</td>\n",
       "      <td>1.000000</td>\n",
       "      <td>-0.059259</td>\n",
       "      <td>-0.092636</td>\n",
       "    </tr>\n",
       "    <tr>\n",
       "      <th>sexo</th>\n",
       "      <td>-0.063652</td>\n",
       "      <td>-0.064082</td>\n",
       "      <td>-0.013509</td>\n",
       "      <td>0.205090</td>\n",
       "      <td>-0.114000</td>\n",
       "      <td>-0.059259</td>\n",
       "      <td>1.000000</td>\n",
       "      <td>0.009666</td>\n",
       "    </tr>\n",
       "    <tr>\n",
       "      <th>tempo_emprego</th>\n",
       "      <td>0.126529</td>\n",
       "      <td>0.252897</td>\n",
       "      <td>0.332575</td>\n",
       "      <td>0.041182</td>\n",
       "      <td>-0.063910</td>\n",
       "      <td>-0.092636</td>\n",
       "      <td>0.009666</td>\n",
       "      <td>1.000000</td>\n",
       "    </tr>\n",
       "  </tbody>\n",
       "</table>\n",
       "</div>"
      ],
      "text/plain": [
       "                      salario_log  idade_log  admitidos_desligados  \\\n",
       "salario_log              1.000000   0.153457              0.018844   \n",
       "idade_log                0.153457   1.000000              0.110425   \n",
       "admitidos_desligados     0.018844   0.110425              1.000000   \n",
       "grau_instrucao           0.110415  -0.089976             -0.031150   \n",
       "qtd_hora_contrat         0.328399   0.101038             -0.058134   \n",
       "raca_cor                -0.065860  -0.029238             -0.039206   \n",
       "sexo                    -0.063652  -0.064082             -0.013509   \n",
       "tempo_emprego            0.126529   0.252897              0.332575   \n",
       "\n",
       "                      grau_instrucao  qtd_hora_contrat  raca_cor      sexo  \\\n",
       "salario_log                 0.110415          0.328399 -0.065860 -0.063652   \n",
       "idade_log                  -0.089976          0.101038 -0.029238 -0.064082   \n",
       "admitidos_desligados       -0.031150         -0.058134 -0.039206 -0.013509   \n",
       "grau_instrucao              1.000000         -0.155670 -0.062680  0.205090   \n",
       "qtd_hora_contrat           -0.155670          1.000000  0.049328 -0.114000   \n",
       "raca_cor                   -0.062680          0.049328  1.000000 -0.059259   \n",
       "sexo                        0.205090         -0.114000 -0.059259  1.000000   \n",
       "tempo_emprego               0.041182         -0.063910 -0.092636  0.009666   \n",
       "\n",
       "                      tempo_emprego  \n",
       "salario_log                0.126529  \n",
       "idade_log                  0.252897  \n",
       "admitidos_desligados       0.332575  \n",
       "grau_instrucao             0.041182  \n",
       "qtd_hora_contrat          -0.063910  \n",
       "raca_cor                  -0.092636  \n",
       "sexo                       0.009666  \n",
       "tempo_emprego              1.000000  "
      ]
     },
     "execution_count": 85,
     "metadata": {},
     "output_type": "execute_result"
    }
   ],
   "source": [
    "#correlação entre variáveis numéricas\n",
    "data[['salario_log',\n",
    "      'idade_log',\n",
    "      'admitidos_desligados',\n",
    "      'grau_instrucao',\n",
    "      'qtd_hora_contrat',\n",
    "      'raca_cor',\n",
    "      'sexo',\n",
    "      'tempo_emprego'\n",
    "     ]].corr(method ='pearson')"
   ]
  }
 ],
 "metadata": {
  "kernelspec": {
   "display_name": "Python 3",
   "language": "python",
   "name": "python3"
  },
  "language_info": {
   "codemirror_mode": {
    "name": "ipython",
    "version": 3
   },
   "file_extension": ".py",
   "mimetype": "text/x-python",
   "name": "python",
   "nbconvert_exporter": "python",
   "pygments_lexer": "ipython3",
   "version": "3.7.3"
  }
 },
 "nbformat": 4,
 "nbformat_minor": 4
}
