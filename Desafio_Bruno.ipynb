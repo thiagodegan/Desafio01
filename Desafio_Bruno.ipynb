{
 "cells": [
  {
   "cell_type": "code",
   "execution_count": 1,
   "metadata": {},
   "outputs": [],
   "source": [
    "#Importando as bibliotecas\n",
    "\n",
    "import pandas as pd\n",
    "import numpy as np\n",
    "import matplotlib.pyplot as plt\n",
    "import matplotlib as mpl\n",
    "import scipy\n",
    "from scipy import stats\n",
    "import seaborn as sbn\n",
    "%matplotlib inline\n",
    "import warnings\n",
    "warnings.filterwarnings(\"ignore\")"
   ]
  },
  {
   "cell_type": "code",
   "execution_count": 2,
   "metadata": {},
   "outputs": [],
   "source": [
    "data = pd.read_csv(r'C:\\Users\\maria\\Desktop\\Data Science\\Desafio 1-20190915\\CAGEDEST_122018.txt',\n",
    "                   encoding = 'ISO-8859-1', \n",
    "                   decimal = ',', delimiter = ';')"
   ]
  },
  {
   "cell_type": "code",
   "execution_count": 3,
   "metadata": {},
   "outputs": [
    {
     "name": "stdout",
     "output_type": "stream",
     "text": [
      "<class 'pandas.core.frame.DataFrame'>\n",
      "RangeIndex: 2256752 entries, 0 to 2256751\n",
      "Data columns (total 42 columns):\n",
      "Admitidos/Desligados     int64\n",
      "Competência Declarada    int64\n",
      "Município                int64\n",
      "Ano Declarado            int64\n",
      "CBO 2002 Ocupação        int64\n",
      "CNAE 1.0 Classe          int64\n",
      "CNAE 2.0 Classe          int64\n",
      "CNAE 2.0 Subclas         int64\n",
      "Faixa Empr Início Jan    int64\n",
      "Grau Instrução           int64\n",
      "Qtd Hora Contrat         int64\n",
      "IBGE Subsetor            int64\n",
      "Idade                    int64\n",
      "Ind Aprendiz             int64\n",
      "Ind Portador Defic       int64\n",
      "Raça Cor                 int64\n",
      "Salário Mensal           float64\n",
      "Saldo Mov                int64\n",
      "Sexo                     int64\n",
      "Tempo Emprego            float64\n",
      "Tipo Estab               int64\n",
      "Tipo Defic               int64\n",
      "Tipo Mov Desagregado     int64\n",
      "UF                       int64\n",
      "Bairros SP               object\n",
      "Bairros Fortaleza        object\n",
      "Bairros RJ               object\n",
      "Distritos SP             object\n",
      "Regiões Adm DF           int64\n",
      "Mesorregião              int64\n",
      "Microrregião             int64\n",
      "Região Adm RJ            object\n",
      "Região Adm SP            object\n",
      "Região Corede            object\n",
      "Região Corede 04         object\n",
      "Região Gov SP            object\n",
      "Região Senac PR          object\n",
      "Região Senai PR          object\n",
      "Região Senai SP          object\n",
      "Sub-Região Senai PR      object\n",
      "Ind Trab Parcial         int64\n",
      "Ind Trab Intermitente    int64\n",
      "dtypes: float64(2), int64(27), object(13)\n",
      "memory usage: 723.1+ MB\n"
     ]
    }
   ],
   "source": [
    "data.info()"
   ]
  },
  {
   "cell_type": "code",
   "execution_count": 4,
   "metadata": {},
   "outputs": [
    {
     "data": {
      "text/plain": [
       "Index(['Admitidos/Desligados', 'Competência Declarada', 'Município',\n",
       "       'Ano Declarado', 'CBO 2002 Ocupação', 'CNAE 1.0 Classe',\n",
       "       'CNAE 2.0 Classe', 'CNAE 2.0 Subclas', 'Faixa Empr Início Jan',\n",
       "       'Grau Instrução', 'Qtd Hora Contrat', 'IBGE Subsetor', 'Idade',\n",
       "       'Ind Aprendiz', 'Ind Portador Defic', 'Raça Cor', 'Salário Mensal',\n",
       "       'Saldo Mov', 'Sexo', 'Tempo Emprego', 'Tipo Estab', 'Tipo Defic',\n",
       "       'Tipo Mov Desagregado', 'UF', 'Bairros SP', 'Bairros Fortaleza',\n",
       "       'Bairros RJ', 'Distritos SP', 'Regiões Adm DF', 'Mesorregião',\n",
       "       'Microrregião', 'Região Adm RJ', 'Região Adm SP', 'Região Corede',\n",
       "       'Região Corede 04', 'Região Gov SP', 'Região Senac PR',\n",
       "       'Região Senai PR', 'Região Senai SP', 'Sub-Região Senai PR',\n",
       "       'Ind Trab Parcial', 'Ind Trab Intermitente'],\n",
       "      dtype='object')"
      ]
     },
     "execution_count": 4,
     "metadata": {},
     "output_type": "execute_result"
    }
   ],
   "source": [
    "data.columns"
   ]
  },
  {
   "cell_type": "code",
   "execution_count": 5,
   "metadata": {},
   "outputs": [],
   "source": [
    "#renomeia o nome das colunas para facilitar a analize\n",
    "data.rename(columns={'Admitidos/Desligados': 'admitidos_desligados', \n",
    "                     'Competência Declarada': 'competencia_declarada', \n",
    "                     'Município': 'municipio',\n",
    "                     'Ano Declarado' : 'ano_declarado',\n",
    "                     'CBO 2002 Ocupação' : 'cbo_2002_ocupacao',\n",
    "                     'CNAE 1.0 Classe' : 'cnae_10_classe',\n",
    "                     'CNAE 2.0 Classe' : 'cnae_20_classe',\n",
    "                     'CNAE 2.0 Subclas' : 'cnae_20_subclas',\n",
    "                     'Faixa Empr Início Jan' : 'faixa_empr_ini_jan',\n",
    "                     'Grau Instrução' : 'grau_instrucao',\n",
    "                     'Qtd Hora Contrat' : 'qtd_hora_contrat',\n",
    "                     'IBGE Subsetor' : 'ibge_subsetor',\n",
    "                     'Idade' : 'idade',\n",
    "                     'Ind Aprendiz' : 'ind_aprendiz', \n",
    "                     'Ind Portador Defic' : 'ind_portador_defic',\n",
    "                     'Raça Cor' : 'raca_cor',\n",
    "                     'Salário Mensal':'salario_mensal',\n",
    "                     'Saldo Mov':'salario_mov',\n",
    "                     'Sexo':'sexo',\n",
    "                     'Tempo Emprego':'tempo_emprego',\n",
    "                     'Tipo Estab':'tipo_estab',\n",
    "                     'Tipo Defic':'tipo_defic',\n",
    "                     'Tipo Mov Desagregado':'tipo_mov_desagregado',\n",
    "                     'UF':'uf',\n",
    "                     'Bairros SP':'bairros_sp',\n",
    "                     'Bairros Fortaleza':'bairros_fortaleza',\n",
    "                     'Bairros RJ':'bairros_rj',\n",
    "                     'Distritos SP':'distritos_sp',\n",
    "                     'Regiões Adm DF':'regioes_adm_df',\n",
    "                     'Mesorregião':'mesoregiao',\n",
    "                     'Microrregião':'microregiao',\n",
    "                     'Região Adm RJ':'regiao_adm_rj',\n",
    "                     'Região Adm SP':'regiao_adm_sp',\n",
    "                     'Região Corede':'regiao_corede',\n",
    "                     'Região Corede 04':'regiao_corede_04',\n",
    "                     'Região Gov SP':'regiao_gov_sp',\n",
    "                     'Região Senac PR':'regiao_senac_pr',\n",
    "                     'Região Senai PR':'regiao_senai_pr',\n",
    "                     'Região Senai SP':'regiao_senai_sp',\n",
    "                     'Sub-Região Senai PR':'subregiao_senai_pr',\n",
    "                     'Ind Trab Parcial':'ind_trab_parcial',\n",
    "                     'Ind Trab Intermitente':'ind_trab_intermitente'}, inplace=True)"
   ]
  },
  {
   "cell_type": "code",
   "execution_count": 6,
   "metadata": {},
   "outputs": [
    {
     "data": {
      "text/plain": [
       "Index(['admitidos_desligados', 'competencia_declarada', 'municipio',\n",
       "       'ano_declarado', 'cbo_2002_ocupacao', 'cnae_10_classe',\n",
       "       'cnae_20_classe', 'cnae_20_subclas', 'faixa_empr_ini_jan',\n",
       "       'grau_instrucao', 'qtd_hora_contrat', 'ibge_subsetor', 'idade',\n",
       "       'ind_aprendiz', 'ind_portador_defic', 'raca_cor', 'salario_mensal',\n",
       "       'salario_mov', 'sexo', 'tempo_emprego', 'tipo_estab', 'tipo_defic',\n",
       "       'tipo_mov_desagregado', 'uf', 'bairros_sp', 'bairros_fortaleza',\n",
       "       'bairros_rj', 'distritos_sp', 'regioes_adm_df', 'mesoregiao',\n",
       "       'microregiao', 'regiao_adm_rj', 'regiao_adm_sp', 'regiao_corede',\n",
       "       'regiao_corede_04', 'regiao_gov_sp', 'regiao_senac_pr',\n",
       "       'regiao_senai_pr', 'regiao_senai_sp', 'subregiao_senai_pr',\n",
       "       'ind_trab_parcial', 'ind_trab_intermitente'],\n",
       "      dtype='object')"
      ]
     },
     "execution_count": 6,
     "metadata": {},
     "output_type": "execute_result"
    }
   ],
   "source": [
    "data.columns"
   ]
  },
  {
   "cell_type": "code",
   "execution_count": 34,
   "metadata": {},
   "outputs": [],
   "source": [
    "df = pd.DataFrame({'salario_mensal': pd.Series(data.salario_mensal), 'Idade': pd.Series(data.idade),\n",
    "                   'grau_instrucao' : pd.Series(data.grau_instrucao), 'Sexo': pd.Series(data.sexo),\n",
    "                   'raca_cor': pd.Series(data.raca_cor), 'tempo_emprego': pd.Series(data.tempo_emprego)})"
   ]
  },
  {
   "cell_type": "code",
   "execution_count": 35,
   "metadata": {},
   "outputs": [
    {
     "data": {
      "text/plain": [
       "Index(['salario_mensal', 'Idade', 'grau_instrucao', 'Sexo', 'raca_cor',\n",
       "       'tempo_emprego'],\n",
       "      dtype='object')"
      ]
     },
     "execution_count": 35,
     "metadata": {},
     "output_type": "execute_result"
    }
   ],
   "source": [
    "df.columns"
   ]
  },
  {
   "cell_type": "code",
   "execution_count": 36,
   "metadata": {},
   "outputs": [
    {
     "data": {
      "text/html": [
       "<div>\n",
       "<style scoped>\n",
       "    .dataframe tbody tr th:only-of-type {\n",
       "        vertical-align: middle;\n",
       "    }\n",
       "\n",
       "    .dataframe tbody tr th {\n",
       "        vertical-align: top;\n",
       "    }\n",
       "\n",
       "    .dataframe thead th {\n",
       "        text-align: right;\n",
       "    }\n",
       "</style>\n",
       "<table border=\"1\" class=\"dataframe\">\n",
       "  <thead>\n",
       "    <tr style=\"text-align: right;\">\n",
       "      <th></th>\n",
       "      <th>salario_mensal</th>\n",
       "      <th>Idade</th>\n",
       "      <th>grau_instrucao</th>\n",
       "      <th>Sexo</th>\n",
       "      <th>raca_cor</th>\n",
       "      <th>tempo_emprego</th>\n",
       "    </tr>\n",
       "  </thead>\n",
       "  <tbody>\n",
       "    <tr>\n",
       "      <th>count</th>\n",
       "      <td>2.256752e+06</td>\n",
       "      <td>2.256752e+06</td>\n",
       "      <td>2.256752e+06</td>\n",
       "      <td>2.256752e+06</td>\n",
       "      <td>2.256752e+06</td>\n",
       "      <td>2.256752e+06</td>\n",
       "    </tr>\n",
       "    <tr>\n",
       "      <th>mean</th>\n",
       "      <td>1.627244e+03</td>\n",
       "      <td>3.231423e+01</td>\n",
       "      <td>6.595547e+00</td>\n",
       "      <td>1.413703e+00</td>\n",
       "      <td>5.254456e+00</td>\n",
       "      <td>1.318030e+01</td>\n",
       "    </tr>\n",
       "    <tr>\n",
       "      <th>std</th>\n",
       "      <td>2.097521e+03</td>\n",
       "      <td>1.096019e+01</td>\n",
       "      <td>1.548538e+00</td>\n",
       "      <td>4.924966e-01</td>\n",
       "      <td>3.066560e+00</td>\n",
       "      <td>3.413455e+01</td>\n",
       "    </tr>\n",
       "    <tr>\n",
       "      <th>min</th>\n",
       "      <td>0.000000e+00</td>\n",
       "      <td>1.000000e+01</td>\n",
       "      <td>1.000000e+00</td>\n",
       "      <td>1.000000e+00</td>\n",
       "      <td>1.000000e+00</td>\n",
       "      <td>0.000000e+00</td>\n",
       "    </tr>\n",
       "    <tr>\n",
       "      <th>25%</th>\n",
       "      <td>1.066000e+03</td>\n",
       "      <td>2.300000e+01</td>\n",
       "      <td>6.000000e+00</td>\n",
       "      <td>1.000000e+00</td>\n",
       "      <td>2.000000e+00</td>\n",
       "      <td>0.000000e+00</td>\n",
       "    </tr>\n",
       "    <tr>\n",
       "      <th>50%</th>\n",
       "      <td>1.271000e+03</td>\n",
       "      <td>3.000000e+01</td>\n",
       "      <td>7.000000e+00</td>\n",
       "      <td>1.000000e+00</td>\n",
       "      <td>6.000000e+00</td>\n",
       "      <td>2.000000e+00</td>\n",
       "    </tr>\n",
       "    <tr>\n",
       "      <th>75%</th>\n",
       "      <td>1.600000e+03</td>\n",
       "      <td>3.900000e+01</td>\n",
       "      <td>7.000000e+00</td>\n",
       "      <td>2.000000e+00</td>\n",
       "      <td>8.000000e+00</td>\n",
       "      <td>1.100000e+01</td>\n",
       "    </tr>\n",
       "    <tr>\n",
       "      <th>max</th>\n",
       "      <td>1.428300e+05</td>\n",
       "      <td>1.030000e+02</td>\n",
       "      <td>9.000000e+00</td>\n",
       "      <td>2.000000e+00</td>\n",
       "      <td>9.000000e+00</td>\n",
       "      <td>5.990000e+02</td>\n",
       "    </tr>\n",
       "  </tbody>\n",
       "</table>\n",
       "</div>"
      ],
      "text/plain": [
       "       salario_mensal         Idade  grau_instrucao          Sexo  \\\n",
       "count    2.256752e+06  2.256752e+06    2.256752e+06  2.256752e+06   \n",
       "mean     1.627244e+03  3.231423e+01    6.595547e+00  1.413703e+00   \n",
       "std      2.097521e+03  1.096019e+01    1.548538e+00  4.924966e-01   \n",
       "min      0.000000e+00  1.000000e+01    1.000000e+00  1.000000e+00   \n",
       "25%      1.066000e+03  2.300000e+01    6.000000e+00  1.000000e+00   \n",
       "50%      1.271000e+03  3.000000e+01    7.000000e+00  1.000000e+00   \n",
       "75%      1.600000e+03  3.900000e+01    7.000000e+00  2.000000e+00   \n",
       "max      1.428300e+05  1.030000e+02    9.000000e+00  2.000000e+00   \n",
       "\n",
       "           raca_cor  tempo_emprego  \n",
       "count  2.256752e+06   2.256752e+06  \n",
       "mean   5.254456e+00   1.318030e+01  \n",
       "std    3.066560e+00   3.413455e+01  \n",
       "min    1.000000e+00   0.000000e+00  \n",
       "25%    2.000000e+00   0.000000e+00  \n",
       "50%    6.000000e+00   2.000000e+00  \n",
       "75%    8.000000e+00   1.100000e+01  \n",
       "max    9.000000e+00   5.990000e+02  "
      ]
     },
     "execution_count": 36,
     "metadata": {},
     "output_type": "execute_result"
    }
   ],
   "source": [
    "df.describe()"
   ]
  },
  {
   "cell_type": "code",
   "execution_count": 37,
   "metadata": {},
   "outputs": [
    {
     "name": "stdout",
     "output_type": "stream",
     "text": [
      "<class 'pandas.core.frame.DataFrame'>\n",
      "RangeIndex: 2256752 entries, 0 to 2256751\n",
      "Data columns (total 6 columns):\n",
      "salario_mensal    float64\n",
      "Idade             int64\n",
      "grau_instrucao    int64\n",
      "Sexo              int64\n",
      "raca_cor          int64\n",
      "tempo_emprego     float64\n",
      "dtypes: float64(2), int64(4)\n",
      "memory usage: 103.3 MB\n"
     ]
    }
   ],
   "source": [
    "df.info()"
   ]
  },
  {
   "cell_type": "code",
   "execution_count": null,
   "metadata": {},
   "outputs": [],
   "source": []
  },
  {
   "cell_type": "code",
   "execution_count": 38,
   "metadata": {},
   "outputs": [
    {
     "data": {
      "text/plain": [
       "pandas.core.frame.DataFrame"
      ]
     },
     "execution_count": 38,
     "metadata": {},
     "output_type": "execute_result"
    }
   ],
   "source": [
    "type(df)"
   ]
  },
  {
   "cell_type": "code",
   "execution_count": 39,
   "metadata": {},
   "outputs": [
    {
     "data": {
      "text/plain": [
       "pandas.core.series.Series"
      ]
     },
     "execution_count": 39,
     "metadata": {},
     "output_type": "execute_result"
    }
   ],
   "source": [
    "type(df.salario_mensal)"
   ]
  },
  {
   "cell_type": "code",
   "execution_count": 40,
   "metadata": {},
   "outputs": [
    {
     "data": {
      "text/plain": [
       "0"
      ]
     },
     "execution_count": 40,
     "metadata": {},
     "output_type": "execute_result"
    }
   ],
   "source": [
    "#Verificando se existe NaN  na coluna Salário Mensal\n",
    "df.salario_mensal.isna().sum()"
   ]
  },
  {
   "cell_type": "code",
   "execution_count": 41,
   "metadata": {},
   "outputs": [
    {
     "data": {
      "text/plain": [
       "0"
      ]
     },
     "execution_count": 41,
     "metadata": {},
     "output_type": "execute_result"
    }
   ],
   "source": [
    "#Verificando se existe Nulos na coluna Salário Mensal\n",
    "df.salario_mensal.isnull().sum()"
   ]
  },
  {
   "cell_type": "code",
   "execution_count": 42,
   "metadata": {},
   "outputs": [
    {
     "data": {
      "text/plain": [
       "count    2.256752e+06\n",
       "mean     1.627244e+03\n",
       "std      2.097521e+03\n",
       "min      0.000000e+00\n",
       "25%      1.066000e+03\n",
       "50%      1.271000e+03\n",
       "75%      1.600000e+03\n",
       "max      1.428300e+05\n",
       "Name: salario_mensal, dtype: float64"
      ]
     },
     "execution_count": 42,
     "metadata": {},
     "output_type": "execute_result"
    }
   ],
   "source": [
    "df.salario_mensal.describe()"
   ]
  },
  {
   "cell_type": "code",
   "execution_count": 43,
   "metadata": {},
   "outputs": [
    {
     "data": {
      "text/plain": [
       "0     954.0\n",
       "1    2500.0\n",
       "2       0.0\n",
       "3       0.0\n",
       "4       0.0\n",
       "5       0.0\n",
       "6       0.0\n",
       "7    1061.0\n",
       "8       0.0\n",
       "9       0.0\n",
       "Name: salario_mensal, dtype: float64"
      ]
     },
     "execution_count": 43,
     "metadata": {},
     "output_type": "execute_result"
    }
   ],
   "source": [
    "df.salario_mensal.head(10)"
   ]
  },
  {
   "cell_type": "code",
   "execution_count": 44,
   "metadata": {},
   "outputs": [
    {
     "data": {
      "text/plain": [
       "(2256752, 6)"
      ]
     },
     "execution_count": 44,
     "metadata": {},
     "output_type": "execute_result"
    }
   ],
   "source": [
    "df.shape"
   ]
  },
  {
   "cell_type": "code",
   "execution_count": 45,
   "metadata": {},
   "outputs": [
    {
     "data": {
      "text/plain": [
       "<matplotlib.axes._subplots.AxesSubplot at 0x1e8b865afd0>"
      ]
     },
     "execution_count": 45,
     "metadata": {},
     "output_type": "execute_result"
    },
    {
     "data": {
      "image/png": "[encoded data removed]",
      "text/plain": [
       "<Figure size 432x288 with 1 Axes>"
      ]
     },
     "metadata": {
      "needs_background": "light"
     },
     "output_type": "display_data"
    }
   ],
   "source": [
    "df.salario_mensal.plot.hist(bins=50, range=(0,5000))"
   ]
  },
  {
   "cell_type": "code",
   "execution_count": 46,
   "metadata": {},
   "outputs": [
    {
     "data": {
      "image/png": "[encoded data removed]",
      "text/plain": [
       "<Figure size 432x288 with 1 Axes>"
      ]
     },
     "metadata": {
      "needs_background": "light"
     },
     "output_type": "display_data"
    },
    {
     "data": {
      "text/plain": [
       "1039127    0.0\n",
       "622432     0.0\n",
       "622462     0.0\n",
       "622463     0.0\n",
       "1457667    0.0\n",
       "Name: salario_mensal, dtype: float64"
      ]
     },
     "execution_count": 46,
     "metadata": {},
     "output_type": "execute_result"
    }
   ],
   "source": [
    "# plotando uma distribuição densidade de probabilidade para os salários\n",
    "\n",
    "# criando uma figura com um gráfico \n",
    "mpl.rcParams['agg.path.chunksize'] = 0\n",
    "fig, ax = plt.subplots(1, 1)\n",
    "# definindo os valores de x\n",
    "x = df.salario_mensal.sort_values()\n",
    "# calculando a média\n",
    "mu = x.mean()\n",
    "# calculando o desvio padrão populacional\n",
    "sigma = x.std()#/len(df.salary)\n",
    "# plotando o gráfico com os valores de x e os valores normais da densidade de probabilidade\n",
    "ax.plot(x, stats.norm.pdf(x, mu, sigma),label='Salário Mensal')\n",
    "# imprimindo a legenda\n",
    "ax.legend(loc='best', frameon=False,fontsize = 20)\n",
    "# mostrando o gráfico\n",
    "plt.show()\n",
    "x.head()"
   ]
  },
  {
   "cell_type": "code",
   "execution_count": 47,
   "metadata": {},
   "outputs": [
    {
     "data": {
      "text/plain": [
       "(0.2637892961502075, 0.0)"
      ]
     },
     "execution_count": 47,
     "metadata": {},
     "output_type": "execute_result"
    }
   ],
   "source": [
    "#fazendo o teste de normalidade de shapiro\n",
    "stats.shapiro(df.salario_mensal)\n",
    "# verificamos que o resultado está muito longe de do ideal: (1,0)"
   ]
  },
  {
   "cell_type": "code",
   "execution_count": 48,
   "metadata": {},
   "outputs": [],
   "source": [
    "# Vamos aplicar log para normalizar meu gráfico\n",
    "df['salary_log'] = np.log(df.salario_mensal + 1)"
   ]
  },
  {
   "cell_type": "code",
   "execution_count": 49,
   "metadata": {},
   "outputs": [
    {
     "data": {
      "text/html": [
       "<div>\n",
       "<style scoped>\n",
       "    .dataframe tbody tr th:only-of-type {\n",
       "        vertical-align: middle;\n",
       "    }\n",
       "\n",
       "    .dataframe tbody tr th {\n",
       "        vertical-align: top;\n",
       "    }\n",
       "\n",
       "    .dataframe thead th {\n",
       "        text-align: right;\n",
       "    }\n",
       "</style>\n",
       "<table border=\"1\" class=\"dataframe\">\n",
       "  <thead>\n",
       "    <tr style=\"text-align: right;\">\n",
       "      <th></th>\n",
       "      <th>salario_mensal</th>\n",
       "      <th>Idade</th>\n",
       "      <th>grau_instrucao</th>\n",
       "      <th>Sexo</th>\n",
       "      <th>raca_cor</th>\n",
       "      <th>tempo_emprego</th>\n",
       "      <th>salary_log</th>\n",
       "    </tr>\n",
       "  </thead>\n",
       "  <tbody>\n",
       "    <tr>\n",
       "      <th>0</th>\n",
       "      <td>954.0</td>\n",
       "      <td>24</td>\n",
       "      <td>6</td>\n",
       "      <td>1</td>\n",
       "      <td>8</td>\n",
       "      <td>0.0</td>\n",
       "      <td>6.861711</td>\n",
       "    </tr>\n",
       "    <tr>\n",
       "      <th>1</th>\n",
       "      <td>2500.0</td>\n",
       "      <td>25</td>\n",
       "      <td>8</td>\n",
       "      <td>1</td>\n",
       "      <td>2</td>\n",
       "      <td>0.0</td>\n",
       "      <td>7.824446</td>\n",
       "    </tr>\n",
       "    <tr>\n",
       "      <th>2</th>\n",
       "      <td>0.0</td>\n",
       "      <td>55</td>\n",
       "      <td>2</td>\n",
       "      <td>1</td>\n",
       "      <td>8</td>\n",
       "      <td>0.0</td>\n",
       "      <td>0.000000</td>\n",
       "    </tr>\n",
       "    <tr>\n",
       "      <th>3</th>\n",
       "      <td>0.0</td>\n",
       "      <td>52</td>\n",
       "      <td>2</td>\n",
       "      <td>1</td>\n",
       "      <td>8</td>\n",
       "      <td>0.0</td>\n",
       "      <td>0.000000</td>\n",
       "    </tr>\n",
       "    <tr>\n",
       "      <th>4</th>\n",
       "      <td>0.0</td>\n",
       "      <td>32</td>\n",
       "      <td>2</td>\n",
       "      <td>1</td>\n",
       "      <td>8</td>\n",
       "      <td>0.0</td>\n",
       "      <td>0.000000</td>\n",
       "    </tr>\n",
       "    <tr>\n",
       "      <th>5</th>\n",
       "      <td>0.0</td>\n",
       "      <td>56</td>\n",
       "      <td>2</td>\n",
       "      <td>1</td>\n",
       "      <td>8</td>\n",
       "      <td>0.0</td>\n",
       "      <td>0.000000</td>\n",
       "    </tr>\n",
       "    <tr>\n",
       "      <th>6</th>\n",
       "      <td>0.0</td>\n",
       "      <td>22</td>\n",
       "      <td>2</td>\n",
       "      <td>1</td>\n",
       "      <td>8</td>\n",
       "      <td>0.0</td>\n",
       "      <td>0.000000</td>\n",
       "    </tr>\n",
       "    <tr>\n",
       "      <th>7</th>\n",
       "      <td>1061.0</td>\n",
       "      <td>50</td>\n",
       "      <td>4</td>\n",
       "      <td>2</td>\n",
       "      <td>2</td>\n",
       "      <td>0.0</td>\n",
       "      <td>6.967909</td>\n",
       "    </tr>\n",
       "    <tr>\n",
       "      <th>8</th>\n",
       "      <td>0.0</td>\n",
       "      <td>27</td>\n",
       "      <td>2</td>\n",
       "      <td>2</td>\n",
       "      <td>1</td>\n",
       "      <td>0.0</td>\n",
       "      <td>0.000000</td>\n",
       "    </tr>\n",
       "    <tr>\n",
       "      <th>9</th>\n",
       "      <td>0.0</td>\n",
       "      <td>34</td>\n",
       "      <td>2</td>\n",
       "      <td>2</td>\n",
       "      <td>1</td>\n",
       "      <td>0.0</td>\n",
       "      <td>0.000000</td>\n",
       "    </tr>\n",
       "    <tr>\n",
       "      <th>10</th>\n",
       "      <td>0.0</td>\n",
       "      <td>32</td>\n",
       "      <td>2</td>\n",
       "      <td>2</td>\n",
       "      <td>1</td>\n",
       "      <td>0.0</td>\n",
       "      <td>0.000000</td>\n",
       "    </tr>\n",
       "    <tr>\n",
       "      <th>11</th>\n",
       "      <td>1061.0</td>\n",
       "      <td>22</td>\n",
       "      <td>7</td>\n",
       "      <td>1</td>\n",
       "      <td>8</td>\n",
       "      <td>0.0</td>\n",
       "      <td>6.967909</td>\n",
       "    </tr>\n",
       "    <tr>\n",
       "      <th>12</th>\n",
       "      <td>1061.0</td>\n",
       "      <td>37</td>\n",
       "      <td>7</td>\n",
       "      <td>1</td>\n",
       "      <td>2</td>\n",
       "      <td>0.0</td>\n",
       "      <td>6.967909</td>\n",
       "    </tr>\n",
       "    <tr>\n",
       "      <th>13</th>\n",
       "      <td>1061.0</td>\n",
       "      <td>20</td>\n",
       "      <td>6</td>\n",
       "      <td>1</td>\n",
       "      <td>2</td>\n",
       "      <td>0.0</td>\n",
       "      <td>6.967909</td>\n",
       "    </tr>\n",
       "    <tr>\n",
       "      <th>14</th>\n",
       "      <td>1026.0</td>\n",
       "      <td>39</td>\n",
       "      <td>2</td>\n",
       "      <td>1</td>\n",
       "      <td>2</td>\n",
       "      <td>0.0</td>\n",
       "      <td>6.934397</td>\n",
       "    </tr>\n",
       "    <tr>\n",
       "      <th>15</th>\n",
       "      <td>1061.0</td>\n",
       "      <td>25</td>\n",
       "      <td>5</td>\n",
       "      <td>1</td>\n",
       "      <td>8</td>\n",
       "      <td>0.0</td>\n",
       "      <td>6.967909</td>\n",
       "    </tr>\n",
       "    <tr>\n",
       "      <th>16</th>\n",
       "      <td>1061.0</td>\n",
       "      <td>22</td>\n",
       "      <td>5</td>\n",
       "      <td>1</td>\n",
       "      <td>9</td>\n",
       "      <td>0.0</td>\n",
       "      <td>6.967909</td>\n",
       "    </tr>\n",
       "    <tr>\n",
       "      <th>17</th>\n",
       "      <td>1700.0</td>\n",
       "      <td>18</td>\n",
       "      <td>5</td>\n",
       "      <td>1</td>\n",
       "      <td>8</td>\n",
       "      <td>0.0</td>\n",
       "      <td>7.438972</td>\n",
       "    </tr>\n",
       "    <tr>\n",
       "      <th>18</th>\n",
       "      <td>1026.0</td>\n",
       "      <td>23</td>\n",
       "      <td>4</td>\n",
       "      <td>1</td>\n",
       "      <td>2</td>\n",
       "      <td>0.0</td>\n",
       "      <td>6.934397</td>\n",
       "    </tr>\n",
       "    <tr>\n",
       "      <th>19</th>\n",
       "      <td>1061.0</td>\n",
       "      <td>28</td>\n",
       "      <td>6</td>\n",
       "      <td>1</td>\n",
       "      <td>2</td>\n",
       "      <td>0.0</td>\n",
       "      <td>6.967909</td>\n",
       "    </tr>\n",
       "    <tr>\n",
       "      <th>20</th>\n",
       "      <td>1026.0</td>\n",
       "      <td>48</td>\n",
       "      <td>3</td>\n",
       "      <td>1</td>\n",
       "      <td>2</td>\n",
       "      <td>0.0</td>\n",
       "      <td>6.934397</td>\n",
       "    </tr>\n",
       "    <tr>\n",
       "      <th>21</th>\n",
       "      <td>5000.0</td>\n",
       "      <td>35</td>\n",
       "      <td>7</td>\n",
       "      <td>1</td>\n",
       "      <td>2</td>\n",
       "      <td>0.0</td>\n",
       "      <td>8.517393</td>\n",
       "    </tr>\n",
       "    <tr>\n",
       "      <th>22</th>\n",
       "      <td>1000.0</td>\n",
       "      <td>46</td>\n",
       "      <td>5</td>\n",
       "      <td>2</td>\n",
       "      <td>8</td>\n",
       "      <td>0.0</td>\n",
       "      <td>6.908755</td>\n",
       "    </tr>\n",
       "    <tr>\n",
       "      <th>23</th>\n",
       "      <td>2123.0</td>\n",
       "      <td>45</td>\n",
       "      <td>4</td>\n",
       "      <td>1</td>\n",
       "      <td>8</td>\n",
       "      <td>0.0</td>\n",
       "      <td>7.661056</td>\n",
       "    </tr>\n",
       "    <tr>\n",
       "      <th>24</th>\n",
       "      <td>2123.0</td>\n",
       "      <td>31</td>\n",
       "      <td>6</td>\n",
       "      <td>1</td>\n",
       "      <td>8</td>\n",
       "      <td>0.0</td>\n",
       "      <td>7.661056</td>\n",
       "    </tr>\n",
       "    <tr>\n",
       "      <th>25</th>\n",
       "      <td>1200.0</td>\n",
       "      <td>18</td>\n",
       "      <td>5</td>\n",
       "      <td>1</td>\n",
       "      <td>8</td>\n",
       "      <td>0.0</td>\n",
       "      <td>7.090910</td>\n",
       "    </tr>\n",
       "    <tr>\n",
       "      <th>26</th>\n",
       "      <td>991.0</td>\n",
       "      <td>24</td>\n",
       "      <td>6</td>\n",
       "      <td>1</td>\n",
       "      <td>8</td>\n",
       "      <td>0.0</td>\n",
       "      <td>6.899723</td>\n",
       "    </tr>\n",
       "    <tr>\n",
       "      <th>27</th>\n",
       "      <td>1061.0</td>\n",
       "      <td>21</td>\n",
       "      <td>7</td>\n",
       "      <td>1</td>\n",
       "      <td>8</td>\n",
       "      <td>0.0</td>\n",
       "      <td>6.967909</td>\n",
       "    </tr>\n",
       "    <tr>\n",
       "      <th>28</th>\n",
       "      <td>1061.0</td>\n",
       "      <td>24</td>\n",
       "      <td>5</td>\n",
       "      <td>1</td>\n",
       "      <td>8</td>\n",
       "      <td>0.0</td>\n",
       "      <td>6.967909</td>\n",
       "    </tr>\n",
       "    <tr>\n",
       "      <th>29</th>\n",
       "      <td>1061.0</td>\n",
       "      <td>17</td>\n",
       "      <td>5</td>\n",
       "      <td>1</td>\n",
       "      <td>8</td>\n",
       "      <td>0.0</td>\n",
       "      <td>6.967909</td>\n",
       "    </tr>\n",
       "    <tr>\n",
       "      <th>...</th>\n",
       "      <td>...</td>\n",
       "      <td>...</td>\n",
       "      <td>...</td>\n",
       "      <td>...</td>\n",
       "      <td>...</td>\n",
       "      <td>...</td>\n",
       "      <td>...</td>\n",
       "    </tr>\n",
       "    <tr>\n",
       "      <th>70</th>\n",
       "      <td>1061.0</td>\n",
       "      <td>33</td>\n",
       "      <td>2</td>\n",
       "      <td>2</td>\n",
       "      <td>8</td>\n",
       "      <td>0.0</td>\n",
       "      <td>6.967909</td>\n",
       "    </tr>\n",
       "    <tr>\n",
       "      <th>71</th>\n",
       "      <td>1061.0</td>\n",
       "      <td>36</td>\n",
       "      <td>7</td>\n",
       "      <td>2</td>\n",
       "      <td>2</td>\n",
       "      <td>0.0</td>\n",
       "      <td>6.967909</td>\n",
       "    </tr>\n",
       "    <tr>\n",
       "      <th>72</th>\n",
       "      <td>1229.0</td>\n",
       "      <td>18</td>\n",
       "      <td>6</td>\n",
       "      <td>1</td>\n",
       "      <td>2</td>\n",
       "      <td>0.0</td>\n",
       "      <td>7.114769</td>\n",
       "    </tr>\n",
       "    <tr>\n",
       "      <th>73</th>\n",
       "      <td>1061.0</td>\n",
       "      <td>17</td>\n",
       "      <td>7</td>\n",
       "      <td>1</td>\n",
       "      <td>8</td>\n",
       "      <td>0.0</td>\n",
       "      <td>6.967909</td>\n",
       "    </tr>\n",
       "    <tr>\n",
       "      <th>74</th>\n",
       "      <td>1061.0</td>\n",
       "      <td>19</td>\n",
       "      <td>4</td>\n",
       "      <td>1</td>\n",
       "      <td>8</td>\n",
       "      <td>0.0</td>\n",
       "      <td>6.967909</td>\n",
       "    </tr>\n",
       "    <tr>\n",
       "      <th>75</th>\n",
       "      <td>1223.0</td>\n",
       "      <td>18</td>\n",
       "      <td>4</td>\n",
       "      <td>1</td>\n",
       "      <td>8</td>\n",
       "      <td>0.0</td>\n",
       "      <td>7.109879</td>\n",
       "    </tr>\n",
       "    <tr>\n",
       "      <th>76</th>\n",
       "      <td>1061.0</td>\n",
       "      <td>45</td>\n",
       "      <td>4</td>\n",
       "      <td>2</td>\n",
       "      <td>8</td>\n",
       "      <td>0.0</td>\n",
       "      <td>6.967909</td>\n",
       "    </tr>\n",
       "    <tr>\n",
       "      <th>77</th>\n",
       "      <td>1061.0</td>\n",
       "      <td>21</td>\n",
       "      <td>4</td>\n",
       "      <td>2</td>\n",
       "      <td>8</td>\n",
       "      <td>0.0</td>\n",
       "      <td>6.967909</td>\n",
       "    </tr>\n",
       "    <tr>\n",
       "      <th>78</th>\n",
       "      <td>1061.0</td>\n",
       "      <td>22</td>\n",
       "      <td>7</td>\n",
       "      <td>2</td>\n",
       "      <td>8</td>\n",
       "      <td>0.0</td>\n",
       "      <td>6.967909</td>\n",
       "    </tr>\n",
       "    <tr>\n",
       "      <th>79</th>\n",
       "      <td>1061.0</td>\n",
       "      <td>27</td>\n",
       "      <td>4</td>\n",
       "      <td>2</td>\n",
       "      <td>8</td>\n",
       "      <td>0.0</td>\n",
       "      <td>6.967909</td>\n",
       "    </tr>\n",
       "    <tr>\n",
       "      <th>80</th>\n",
       "      <td>1061.0</td>\n",
       "      <td>22</td>\n",
       "      <td>6</td>\n",
       "      <td>1</td>\n",
       "      <td>2</td>\n",
       "      <td>0.0</td>\n",
       "      <td>6.967909</td>\n",
       "    </tr>\n",
       "    <tr>\n",
       "      <th>81</th>\n",
       "      <td>1062.0</td>\n",
       "      <td>19</td>\n",
       "      <td>4</td>\n",
       "      <td>1</td>\n",
       "      <td>2</td>\n",
       "      <td>0.0</td>\n",
       "      <td>6.968850</td>\n",
       "    </tr>\n",
       "    <tr>\n",
       "      <th>82</th>\n",
       "      <td>1061.0</td>\n",
       "      <td>19</td>\n",
       "      <td>5</td>\n",
       "      <td>2</td>\n",
       "      <td>8</td>\n",
       "      <td>0.0</td>\n",
       "      <td>6.967909</td>\n",
       "    </tr>\n",
       "    <tr>\n",
       "      <th>83</th>\n",
       "      <td>1368.0</td>\n",
       "      <td>19</td>\n",
       "      <td>7</td>\n",
       "      <td>2</td>\n",
       "      <td>2</td>\n",
       "      <td>0.0</td>\n",
       "      <td>7.221836</td>\n",
       "    </tr>\n",
       "    <tr>\n",
       "      <th>84</th>\n",
       "      <td>1099.0</td>\n",
       "      <td>18</td>\n",
       "      <td>4</td>\n",
       "      <td>1</td>\n",
       "      <td>8</td>\n",
       "      <td>0.0</td>\n",
       "      <td>7.003065</td>\n",
       "    </tr>\n",
       "    <tr>\n",
       "      <th>85</th>\n",
       "      <td>1062.0</td>\n",
       "      <td>32</td>\n",
       "      <td>3</td>\n",
       "      <td>2</td>\n",
       "      <td>2</td>\n",
       "      <td>0.0</td>\n",
       "      <td>6.968850</td>\n",
       "    </tr>\n",
       "    <tr>\n",
       "      <th>86</th>\n",
       "      <td>5999.0</td>\n",
       "      <td>26</td>\n",
       "      <td>9</td>\n",
       "      <td>1</td>\n",
       "      <td>8</td>\n",
       "      <td>0.0</td>\n",
       "      <td>8.699515</td>\n",
       "    </tr>\n",
       "    <tr>\n",
       "      <th>87</th>\n",
       "      <td>954.0</td>\n",
       "      <td>17</td>\n",
       "      <td>6</td>\n",
       "      <td>1</td>\n",
       "      <td>2</td>\n",
       "      <td>0.0</td>\n",
       "      <td>6.861711</td>\n",
       "    </tr>\n",
       "    <tr>\n",
       "      <th>88</th>\n",
       "      <td>1232.0</td>\n",
       "      <td>18</td>\n",
       "      <td>5</td>\n",
       "      <td>1</td>\n",
       "      <td>2</td>\n",
       "      <td>0.0</td>\n",
       "      <td>7.117206</td>\n",
       "    </tr>\n",
       "    <tr>\n",
       "      <th>89</th>\n",
       "      <td>1003.0</td>\n",
       "      <td>18</td>\n",
       "      <td>6</td>\n",
       "      <td>1</td>\n",
       "      <td>2</td>\n",
       "      <td>0.0</td>\n",
       "      <td>6.911747</td>\n",
       "    </tr>\n",
       "    <tr>\n",
       "      <th>90</th>\n",
       "      <td>1003.0</td>\n",
       "      <td>18</td>\n",
       "      <td>7</td>\n",
       "      <td>1</td>\n",
       "      <td>8</td>\n",
       "      <td>0.0</td>\n",
       "      <td>6.911747</td>\n",
       "    </tr>\n",
       "    <tr>\n",
       "      <th>91</th>\n",
       "      <td>1413.0</td>\n",
       "      <td>46</td>\n",
       "      <td>2</td>\n",
       "      <td>1</td>\n",
       "      <td>2</td>\n",
       "      <td>0.0</td>\n",
       "      <td>7.254178</td>\n",
       "    </tr>\n",
       "    <tr>\n",
       "      <th>92</th>\n",
       "      <td>1110.0</td>\n",
       "      <td>18</td>\n",
       "      <td>7</td>\n",
       "      <td>1</td>\n",
       "      <td>9</td>\n",
       "      <td>0.0</td>\n",
       "      <td>7.013016</td>\n",
       "    </tr>\n",
       "    <tr>\n",
       "      <th>93</th>\n",
       "      <td>1110.0</td>\n",
       "      <td>16</td>\n",
       "      <td>6</td>\n",
       "      <td>2</td>\n",
       "      <td>9</td>\n",
       "      <td>0.0</td>\n",
       "      <td>7.013016</td>\n",
       "    </tr>\n",
       "    <tr>\n",
       "      <th>94</th>\n",
       "      <td>1540.0</td>\n",
       "      <td>23</td>\n",
       "      <td>7</td>\n",
       "      <td>1</td>\n",
       "      <td>2</td>\n",
       "      <td>0.0</td>\n",
       "      <td>7.340187</td>\n",
       "    </tr>\n",
       "    <tr>\n",
       "      <th>95</th>\n",
       "      <td>1100.0</td>\n",
       "      <td>22</td>\n",
       "      <td>3</td>\n",
       "      <td>1</td>\n",
       "      <td>2</td>\n",
       "      <td>0.0</td>\n",
       "      <td>7.003974</td>\n",
       "    </tr>\n",
       "    <tr>\n",
       "      <th>96</th>\n",
       "      <td>1900.0</td>\n",
       "      <td>28</td>\n",
       "      <td>9</td>\n",
       "      <td>2</td>\n",
       "      <td>2</td>\n",
       "      <td>0.0</td>\n",
       "      <td>7.550135</td>\n",
       "    </tr>\n",
       "    <tr>\n",
       "      <th>97</th>\n",
       "      <td>656.0</td>\n",
       "      <td>18</td>\n",
       "      <td>4</td>\n",
       "      <td>2</td>\n",
       "      <td>9</td>\n",
       "      <td>0.0</td>\n",
       "      <td>6.487684</td>\n",
       "    </tr>\n",
       "    <tr>\n",
       "      <th>98</th>\n",
       "      <td>1050.0</td>\n",
       "      <td>19</td>\n",
       "      <td>6</td>\n",
       "      <td>1</td>\n",
       "      <td>8</td>\n",
       "      <td>0.0</td>\n",
       "      <td>6.957497</td>\n",
       "    </tr>\n",
       "    <tr>\n",
       "      <th>99</th>\n",
       "      <td>1050.0</td>\n",
       "      <td>19</td>\n",
       "      <td>6</td>\n",
       "      <td>1</td>\n",
       "      <td>8</td>\n",
       "      <td>0.0</td>\n",
       "      <td>6.957497</td>\n",
       "    </tr>\n",
       "  </tbody>\n",
       "</table>\n",
       "<p>100 rows × 7 columns</p>\n",
       "</div>"
      ],
      "text/plain": [
       "    salario_mensal  Idade  grau_instrucao  Sexo  raca_cor  tempo_emprego  \\\n",
       "0            954.0     24               6     1         8            0.0   \n",
       "1           2500.0     25               8     1         2            0.0   \n",
       "2              0.0     55               2     1         8            0.0   \n",
       "3              0.0     52               2     1         8            0.0   \n",
       "4              0.0     32               2     1         8            0.0   \n",
       "5              0.0     56               2     1         8            0.0   \n",
       "6              0.0     22               2     1         8            0.0   \n",
       "7           1061.0     50               4     2         2            0.0   \n",
       "8              0.0     27               2     2         1            0.0   \n",
       "9              0.0     34               2     2         1            0.0   \n",
       "10             0.0     32               2     2         1            0.0   \n",
       "11          1061.0     22               7     1         8            0.0   \n",
       "12          1061.0     37               7     1         2            0.0   \n",
       "13          1061.0     20               6     1         2            0.0   \n",
       "14          1026.0     39               2     1         2            0.0   \n",
       "15          1061.0     25               5     1         8            0.0   \n",
       "16          1061.0     22               5     1         9            0.0   \n",
       "17          1700.0     18               5     1         8            0.0   \n",
       "18          1026.0     23               4     1         2            0.0   \n",
       "19          1061.0     28               6     1         2            0.0   \n",
       "20          1026.0     48               3     1         2            0.0   \n",
       "21          5000.0     35               7     1         2            0.0   \n",
       "22          1000.0     46               5     2         8            0.0   \n",
       "23          2123.0     45               4     1         8            0.0   \n",
       "24          2123.0     31               6     1         8            0.0   \n",
       "25          1200.0     18               5     1         8            0.0   \n",
       "26           991.0     24               6     1         8            0.0   \n",
       "27          1061.0     21               7     1         8            0.0   \n",
       "28          1061.0     24               5     1         8            0.0   \n",
       "29          1061.0     17               5     1         8            0.0   \n",
       "..             ...    ...             ...   ...       ...            ...   \n",
       "70          1061.0     33               2     2         8            0.0   \n",
       "71          1061.0     36               7     2         2            0.0   \n",
       "72          1229.0     18               6     1         2            0.0   \n",
       "73          1061.0     17               7     1         8            0.0   \n",
       "74          1061.0     19               4     1         8            0.0   \n",
       "75          1223.0     18               4     1         8            0.0   \n",
       "76          1061.0     45               4     2         8            0.0   \n",
       "77          1061.0     21               4     2         8            0.0   \n",
       "78          1061.0     22               7     2         8            0.0   \n",
       "79          1061.0     27               4     2         8            0.0   \n",
       "80          1061.0     22               6     1         2            0.0   \n",
       "81          1062.0     19               4     1         2            0.0   \n",
       "82          1061.0     19               5     2         8            0.0   \n",
       "83          1368.0     19               7     2         2            0.0   \n",
       "84          1099.0     18               4     1         8            0.0   \n",
       "85          1062.0     32               3     2         2            0.0   \n",
       "86          5999.0     26               9     1         8            0.0   \n",
       "87           954.0     17               6     1         2            0.0   \n",
       "88          1232.0     18               5     1         2            0.0   \n",
       "89          1003.0     18               6     1         2            0.0   \n",
       "90          1003.0     18               7     1         8            0.0   \n",
       "91          1413.0     46               2     1         2            0.0   \n",
       "92          1110.0     18               7     1         9            0.0   \n",
       "93          1110.0     16               6     2         9            0.0   \n",
       "94          1540.0     23               7     1         2            0.0   \n",
       "95          1100.0     22               3     1         2            0.0   \n",
       "96          1900.0     28               9     2         2            0.0   \n",
       "97           656.0     18               4     2         9            0.0   \n",
       "98          1050.0     19               6     1         8            0.0   \n",
       "99          1050.0     19               6     1         8            0.0   \n",
       "\n",
       "    salary_log  \n",
       "0     6.861711  \n",
       "1     7.824446  \n",
       "2     0.000000  \n",
       "3     0.000000  \n",
       "4     0.000000  \n",
       "5     0.000000  \n",
       "6     0.000000  \n",
       "7     6.967909  \n",
       "8     0.000000  \n",
       "9     0.000000  \n",
       "10    0.000000  \n",
       "11    6.967909  \n",
       "12    6.967909  \n",
       "13    6.967909  \n",
       "14    6.934397  \n",
       "15    6.967909  \n",
       "16    6.967909  \n",
       "17    7.438972  \n",
       "18    6.934397  \n",
       "19    6.967909  \n",
       "20    6.934397  \n",
       "21    8.517393  \n",
       "22    6.908755  \n",
       "23    7.661056  \n",
       "24    7.661056  \n",
       "25    7.090910  \n",
       "26    6.899723  \n",
       "27    6.967909  \n",
       "28    6.967909  \n",
       "29    6.967909  \n",
       "..         ...  \n",
       "70    6.967909  \n",
       "71    6.967909  \n",
       "72    7.114769  \n",
       "73    6.967909  \n",
       "74    6.967909  \n",
       "75    7.109879  \n",
       "76    6.967909  \n",
       "77    6.967909  \n",
       "78    6.967909  \n",
       "79    6.967909  \n",
       "80    6.967909  \n",
       "81    6.968850  \n",
       "82    6.967909  \n",
       "83    7.221836  \n",
       "84    7.003065  \n",
       "85    6.968850  \n",
       "86    8.699515  \n",
       "87    6.861711  \n",
       "88    7.117206  \n",
       "89    6.911747  \n",
       "90    6.911747  \n",
       "91    7.254178  \n",
       "92    7.013016  \n",
       "93    7.013016  \n",
       "94    7.340187  \n",
       "95    7.003974  \n",
       "96    7.550135  \n",
       "97    6.487684  \n",
       "98    6.957497  \n",
       "99    6.957497  \n",
       "\n",
       "[100 rows x 7 columns]"
      ]
     },
     "execution_count": 49,
     "metadata": {},
     "output_type": "execute_result"
    }
   ],
   "source": [
    "df.salary_log.sort_values()\n",
    "df.head(100)"
   ]
  },
  {
   "cell_type": "code",
   "execution_count": 50,
   "metadata": {},
   "outputs": [
    {
     "data": {
      "text/plain": [
       "<matplotlib.axes._subplots.AxesSubplot at 0x1e8b8738940>"
      ]
     },
     "execution_count": 50,
     "metadata": {},
     "output_type": "execute_result"
    },
    {
     "data": {
      "image/png": "[encoded data removed]",
      "text/plain": [
       "<Figure size 432x288 with 1 Axes>"
      ]
     },
     "metadata": {
      "needs_background": "light"
     },
     "output_type": "display_data"
    }
   ],
   "source": [
    "#ploto a distribuição para verificar a normalização\n",
    "df.salary_log.plot.hist(bins=50)"
   ]
  },
  {
   "cell_type": "code",
   "execution_count": 51,
   "metadata": {},
   "outputs": [
    {
     "data": {
      "text/plain": [
       "(0.5028517246246338, 0.0)"
      ]
     },
     "execution_count": 51,
     "metadata": {},
     "output_type": "execute_result"
    }
   ],
   "source": [
    "stats.shapiro(df.salary_log)"
   ]
  },
  {
   "cell_type": "code",
   "execution_count": 52,
   "metadata": {},
   "outputs": [
    {
     "data": {
      "image/png": "[encoded data removed]",
      "text/plain": [
       "<Figure size 432x288 with 1 Axes>"
      ]
     },
     "metadata": {
      "needs_background": "light"
     },
     "output_type": "display_data"
    },
    {
     "data": {
      "text/plain": [
       "1039127    0.0\n",
       "622432     0.0\n",
       "622462     0.0\n",
       "622463     0.0\n",
       "1457667    0.0\n",
       "Name: salary_log, dtype: float64"
      ]
     },
     "execution_count": 52,
     "metadata": {},
     "output_type": "execute_result"
    }
   ],
   "source": [
    "# plotando uma distribuição densidade de probabilidade para os salários\n",
    "\n",
    "# criando uma figura com um gráfico \n",
    "mpl.rcParams['agg.path.chunksize'] = 0\n",
    "fig, ax = plt.subplots(1, 1)\n",
    "# definindo os valores de x\n",
    "x = df.salary_log.sort_values()\n",
    "# calculando a média\n",
    "mu = x.mean()\n",
    "# calculando o desvio padrão populacional\n",
    "sigma = x.std()#/len(df.salary)\n",
    "# plotando o gráfico com os valores de x e os valores normais da densidade de probabilidade\n",
    "ax.plot(x, stats.norm.pdf(x, mu, sigma),label='Salário Mensal')\n",
    "# imprimindo a legenda\n",
    "ax.legend(loc='best', frameon=False,fontsize = 20)\n",
    "# mostrando o gráfico\n",
    "plt.show()\n",
    "x.head()"
   ]
  },
  {
   "cell_type": "code",
   "execution_count": 53,
   "metadata": {},
   "outputs": [
    {
     "data": {
      "text/plain": [
       "(7.160530692416338, 0.8831049225497479)"
      ]
     },
     "execution_count": 53,
     "metadata": {},
     "output_type": "execute_result"
    }
   ],
   "source": [
    "mu = np.mean(df.salary_log)\n",
    "sigma = np.std(df.salary_log)\n",
    "mu, sigma"
   ]
  },
  {
   "cell_type": "code",
   "execution_count": 54,
   "metadata": {},
   "outputs": [
    {
     "data": {
      "text/plain": [
       "<matplotlib.axes._subplots.AxesSubplot at 0x1e8b8880ba8>"
      ]
     },
     "execution_count": 54,
     "metadata": {},
     "output_type": "execute_result"
    },
    {
     "data": {
      "image/png": "[encoded data removed]",
      "text/plain": [
       "<Figure size 432x288 with 1 Axes>"
      ]
     },
     "metadata": {
      "needs_background": "light"
     },
     "output_type": "display_data"
    }
   ],
   "source": [
    "#Padronizando a minha normal\n",
    "df['salary_logz'] = (df.salary_log - df.salary_log.mean())/df.salary_log.std()\n",
    "df.salary_logz.plot.hist()"
   ]
  },
  {
   "cell_type": "code",
   "execution_count": 55,
   "metadata": {},
   "outputs": [
    {
     "data": {
      "text/plain": [
       "(5.869206605173686e-12, 0.9999999999999915)"
      ]
     },
     "execution_count": 55,
     "metadata": {},
     "output_type": "execute_result"
    }
   ],
   "source": [
    "mu = df.salary_logz.mean()\n",
    "std = df.salary_logz.std()\n",
    "\n",
    "mu, std"
   ]
  },
  {
   "cell_type": "code",
   "execution_count": 56,
   "metadata": {},
   "outputs": [
    {
     "data": {
      "text/plain": [
       "(-1.959963984534168, 1.9599639845459067)"
      ]
     },
     "execution_count": 56,
     "metadata": {},
     "output_type": "execute_result"
    }
   ],
   "source": [
    "scipy.stats.norm.interval(alpha=0.95, loc=mu, scale=std)\n"
   ]
  },
  {
   "cell_type": "code",
   "execution_count": 57,
   "metadata": {},
   "outputs": [
    {
     "name": "stdout",
     "output_type": "stream",
     "text": [
      "-1.959963984534168 <-- desvio padrão --> 1.9599639845459067\n"
     ]
    }
   ],
   "source": [
    "limite_inferior = scipy.stats.norm.interval(alpha=0.95,loc=mu,scale=std)[0]\n",
    "limite_superior = scipy.stats.norm.interval(alpha=0.95,loc=mu,scale=std)[1]\n",
    "\n",
    "print (limite_inferior, '<-- desvio padrão -->', limite_superior)"
   ]
  },
  {
   "cell_type": "code",
   "execution_count": 91,
   "metadata": {},
   "outputs": [
    {
     "name": "stdout",
     "output_type": "stream",
     "text": [
      "Estatisticamente Significativo abaixo da média: 1.0743316057767978 %\n",
      "Estatisticamente Significativo acimada média: 1.3198171531475325 %\n",
      "Total: 2.39414875892433 %\n"
     ]
    }
   ],
   "source": [
    "#Descobrindo a quantidade de salários estatisticamente significativos e acima de 1,96\n",
    "sal_sig_sup = df[df.salary_logz>1.96].shape[0]/df.salary_logz.shape[0]\n",
    "sal_sig_inf = df[df.salary_logz<-1.96].shape[0]/df.salary_logz.shape[0]\n",
    "\n",
    "print ('Estatisticamente Significativo abaixo da média:',sal_sig_inf*100,\"%\")\n",
    "print ('Estatisticamente Significativo acimada média:',sal_sig_sup*100, \"%\")\n",
    "print ('Total:',(sal_sig_inf + sal_sig_sup)*100, \"%\")"
   ]
  },
  {
   "cell_type": "code",
   "execution_count": 59,
   "metadata": {},
   "outputs": [
    {
     "name": "stdout",
     "output_type": "stream",
     "text": [
      "1.0743316057767978 %\n"
     ]
    }
   ],
   "source": [
    "#Descobrindo a quantidade de salários estatisticamente significativos e abaixo de 1,96\n",
    "sal_sig_inf = df[df.salary_logz<-1.96].shape[0]/df.salary_logz.shape[0]\n",
    "print (sal_sig_inf*100,\"%\")"
   ]
  },
  {
   "cell_type": "code",
   "execution_count": 60,
   "metadata": {},
   "outputs": [
    {
     "data": {
      "text/html": [
       "<div>\n",
       "<style scoped>\n",
       "    .dataframe tbody tr th:only-of-type {\n",
       "        vertical-align: middle;\n",
       "    }\n",
       "\n",
       "    .dataframe tbody tr th {\n",
       "        vertical-align: top;\n",
       "    }\n",
       "\n",
       "    .dataframe thead th {\n",
       "        text-align: right;\n",
       "    }\n",
       "</style>\n",
       "<table border=\"1\" class=\"dataframe\">\n",
       "  <thead>\n",
       "    <tr style=\"text-align: right;\">\n",
       "      <th></th>\n",
       "      <th>salario_mensal</th>\n",
       "      <th>Idade</th>\n",
       "      <th>grau_instrucao</th>\n",
       "      <th>Sexo</th>\n",
       "      <th>raca_cor</th>\n",
       "      <th>tempo_emprego</th>\n",
       "      <th>salary_log</th>\n",
       "      <th>salary_logz</th>\n",
       "    </tr>\n",
       "  </thead>\n",
       "  <tbody>\n",
       "    <tr>\n",
       "      <th>0</th>\n",
       "      <td>954.0</td>\n",
       "      <td>24</td>\n",
       "      <td>6</td>\n",
       "      <td>1</td>\n",
       "      <td>8</td>\n",
       "      <td>0.0</td>\n",
       "      <td>6.861711</td>\n",
       "      <td>-0.338373</td>\n",
       "    </tr>\n",
       "    <tr>\n",
       "      <th>1</th>\n",
       "      <td>2500.0</td>\n",
       "      <td>25</td>\n",
       "      <td>8</td>\n",
       "      <td>1</td>\n",
       "      <td>2</td>\n",
       "      <td>0.0</td>\n",
       "      <td>7.824446</td>\n",
       "      <td>0.751796</td>\n",
       "    </tr>\n",
       "    <tr>\n",
       "      <th>2</th>\n",
       "      <td>0.0</td>\n",
       "      <td>55</td>\n",
       "      <td>2</td>\n",
       "      <td>1</td>\n",
       "      <td>8</td>\n",
       "      <td>0.0</td>\n",
       "      <td>0.000000</td>\n",
       "      <td>-8.108356</td>\n",
       "    </tr>\n",
       "    <tr>\n",
       "      <th>3</th>\n",
       "      <td>0.0</td>\n",
       "      <td>52</td>\n",
       "      <td>2</td>\n",
       "      <td>1</td>\n",
       "      <td>8</td>\n",
       "      <td>0.0</td>\n",
       "      <td>0.000000</td>\n",
       "      <td>-8.108356</td>\n",
       "    </tr>\n",
       "    <tr>\n",
       "      <th>4</th>\n",
       "      <td>0.0</td>\n",
       "      <td>32</td>\n",
       "      <td>2</td>\n",
       "      <td>1</td>\n",
       "      <td>8</td>\n",
       "      <td>0.0</td>\n",
       "      <td>0.000000</td>\n",
       "      <td>-8.108356</td>\n",
       "    </tr>\n",
       "  </tbody>\n",
       "</table>\n",
       "</div>"
      ],
      "text/plain": [
       "   salario_mensal  Idade  grau_instrucao  Sexo  raca_cor  tempo_emprego  \\\n",
       "0           954.0     24               6     1         8            0.0   \n",
       "1          2500.0     25               8     1         2            0.0   \n",
       "2             0.0     55               2     1         8            0.0   \n",
       "3             0.0     52               2     1         8            0.0   \n",
       "4             0.0     32               2     1         8            0.0   \n",
       "\n",
       "   salary_log  salary_logz  \n",
       "0    6.861711    -0.338373  \n",
       "1    7.824446     0.751796  \n",
       "2    0.000000    -8.108356  \n",
       "3    0.000000    -8.108356  \n",
       "4    0.000000    -8.108356  "
      ]
     },
     "execution_count": 60,
     "metadata": {},
     "output_type": "execute_result"
    }
   ],
   "source": [
    "df.head()"
   ]
  },
  {
   "cell_type": "code",
   "execution_count": 61,
   "metadata": {},
   "outputs": [
    {
     "data": {
      "text/plain": [
       "<matplotlib.collections.PathCollection at 0x1e8b8936278>"
      ]
     },
     "execution_count": 61,
     "metadata": {},
     "output_type": "execute_result"
    },
    {
     "data": {
      "image/png": "[encoded data removed]",
      "text/plain": [
       "<Figure size 1440x720 with 1 Axes>"
      ]
     },
     "metadata": {
      "needs_background": "light"
     },
     "output_type": "display_data"
    }
   ],
   "source": [
    "plt.figure(figsize=(20,10))\n",
    "plt.scatter(x=df.Idade, y=df.salary_log)"
   ]
  },
  {
   "cell_type": "code",
   "execution_count": 63,
   "metadata": {},
   "outputs": [
    {
     "data": {
      "text/html": [
       "<div>\n",
       "<style scoped>\n",
       "    .dataframe tbody tr th:only-of-type {\n",
       "        vertical-align: middle;\n",
       "    }\n",
       "\n",
       "    .dataframe tbody tr th {\n",
       "        vertical-align: top;\n",
       "    }\n",
       "\n",
       "    .dataframe thead th {\n",
       "        text-align: right;\n",
       "    }\n",
       "</style>\n",
       "<table border=\"1\" class=\"dataframe\">\n",
       "  <thead>\n",
       "    <tr style=\"text-align: right;\">\n",
       "      <th></th>\n",
       "      <th>salario_mensal</th>\n",
       "      <th>Idade</th>\n",
       "      <th>grau_instrucao</th>\n",
       "      <th>Sexo</th>\n",
       "      <th>raca_cor</th>\n",
       "      <th>tempo_emprego</th>\n",
       "      <th>salary_log</th>\n",
       "      <th>salary_logz</th>\n",
       "    </tr>\n",
       "  </thead>\n",
       "  <tbody>\n",
       "    <tr>\n",
       "      <th>salario_mensal</th>\n",
       "      <td>1.000000</td>\n",
       "      <td>0.151294</td>\n",
       "      <td>0.184702</td>\n",
       "      <td>-0.042394</td>\n",
       "      <td>-0.077727</td>\n",
       "      <td>0.201733</td>\n",
       "      <td>0.443418</td>\n",
       "      <td>0.443418</td>\n",
       "    </tr>\n",
       "    <tr>\n",
       "      <th>Idade</th>\n",
       "      <td>0.151294</td>\n",
       "      <td>1.000000</td>\n",
       "      <td>-0.110878</td>\n",
       "      <td>-0.066302</td>\n",
       "      <td>-0.036528</td>\n",
       "      <td>0.276203</td>\n",
       "      <td>0.138125</td>\n",
       "      <td>0.138125</td>\n",
       "    </tr>\n",
       "    <tr>\n",
       "      <th>grau_instrucao</th>\n",
       "      <td>0.184702</td>\n",
       "      <td>-0.110878</td>\n",
       "      <td>1.000000</td>\n",
       "      <td>0.205090</td>\n",
       "      <td>-0.062680</td>\n",
       "      <td>0.041182</td>\n",
       "      <td>0.110415</td>\n",
       "      <td>0.110415</td>\n",
       "    </tr>\n",
       "    <tr>\n",
       "      <th>Sexo</th>\n",
       "      <td>-0.042394</td>\n",
       "      <td>-0.066302</td>\n",
       "      <td>0.205090</td>\n",
       "      <td>1.000000</td>\n",
       "      <td>-0.059259</td>\n",
       "      <td>0.009666</td>\n",
       "      <td>-0.063652</td>\n",
       "      <td>-0.063652</td>\n",
       "    </tr>\n",
       "    <tr>\n",
       "      <th>raca_cor</th>\n",
       "      <td>-0.077727</td>\n",
       "      <td>-0.036528</td>\n",
       "      <td>-0.062680</td>\n",
       "      <td>-0.059259</td>\n",
       "      <td>1.000000</td>\n",
       "      <td>-0.092636</td>\n",
       "      <td>-0.065860</td>\n",
       "      <td>-0.065860</td>\n",
       "    </tr>\n",
       "    <tr>\n",
       "      <th>tempo_emprego</th>\n",
       "      <td>0.201733</td>\n",
       "      <td>0.276203</td>\n",
       "      <td>0.041182</td>\n",
       "      <td>0.009666</td>\n",
       "      <td>-0.092636</td>\n",
       "      <td>1.000000</td>\n",
       "      <td>0.126529</td>\n",
       "      <td>0.126529</td>\n",
       "    </tr>\n",
       "    <tr>\n",
       "      <th>salary_log</th>\n",
       "      <td>0.443418</td>\n",
       "      <td>0.138125</td>\n",
       "      <td>0.110415</td>\n",
       "      <td>-0.063652</td>\n",
       "      <td>-0.065860</td>\n",
       "      <td>0.126529</td>\n",
       "      <td>1.000000</td>\n",
       "      <td>1.000000</td>\n",
       "    </tr>\n",
       "    <tr>\n",
       "      <th>salary_logz</th>\n",
       "      <td>0.443418</td>\n",
       "      <td>0.138125</td>\n",
       "      <td>0.110415</td>\n",
       "      <td>-0.063652</td>\n",
       "      <td>-0.065860</td>\n",
       "      <td>0.126529</td>\n",
       "      <td>1.000000</td>\n",
       "      <td>1.000000</td>\n",
       "    </tr>\n",
       "  </tbody>\n",
       "</table>\n",
       "</div>"
      ],
      "text/plain": [
       "                salario_mensal     Idade  grau_instrucao      Sexo  raca_cor  \\\n",
       "salario_mensal        1.000000  0.151294        0.184702 -0.042394 -0.077727   \n",
       "Idade                 0.151294  1.000000       -0.110878 -0.066302 -0.036528   \n",
       "grau_instrucao        0.184702 -0.110878        1.000000  0.205090 -0.062680   \n",
       "Sexo                 -0.042394 -0.066302        0.205090  1.000000 -0.059259   \n",
       "raca_cor             -0.077727 -0.036528       -0.062680 -0.059259  1.000000   \n",
       "tempo_emprego         0.201733  0.276203        0.041182  0.009666 -0.092636   \n",
       "salary_log            0.443418  0.138125        0.110415 -0.063652 -0.065860   \n",
       "salary_logz           0.443418  0.138125        0.110415 -0.063652 -0.065860   \n",
       "\n",
       "                tempo_emprego  salary_log  salary_logz  \n",
       "salario_mensal       0.201733    0.443418     0.443418  \n",
       "Idade                0.276203    0.138125     0.138125  \n",
       "grau_instrucao       0.041182    0.110415     0.110415  \n",
       "Sexo                 0.009666   -0.063652    -0.063652  \n",
       "raca_cor            -0.092636   -0.065860    -0.065860  \n",
       "tempo_emprego        1.000000    0.126529     0.126529  \n",
       "salary_log           0.126529    1.000000     1.000000  \n",
       "salary_logz          0.126529    1.000000     1.000000  "
      ]
     },
     "execution_count": 63,
     "metadata": {},
     "output_type": "execute_result"
    }
   ],
   "source": [
    "\n",
    "df.corr() # Pra confirmar que a correlação entre Idade e Salário não é alta"
   ]
  },
  {
   "cell_type": "code",
   "execution_count": 64,
   "metadata": {},
   "outputs": [
    {
     "data": {
      "text/plain": [
       "0    24\n",
       "1    25\n",
       "2    55\n",
       "3    52\n",
       "4    32\n",
       "5    56\n",
       "6    22\n",
       "7    50\n",
       "8    27\n",
       "9    34\n",
       "Name: Idade, dtype: int64"
      ]
     },
     "execution_count": 64,
     "metadata": {},
     "output_type": "execute_result"
    }
   ],
   "source": [
    "df.Idade.head(10)"
   ]
  },
  {
   "cell_type": "code",
   "execution_count": 65,
   "metadata": {},
   "outputs": [
    {
     "data": {
      "text/plain": [
       "count    2.256752e+06\n",
       "mean     3.231423e+01\n",
       "std      1.096019e+01\n",
       "min      1.000000e+01\n",
       "25%      2.300000e+01\n",
       "50%      3.000000e+01\n",
       "75%      3.900000e+01\n",
       "max      1.030000e+02\n",
       "Name: Idade, dtype: float64"
      ]
     },
     "execution_count": 65,
     "metadata": {},
     "output_type": "execute_result"
    }
   ],
   "source": [
    "df.Idade.describe() #Idade média de 32 anos"
   ]
  },
  {
   "cell_type": "code",
   "execution_count": 66,
   "metadata": {},
   "outputs": [
    {
     "name": "stdout",
     "output_type": "stream",
     "text": [
      "<class 'pandas.core.frame.DataFrame'>\n",
      "RangeIndex: 2256752 entries, 0 to 2256751\n",
      "Data columns (total 8 columns):\n",
      "salario_mensal    float64\n",
      "Idade             int64\n",
      "grau_instrucao    int64\n",
      "Sexo              int64\n",
      "raca_cor          int64\n",
      "tempo_emprego     float64\n",
      "salary_log        float64\n",
      "salary_logz       float64\n",
      "dtypes: float64(4), int64(4)\n",
      "memory usage: 137.7 MB\n"
     ]
    }
   ],
   "source": [
    "df.info()"
   ]
  },
  {
   "cell_type": "code",
   "execution_count": 67,
   "metadata": {},
   "outputs": [
    {
     "data": {
      "text/plain": [
       "0"
      ]
     },
     "execution_count": 67,
     "metadata": {},
     "output_type": "execute_result"
    }
   ],
   "source": [
    "#Verificando se existe NaN  na coluna Idade\n",
    "df.Idade.isna().sum()"
   ]
  },
  {
   "cell_type": "code",
   "execution_count": 68,
   "metadata": {},
   "outputs": [
    {
     "data": {
      "text/plain": [
       "0"
      ]
     },
     "execution_count": 68,
     "metadata": {},
     "output_type": "execute_result"
    }
   ],
   "source": [
    "#Verificando se existe Null na coluna Idade\n",
    "df.Idade.isnull().sum()"
   ]
  },
  {
   "cell_type": "code",
   "execution_count": 69,
   "metadata": {},
   "outputs": [
    {
     "data": {
      "text/plain": [
       "<matplotlib.axes._subplots.AxesSubplot at 0x1e8b8d67d68>"
      ]
     },
     "execution_count": 69,
     "metadata": {},
     "output_type": "execute_result"
    },
    {
     "data": {
      "image/png": "[encoded data removed]",
      "text/plain": [
       "<Figure size 432x288 with 1 Axes>"
      ]
     },
     "metadata": {
      "needs_background": "light"
     },
     "output_type": "display_data"
    }
   ],
   "source": [
    "df.Idade.plot.hist()"
   ]
  },
  {
   "cell_type": "code",
   "execution_count": 70,
   "metadata": {},
   "outputs": [
    {
     "data": {
      "text/html": [
       "<div>\n",
       "<style scoped>\n",
       "    .dataframe tbody tr th:only-of-type {\n",
       "        vertical-align: middle;\n",
       "    }\n",
       "\n",
       "    .dataframe tbody tr th {\n",
       "        vertical-align: top;\n",
       "    }\n",
       "\n",
       "    .dataframe thead th {\n",
       "        text-align: right;\n",
       "    }\n",
       "</style>\n",
       "<table border=\"1\" class=\"dataframe\">\n",
       "  <thead>\n",
       "    <tr style=\"text-align: right;\">\n",
       "      <th></th>\n",
       "      <th>salario_mensal</th>\n",
       "      <th>idade</th>\n",
       "      <th>grau_instrucao</th>\n",
       "      <th>Sexo</th>\n",
       "      <th>raca_cor</th>\n",
       "      <th>tempo_emprego</th>\n",
       "      <th>salary_log</th>\n",
       "      <th>salary_logz</th>\n",
       "    </tr>\n",
       "  </thead>\n",
       "  <tbody>\n",
       "    <tr>\n",
       "      <th>0</th>\n",
       "      <td>954.0</td>\n",
       "      <td>24</td>\n",
       "      <td>6</td>\n",
       "      <td>1</td>\n",
       "      <td>8</td>\n",
       "      <td>0.0</td>\n",
       "      <td>6.861711</td>\n",
       "      <td>-0.338373</td>\n",
       "    </tr>\n",
       "    <tr>\n",
       "      <th>1</th>\n",
       "      <td>2500.0</td>\n",
       "      <td>25</td>\n",
       "      <td>8</td>\n",
       "      <td>1</td>\n",
       "      <td>2</td>\n",
       "      <td>0.0</td>\n",
       "      <td>7.824446</td>\n",
       "      <td>0.751796</td>\n",
       "    </tr>\n",
       "    <tr>\n",
       "      <th>2</th>\n",
       "      <td>0.0</td>\n",
       "      <td>55</td>\n",
       "      <td>2</td>\n",
       "      <td>1</td>\n",
       "      <td>8</td>\n",
       "      <td>0.0</td>\n",
       "      <td>0.000000</td>\n",
       "      <td>-8.108356</td>\n",
       "    </tr>\n",
       "    <tr>\n",
       "      <th>3</th>\n",
       "      <td>0.0</td>\n",
       "      <td>52</td>\n",
       "      <td>2</td>\n",
       "      <td>1</td>\n",
       "      <td>8</td>\n",
       "      <td>0.0</td>\n",
       "      <td>0.000000</td>\n",
       "      <td>-8.108356</td>\n",
       "    </tr>\n",
       "    <tr>\n",
       "      <th>4</th>\n",
       "      <td>0.0</td>\n",
       "      <td>32</td>\n",
       "      <td>2</td>\n",
       "      <td>1</td>\n",
       "      <td>8</td>\n",
       "      <td>0.0</td>\n",
       "      <td>0.000000</td>\n",
       "      <td>-8.108356</td>\n",
       "    </tr>\n",
       "    <tr>\n",
       "      <th>5</th>\n",
       "      <td>0.0</td>\n",
       "      <td>56</td>\n",
       "      <td>2</td>\n",
       "      <td>1</td>\n",
       "      <td>8</td>\n",
       "      <td>0.0</td>\n",
       "      <td>0.000000</td>\n",
       "      <td>-8.108356</td>\n",
       "    </tr>\n",
       "    <tr>\n",
       "      <th>6</th>\n",
       "      <td>0.0</td>\n",
       "      <td>22</td>\n",
       "      <td>2</td>\n",
       "      <td>1</td>\n",
       "      <td>8</td>\n",
       "      <td>0.0</td>\n",
       "      <td>0.000000</td>\n",
       "      <td>-8.108356</td>\n",
       "    </tr>\n",
       "    <tr>\n",
       "      <th>7</th>\n",
       "      <td>1061.0</td>\n",
       "      <td>50</td>\n",
       "      <td>4</td>\n",
       "      <td>2</td>\n",
       "      <td>2</td>\n",
       "      <td>0.0</td>\n",
       "      <td>6.967909</td>\n",
       "      <td>-0.218118</td>\n",
       "    </tr>\n",
       "    <tr>\n",
       "      <th>8</th>\n",
       "      <td>0.0</td>\n",
       "      <td>27</td>\n",
       "      <td>2</td>\n",
       "      <td>2</td>\n",
       "      <td>1</td>\n",
       "      <td>0.0</td>\n",
       "      <td>0.000000</td>\n",
       "      <td>-8.108356</td>\n",
       "    </tr>\n",
       "    <tr>\n",
       "      <th>9</th>\n",
       "      <td>0.0</td>\n",
       "      <td>34</td>\n",
       "      <td>2</td>\n",
       "      <td>2</td>\n",
       "      <td>1</td>\n",
       "      <td>0.0</td>\n",
       "      <td>0.000000</td>\n",
       "      <td>-8.108356</td>\n",
       "    </tr>\n",
       "    <tr>\n",
       "      <th>10</th>\n",
       "      <td>0.0</td>\n",
       "      <td>32</td>\n",
       "      <td>2</td>\n",
       "      <td>2</td>\n",
       "      <td>1</td>\n",
       "      <td>0.0</td>\n",
       "      <td>0.000000</td>\n",
       "      <td>-8.108356</td>\n",
       "    </tr>\n",
       "    <tr>\n",
       "      <th>11</th>\n",
       "      <td>1061.0</td>\n",
       "      <td>22</td>\n",
       "      <td>7</td>\n",
       "      <td>1</td>\n",
       "      <td>8</td>\n",
       "      <td>0.0</td>\n",
       "      <td>6.967909</td>\n",
       "      <td>-0.218118</td>\n",
       "    </tr>\n",
       "    <tr>\n",
       "      <th>12</th>\n",
       "      <td>1061.0</td>\n",
       "      <td>37</td>\n",
       "      <td>7</td>\n",
       "      <td>1</td>\n",
       "      <td>2</td>\n",
       "      <td>0.0</td>\n",
       "      <td>6.967909</td>\n",
       "      <td>-0.218118</td>\n",
       "    </tr>\n",
       "    <tr>\n",
       "      <th>13</th>\n",
       "      <td>1061.0</td>\n",
       "      <td>20</td>\n",
       "      <td>6</td>\n",
       "      <td>1</td>\n",
       "      <td>2</td>\n",
       "      <td>0.0</td>\n",
       "      <td>6.967909</td>\n",
       "      <td>-0.218118</td>\n",
       "    </tr>\n",
       "    <tr>\n",
       "      <th>14</th>\n",
       "      <td>1026.0</td>\n",
       "      <td>39</td>\n",
       "      <td>2</td>\n",
       "      <td>1</td>\n",
       "      <td>2</td>\n",
       "      <td>0.0</td>\n",
       "      <td>6.934397</td>\n",
       "      <td>-0.256066</td>\n",
       "    </tr>\n",
       "    <tr>\n",
       "      <th>15</th>\n",
       "      <td>1061.0</td>\n",
       "      <td>25</td>\n",
       "      <td>5</td>\n",
       "      <td>1</td>\n",
       "      <td>8</td>\n",
       "      <td>0.0</td>\n",
       "      <td>6.967909</td>\n",
       "      <td>-0.218118</td>\n",
       "    </tr>\n",
       "    <tr>\n",
       "      <th>16</th>\n",
       "      <td>1061.0</td>\n",
       "      <td>22</td>\n",
       "      <td>5</td>\n",
       "      <td>1</td>\n",
       "      <td>9</td>\n",
       "      <td>0.0</td>\n",
       "      <td>6.967909</td>\n",
       "      <td>-0.218118</td>\n",
       "    </tr>\n",
       "    <tr>\n",
       "      <th>17</th>\n",
       "      <td>1700.0</td>\n",
       "      <td>18</td>\n",
       "      <td>5</td>\n",
       "      <td>1</td>\n",
       "      <td>8</td>\n",
       "      <td>0.0</td>\n",
       "      <td>7.438972</td>\n",
       "      <td>0.315298</td>\n",
       "    </tr>\n",
       "    <tr>\n",
       "      <th>18</th>\n",
       "      <td>1026.0</td>\n",
       "      <td>23</td>\n",
       "      <td>4</td>\n",
       "      <td>1</td>\n",
       "      <td>2</td>\n",
       "      <td>0.0</td>\n",
       "      <td>6.934397</td>\n",
       "      <td>-0.256066</td>\n",
       "    </tr>\n",
       "    <tr>\n",
       "      <th>19</th>\n",
       "      <td>1061.0</td>\n",
       "      <td>28</td>\n",
       "      <td>6</td>\n",
       "      <td>1</td>\n",
       "      <td>2</td>\n",
       "      <td>0.0</td>\n",
       "      <td>6.967909</td>\n",
       "      <td>-0.218118</td>\n",
       "    </tr>\n",
       "    <tr>\n",
       "      <th>20</th>\n",
       "      <td>1026.0</td>\n",
       "      <td>48</td>\n",
       "      <td>3</td>\n",
       "      <td>1</td>\n",
       "      <td>2</td>\n",
       "      <td>0.0</td>\n",
       "      <td>6.934397</td>\n",
       "      <td>-0.256066</td>\n",
       "    </tr>\n",
       "    <tr>\n",
       "      <th>21</th>\n",
       "      <td>5000.0</td>\n",
       "      <td>35</td>\n",
       "      <td>7</td>\n",
       "      <td>1</td>\n",
       "      <td>2</td>\n",
       "      <td>0.0</td>\n",
       "      <td>8.517393</td>\n",
       "      <td>1.536468</td>\n",
       "    </tr>\n",
       "    <tr>\n",
       "      <th>22</th>\n",
       "      <td>1000.0</td>\n",
       "      <td>46</td>\n",
       "      <td>5</td>\n",
       "      <td>2</td>\n",
       "      <td>8</td>\n",
       "      <td>0.0</td>\n",
       "      <td>6.908755</td>\n",
       "      <td>-0.285103</td>\n",
       "    </tr>\n",
       "    <tr>\n",
       "      <th>23</th>\n",
       "      <td>2123.0</td>\n",
       "      <td>45</td>\n",
       "      <td>4</td>\n",
       "      <td>1</td>\n",
       "      <td>8</td>\n",
       "      <td>0.0</td>\n",
       "      <td>7.661056</td>\n",
       "      <td>0.566779</td>\n",
       "    </tr>\n",
       "    <tr>\n",
       "      <th>24</th>\n",
       "      <td>2123.0</td>\n",
       "      <td>31</td>\n",
       "      <td>6</td>\n",
       "      <td>1</td>\n",
       "      <td>8</td>\n",
       "      <td>0.0</td>\n",
       "      <td>7.661056</td>\n",
       "      <td>0.566779</td>\n",
       "    </tr>\n",
       "    <tr>\n",
       "      <th>25</th>\n",
       "      <td>1200.0</td>\n",
       "      <td>18</td>\n",
       "      <td>5</td>\n",
       "      <td>1</td>\n",
       "      <td>8</td>\n",
       "      <td>0.0</td>\n",
       "      <td>7.090910</td>\n",
       "      <td>-0.078836</td>\n",
       "    </tr>\n",
       "    <tr>\n",
       "      <th>26</th>\n",
       "      <td>991.0</td>\n",
       "      <td>24</td>\n",
       "      <td>6</td>\n",
       "      <td>1</td>\n",
       "      <td>8</td>\n",
       "      <td>0.0</td>\n",
       "      <td>6.899723</td>\n",
       "      <td>-0.295330</td>\n",
       "    </tr>\n",
       "    <tr>\n",
       "      <th>27</th>\n",
       "      <td>1061.0</td>\n",
       "      <td>21</td>\n",
       "      <td>7</td>\n",
       "      <td>1</td>\n",
       "      <td>8</td>\n",
       "      <td>0.0</td>\n",
       "      <td>6.967909</td>\n",
       "      <td>-0.218118</td>\n",
       "    </tr>\n",
       "    <tr>\n",
       "      <th>28</th>\n",
       "      <td>1061.0</td>\n",
       "      <td>24</td>\n",
       "      <td>5</td>\n",
       "      <td>1</td>\n",
       "      <td>8</td>\n",
       "      <td>0.0</td>\n",
       "      <td>6.967909</td>\n",
       "      <td>-0.218118</td>\n",
       "    </tr>\n",
       "    <tr>\n",
       "      <th>29</th>\n",
       "      <td>1061.0</td>\n",
       "      <td>17</td>\n",
       "      <td>5</td>\n",
       "      <td>1</td>\n",
       "      <td>8</td>\n",
       "      <td>0.0</td>\n",
       "      <td>6.967909</td>\n",
       "      <td>-0.218118</td>\n",
       "    </tr>\n",
       "    <tr>\n",
       "      <th>...</th>\n",
       "      <td>...</td>\n",
       "      <td>...</td>\n",
       "      <td>...</td>\n",
       "      <td>...</td>\n",
       "      <td>...</td>\n",
       "      <td>...</td>\n",
       "      <td>...</td>\n",
       "      <td>...</td>\n",
       "    </tr>\n",
       "    <tr>\n",
       "      <th>2256722</th>\n",
       "      <td>972.0</td>\n",
       "      <td>32</td>\n",
       "      <td>7</td>\n",
       "      <td>1</td>\n",
       "      <td>8</td>\n",
       "      <td>51.0</td>\n",
       "      <td>6.880384</td>\n",
       "      <td>-0.317229</td>\n",
       "    </tr>\n",
       "    <tr>\n",
       "      <th>2256723</th>\n",
       "      <td>1099.0</td>\n",
       "      <td>53</td>\n",
       "      <td>3</td>\n",
       "      <td>1</td>\n",
       "      <td>8</td>\n",
       "      <td>92.0</td>\n",
       "      <td>7.003065</td>\n",
       "      <td>-0.178309</td>\n",
       "    </tr>\n",
       "    <tr>\n",
       "      <th>2256724</th>\n",
       "      <td>990.0</td>\n",
       "      <td>54</td>\n",
       "      <td>7</td>\n",
       "      <td>2</td>\n",
       "      <td>4</td>\n",
       "      <td>222.0</td>\n",
       "      <td>6.898715</td>\n",
       "      <td>-0.296472</td>\n",
       "    </tr>\n",
       "    <tr>\n",
       "      <th>2256725</th>\n",
       "      <td>3000.0</td>\n",
       "      <td>28</td>\n",
       "      <td>7</td>\n",
       "      <td>1</td>\n",
       "      <td>8</td>\n",
       "      <td>26.0</td>\n",
       "      <td>8.006701</td>\n",
       "      <td>0.958176</td>\n",
       "    </tr>\n",
       "    <tr>\n",
       "      <th>2256726</th>\n",
       "      <td>1021.0</td>\n",
       "      <td>27</td>\n",
       "      <td>3</td>\n",
       "      <td>1</td>\n",
       "      <td>8</td>\n",
       "      <td>16.0</td>\n",
       "      <td>6.929517</td>\n",
       "      <td>-0.261593</td>\n",
       "    </tr>\n",
       "    <tr>\n",
       "      <th>2256727</th>\n",
       "      <td>5475.0</td>\n",
       "      <td>45</td>\n",
       "      <td>9</td>\n",
       "      <td>1</td>\n",
       "      <td>8</td>\n",
       "      <td>109.0</td>\n",
       "      <td>8.608130</td>\n",
       "      <td>1.639215</td>\n",
       "    </tr>\n",
       "    <tr>\n",
       "      <th>2256728</th>\n",
       "      <td>5798.0</td>\n",
       "      <td>44</td>\n",
       "      <td>9</td>\n",
       "      <td>1</td>\n",
       "      <td>8</td>\n",
       "      <td>148.0</td>\n",
       "      <td>8.665441</td>\n",
       "      <td>1.704112</td>\n",
       "    </tr>\n",
       "    <tr>\n",
       "      <th>2256729</th>\n",
       "      <td>10849.0</td>\n",
       "      <td>51</td>\n",
       "      <td>7</td>\n",
       "      <td>1</td>\n",
       "      <td>4</td>\n",
       "      <td>373.0</td>\n",
       "      <td>9.291920</td>\n",
       "      <td>2.413518</td>\n",
       "    </tr>\n",
       "    <tr>\n",
       "      <th>2256730</th>\n",
       "      <td>16079.0</td>\n",
       "      <td>60</td>\n",
       "      <td>9</td>\n",
       "      <td>2</td>\n",
       "      <td>2</td>\n",
       "      <td>483.0</td>\n",
       "      <td>9.685332</td>\n",
       "      <td>2.859004</td>\n",
       "    </tr>\n",
       "    <tr>\n",
       "      <th>2256731</th>\n",
       "      <td>1281.0</td>\n",
       "      <td>44</td>\n",
       "      <td>7</td>\n",
       "      <td>1</td>\n",
       "      <td>8</td>\n",
       "      <td>8.0</td>\n",
       "      <td>7.156177</td>\n",
       "      <td>-0.004930</td>\n",
       "    </tr>\n",
       "    <tr>\n",
       "      <th>2256732</th>\n",
       "      <td>1074.0</td>\n",
       "      <td>24</td>\n",
       "      <td>7</td>\n",
       "      <td>1</td>\n",
       "      <td>8</td>\n",
       "      <td>3.0</td>\n",
       "      <td>6.980076</td>\n",
       "      <td>-0.204341</td>\n",
       "    </tr>\n",
       "    <tr>\n",
       "      <th>2256733</th>\n",
       "      <td>1074.0</td>\n",
       "      <td>38</td>\n",
       "      <td>7</td>\n",
       "      <td>1</td>\n",
       "      <td>8</td>\n",
       "      <td>5.0</td>\n",
       "      <td>6.980076</td>\n",
       "      <td>-0.204341</td>\n",
       "    </tr>\n",
       "    <tr>\n",
       "      <th>2256734</th>\n",
       "      <td>3066.0</td>\n",
       "      <td>25</td>\n",
       "      <td>7</td>\n",
       "      <td>2</td>\n",
       "      <td>8</td>\n",
       "      <td>6.0</td>\n",
       "      <td>8.028455</td>\n",
       "      <td>0.982810</td>\n",
       "    </tr>\n",
       "    <tr>\n",
       "      <th>2256735</th>\n",
       "      <td>1043.0</td>\n",
       "      <td>31</td>\n",
       "      <td>9</td>\n",
       "      <td>2</td>\n",
       "      <td>2</td>\n",
       "      <td>77.0</td>\n",
       "      <td>6.950815</td>\n",
       "      <td>-0.237476</td>\n",
       "    </tr>\n",
       "    <tr>\n",
       "      <th>2256736</th>\n",
       "      <td>1043.0</td>\n",
       "      <td>42</td>\n",
       "      <td>7</td>\n",
       "      <td>2</td>\n",
       "      <td>8</td>\n",
       "      <td>96.0</td>\n",
       "      <td>6.950815</td>\n",
       "      <td>-0.237476</td>\n",
       "    </tr>\n",
       "    <tr>\n",
       "      <th>2256737</th>\n",
       "      <td>3615.0</td>\n",
       "      <td>51</td>\n",
       "      <td>9</td>\n",
       "      <td>2</td>\n",
       "      <td>2</td>\n",
       "      <td>8.0</td>\n",
       "      <td>8.193124</td>\n",
       "      <td>1.169275</td>\n",
       "    </tr>\n",
       "    <tr>\n",
       "      <th>2256738</th>\n",
       "      <td>1043.0</td>\n",
       "      <td>43</td>\n",
       "      <td>7</td>\n",
       "      <td>2</td>\n",
       "      <td>8</td>\n",
       "      <td>20.0</td>\n",
       "      <td>6.950815</td>\n",
       "      <td>-0.237476</td>\n",
       "    </tr>\n",
       "    <tr>\n",
       "      <th>2256739</th>\n",
       "      <td>999.0</td>\n",
       "      <td>22</td>\n",
       "      <td>7</td>\n",
       "      <td>1</td>\n",
       "      <td>8</td>\n",
       "      <td>31.0</td>\n",
       "      <td>6.907755</td>\n",
       "      <td>-0.286235</td>\n",
       "    </tr>\n",
       "    <tr>\n",
       "      <th>2256740</th>\n",
       "      <td>1005.0</td>\n",
       "      <td>18</td>\n",
       "      <td>6</td>\n",
       "      <td>1</td>\n",
       "      <td>8</td>\n",
       "      <td>26.0</td>\n",
       "      <td>6.913737</td>\n",
       "      <td>-0.279461</td>\n",
       "    </tr>\n",
       "    <tr>\n",
       "      <th>2256741</th>\n",
       "      <td>1033.0</td>\n",
       "      <td>38</td>\n",
       "      <td>7</td>\n",
       "      <td>1</td>\n",
       "      <td>8</td>\n",
       "      <td>50.0</td>\n",
       "      <td>6.941190</td>\n",
       "      <td>-0.248374</td>\n",
       "    </tr>\n",
       "    <tr>\n",
       "      <th>2256742</th>\n",
       "      <td>1043.0</td>\n",
       "      <td>20</td>\n",
       "      <td>6</td>\n",
       "      <td>1</td>\n",
       "      <td>8</td>\n",
       "      <td>21.0</td>\n",
       "      <td>6.950815</td>\n",
       "      <td>-0.237476</td>\n",
       "    </tr>\n",
       "    <tr>\n",
       "      <th>2256743</th>\n",
       "      <td>1005.0</td>\n",
       "      <td>20</td>\n",
       "      <td>7</td>\n",
       "      <td>1</td>\n",
       "      <td>8</td>\n",
       "      <td>23.0</td>\n",
       "      <td>6.913737</td>\n",
       "      <td>-0.279461</td>\n",
       "    </tr>\n",
       "    <tr>\n",
       "      <th>2256744</th>\n",
       "      <td>1222.0</td>\n",
       "      <td>32</td>\n",
       "      <td>7</td>\n",
       "      <td>2</td>\n",
       "      <td>8</td>\n",
       "      <td>42.0</td>\n",
       "      <td>7.109062</td>\n",
       "      <td>-0.058281</td>\n",
       "    </tr>\n",
       "    <tr>\n",
       "      <th>2256745</th>\n",
       "      <td>2641.0</td>\n",
       "      <td>63</td>\n",
       "      <td>6</td>\n",
       "      <td>1</td>\n",
       "      <td>8</td>\n",
       "      <td>62.0</td>\n",
       "      <td>7.879291</td>\n",
       "      <td>0.813902</td>\n",
       "    </tr>\n",
       "    <tr>\n",
       "      <th>2256746</th>\n",
       "      <td>5724.0</td>\n",
       "      <td>36</td>\n",
       "      <td>9</td>\n",
       "      <td>2</td>\n",
       "      <td>8</td>\n",
       "      <td>48.0</td>\n",
       "      <td>8.652598</td>\n",
       "      <td>1.689569</td>\n",
       "    </tr>\n",
       "    <tr>\n",
       "      <th>2256747</th>\n",
       "      <td>5510.0</td>\n",
       "      <td>59</td>\n",
       "      <td>9</td>\n",
       "      <td>2</td>\n",
       "      <td>8</td>\n",
       "      <td>447.0</td>\n",
       "      <td>8.614501</td>\n",
       "      <td>1.646430</td>\n",
       "    </tr>\n",
       "    <tr>\n",
       "      <th>2256748</th>\n",
       "      <td>954.0</td>\n",
       "      <td>55</td>\n",
       "      <td>7</td>\n",
       "      <td>2</td>\n",
       "      <td>9</td>\n",
       "      <td>215.0</td>\n",
       "      <td>6.861711</td>\n",
       "      <td>-0.338373</td>\n",
       "    </tr>\n",
       "    <tr>\n",
       "      <th>2256749</th>\n",
       "      <td>1000.0</td>\n",
       "      <td>61</td>\n",
       "      <td>7</td>\n",
       "      <td>2</td>\n",
       "      <td>8</td>\n",
       "      <td>202.0</td>\n",
       "      <td>6.908755</td>\n",
       "      <td>-0.285103</td>\n",
       "    </tr>\n",
       "    <tr>\n",
       "      <th>2256750</th>\n",
       "      <td>1365.0</td>\n",
       "      <td>22</td>\n",
       "      <td>8</td>\n",
       "      <td>1</td>\n",
       "      <td>2</td>\n",
       "      <td>16.0</td>\n",
       "      <td>7.219642</td>\n",
       "      <td>0.066936</td>\n",
       "    </tr>\n",
       "    <tr>\n",
       "      <th>2256751</th>\n",
       "      <td>996.0</td>\n",
       "      <td>27</td>\n",
       "      <td>9</td>\n",
       "      <td>2</td>\n",
       "      <td>2</td>\n",
       "      <td>69.0</td>\n",
       "      <td>6.904751</td>\n",
       "      <td>-0.289637</td>\n",
       "    </tr>\n",
       "  </tbody>\n",
       "</table>\n",
       "<p>2256752 rows × 8 columns</p>\n",
       "</div>"
      ],
      "text/plain": [
       "         salario_mensal  idade  grau_instrucao  Sexo  raca_cor  tempo_emprego  \\\n",
       "0                 954.0     24               6     1         8            0.0   \n",
       "1                2500.0     25               8     1         2            0.0   \n",
       "2                   0.0     55               2     1         8            0.0   \n",
       "3                   0.0     52               2     1         8            0.0   \n",
       "4                   0.0     32               2     1         8            0.0   \n",
       "5                   0.0     56               2     1         8            0.0   \n",
       "6                   0.0     22               2     1         8            0.0   \n",
       "7                1061.0     50               4     2         2            0.0   \n",
       "8                   0.0     27               2     2         1            0.0   \n",
       "9                   0.0     34               2     2         1            0.0   \n",
       "10                  0.0     32               2     2         1            0.0   \n",
       "11               1061.0     22               7     1         8            0.0   \n",
       "12               1061.0     37               7     1         2            0.0   \n",
       "13               1061.0     20               6     1         2            0.0   \n",
       "14               1026.0     39               2     1         2            0.0   \n",
       "15               1061.0     25               5     1         8            0.0   \n",
       "16               1061.0     22               5     1         9            0.0   \n",
       "17               1700.0     18               5     1         8            0.0   \n",
       "18               1026.0     23               4     1         2            0.0   \n",
       "19               1061.0     28               6     1         2            0.0   \n",
       "20               1026.0     48               3     1         2            0.0   \n",
       "21               5000.0     35               7     1         2            0.0   \n",
       "22               1000.0     46               5     2         8            0.0   \n",
       "23               2123.0     45               4     1         8            0.0   \n",
       "24               2123.0     31               6     1         8            0.0   \n",
       "25               1200.0     18               5     1         8            0.0   \n",
       "26                991.0     24               6     1         8            0.0   \n",
       "27               1061.0     21               7     1         8            0.0   \n",
       "28               1061.0     24               5     1         8            0.0   \n",
       "29               1061.0     17               5     1         8            0.0   \n",
       "...                 ...    ...             ...   ...       ...            ...   \n",
       "2256722           972.0     32               7     1         8           51.0   \n",
       "2256723          1099.0     53               3     1         8           92.0   \n",
       "2256724           990.0     54               7     2         4          222.0   \n",
       "2256725          3000.0     28               7     1         8           26.0   \n",
       "2256726          1021.0     27               3     1         8           16.0   \n",
       "2256727          5475.0     45               9     1         8          109.0   \n",
       "2256728          5798.0     44               9     1         8          148.0   \n",
       "2256729         10849.0     51               7     1         4          373.0   \n",
       "2256730         16079.0     60               9     2         2          483.0   \n",
       "2256731          1281.0     44               7     1         8            8.0   \n",
       "2256732          1074.0     24               7     1         8            3.0   \n",
       "2256733          1074.0     38               7     1         8            5.0   \n",
       "2256734          3066.0     25               7     2         8            6.0   \n",
       "2256735          1043.0     31               9     2         2           77.0   \n",
       "2256736          1043.0     42               7     2         8           96.0   \n",
       "2256737          3615.0     51               9     2         2            8.0   \n",
       "2256738          1043.0     43               7     2         8           20.0   \n",
       "2256739           999.0     22               7     1         8           31.0   \n",
       "2256740          1005.0     18               6     1         8           26.0   \n",
       "2256741          1033.0     38               7     1         8           50.0   \n",
       "2256742          1043.0     20               6     1         8           21.0   \n",
       "2256743          1005.0     20               7     1         8           23.0   \n",
       "2256744          1222.0     32               7     2         8           42.0   \n",
       "2256745          2641.0     63               6     1         8           62.0   \n",
       "2256746          5724.0     36               9     2         8           48.0   \n",
       "2256747          5510.0     59               9     2         8          447.0   \n",
       "2256748           954.0     55               7     2         9          215.0   \n",
       "2256749          1000.0     61               7     2         8          202.0   \n",
       "2256750          1365.0     22               8     1         2           16.0   \n",
       "2256751           996.0     27               9     2         2           69.0   \n",
       "\n",
       "         salary_log  salary_logz  \n",
       "0          6.861711    -0.338373  \n",
       "1          7.824446     0.751796  \n",
       "2          0.000000    -8.108356  \n",
       "3          0.000000    -8.108356  \n",
       "4          0.000000    -8.108356  \n",
       "5          0.000000    -8.108356  \n",
       "6          0.000000    -8.108356  \n",
       "7          6.967909    -0.218118  \n",
       "8          0.000000    -8.108356  \n",
       "9          0.000000    -8.108356  \n",
       "10         0.000000    -8.108356  \n",
       "11         6.967909    -0.218118  \n",
       "12         6.967909    -0.218118  \n",
       "13         6.967909    -0.218118  \n",
       "14         6.934397    -0.256066  \n",
       "15         6.967909    -0.218118  \n",
       "16         6.967909    -0.218118  \n",
       "17         7.438972     0.315298  \n",
       "18         6.934397    -0.256066  \n",
       "19         6.967909    -0.218118  \n",
       "20         6.934397    -0.256066  \n",
       "21         8.517393     1.536468  \n",
       "22         6.908755    -0.285103  \n",
       "23         7.661056     0.566779  \n",
       "24         7.661056     0.566779  \n",
       "25         7.090910    -0.078836  \n",
       "26         6.899723    -0.295330  \n",
       "27         6.967909    -0.218118  \n",
       "28         6.967909    -0.218118  \n",
       "29         6.967909    -0.218118  \n",
       "...             ...          ...  \n",
       "2256722    6.880384    -0.317229  \n",
       "2256723    7.003065    -0.178309  \n",
       "2256724    6.898715    -0.296472  \n",
       "2256725    8.006701     0.958176  \n",
       "2256726    6.929517    -0.261593  \n",
       "2256727    8.608130     1.639215  \n",
       "2256728    8.665441     1.704112  \n",
       "2256729    9.291920     2.413518  \n",
       "2256730    9.685332     2.859004  \n",
       "2256731    7.156177    -0.004930  \n",
       "2256732    6.980076    -0.204341  \n",
       "2256733    6.980076    -0.204341  \n",
       "2256734    8.028455     0.982810  \n",
       "2256735    6.950815    -0.237476  \n",
       "2256736    6.950815    -0.237476  \n",
       "2256737    8.193124     1.169275  \n",
       "2256738    6.950815    -0.237476  \n",
       "2256739    6.907755    -0.286235  \n",
       "2256740    6.913737    -0.279461  \n",
       "2256741    6.941190    -0.248374  \n",
       "2256742    6.950815    -0.237476  \n",
       "2256743    6.913737    -0.279461  \n",
       "2256744    7.109062    -0.058281  \n",
       "2256745    7.879291     0.813902  \n",
       "2256746    8.652598     1.689569  \n",
       "2256747    8.614501     1.646430  \n",
       "2256748    6.861711    -0.338373  \n",
       "2256749    6.908755    -0.285103  \n",
       "2256750    7.219642     0.066936  \n",
       "2256751    6.904751    -0.289637  \n",
       "\n",
       "[2256752 rows x 8 columns]"
      ]
     },
     "execution_count": 70,
     "metadata": {},
     "output_type": "execute_result"
    }
   ],
   "source": [
    "df.rename(columns={'Idade': 'idade' })\n"
   ]
  },
  {
   "cell_type": "code",
   "execution_count": 71,
   "metadata": {},
   "outputs": [
    {
     "data": {
      "text/plain": [
       "0          24\n",
       "1          25\n",
       "2          55\n",
       "3          52\n",
       "4          32\n",
       "5          56\n",
       "6          22\n",
       "7          50\n",
       "8          27\n",
       "9          34\n",
       "10         32\n",
       "11         22\n",
       "12         37\n",
       "13         20\n",
       "14         39\n",
       "15         25\n",
       "16         22\n",
       "17         18\n",
       "18         23\n",
       "19         28\n",
       "20         48\n",
       "21         35\n",
       "22         46\n",
       "23         45\n",
       "24         31\n",
       "25         18\n",
       "26         24\n",
       "27         21\n",
       "28         24\n",
       "29         17\n",
       "           ..\n",
       "2256722    32\n",
       "2256723    53\n",
       "2256724    54\n",
       "2256725    28\n",
       "2256726    27\n",
       "2256727    45\n",
       "2256728    44\n",
       "2256729    51\n",
       "2256730    60\n",
       "2256731    44\n",
       "2256732    24\n",
       "2256733    38\n",
       "2256734    25\n",
       "2256735    31\n",
       "2256736    42\n",
       "2256737    51\n",
       "2256738    43\n",
       "2256739    22\n",
       "2256740    18\n",
       "2256741    38\n",
       "2256742    20\n",
       "2256743    20\n",
       "2256744    32\n",
       "2256745    63\n",
       "2256746    36\n",
       "2256747    59\n",
       "2256748    55\n",
       "2256749    61\n",
       "2256750    22\n",
       "2256751    27\n",
       "Name: Idade, Length: 2256752, dtype: int64"
      ]
     },
     "execution_count": 71,
     "metadata": {},
     "output_type": "execute_result"
    }
   ],
   "source": [
    "df.Idade"
   ]
  },
  {
   "cell_type": "code",
   "execution_count": 72,
   "metadata": {},
   "outputs": [
    {
     "data": {
      "text/html": [
       "<div>\n",
       "<style scoped>\n",
       "    .dataframe tbody tr th:only-of-type {\n",
       "        vertical-align: middle;\n",
       "    }\n",
       "\n",
       "    .dataframe tbody tr th {\n",
       "        vertical-align: top;\n",
       "    }\n",
       "\n",
       "    .dataframe thead th {\n",
       "        text-align: right;\n",
       "    }\n",
       "</style>\n",
       "<table border=\"1\" class=\"dataframe\">\n",
       "  <thead>\n",
       "    <tr style=\"text-align: right;\">\n",
       "      <th></th>\n",
       "      <th>salario_mensal</th>\n",
       "      <th>Idade</th>\n",
       "      <th>grau_instrucao</th>\n",
       "      <th>Sexo</th>\n",
       "      <th>raca_cor</th>\n",
       "      <th>tempo_emprego</th>\n",
       "      <th>salary_log</th>\n",
       "      <th>salary_logz</th>\n",
       "    </tr>\n",
       "  </thead>\n",
       "  <tbody>\n",
       "    <tr>\n",
       "      <th>525652</th>\n",
       "      <td>1300.0</td>\n",
       "      <td>10</td>\n",
       "      <td>4</td>\n",
       "      <td>2</td>\n",
       "      <td>2</td>\n",
       "      <td>0.0</td>\n",
       "      <td>7.170888</td>\n",
       "      <td>0.011729</td>\n",
       "    </tr>\n",
       "    <tr>\n",
       "      <th>700459</th>\n",
       "      <td>1270.0</td>\n",
       "      <td>10</td>\n",
       "      <td>7</td>\n",
       "      <td>2</td>\n",
       "      <td>2</td>\n",
       "      <td>0.0</td>\n",
       "      <td>7.147559</td>\n",
       "      <td>-0.014688</td>\n",
       "    </tr>\n",
       "    <tr>\n",
       "      <th>700589</th>\n",
       "      <td>1175.0</td>\n",
       "      <td>10</td>\n",
       "      <td>9</td>\n",
       "      <td>2</td>\n",
       "      <td>2</td>\n",
       "      <td>0.0</td>\n",
       "      <td>7.069874</td>\n",
       "      <td>-0.102657</td>\n",
       "    </tr>\n",
       "    <tr>\n",
       "      <th>755342</th>\n",
       "      <td>1386.0</td>\n",
       "      <td>10</td>\n",
       "      <td>7</td>\n",
       "      <td>2</td>\n",
       "      <td>2</td>\n",
       "      <td>0.0</td>\n",
       "      <td>7.234898</td>\n",
       "      <td>0.084212</td>\n",
       "    </tr>\n",
       "    <tr>\n",
       "      <th>818105</th>\n",
       "      <td>1396.0</td>\n",
       "      <td>10</td>\n",
       "      <td>7</td>\n",
       "      <td>2</td>\n",
       "      <td>2</td>\n",
       "      <td>0.0</td>\n",
       "      <td>7.242082</td>\n",
       "      <td>0.092347</td>\n",
       "    </tr>\n",
       "    <tr>\n",
       "      <th>911526</th>\n",
       "      <td>1591.0</td>\n",
       "      <td>10</td>\n",
       "      <td>5</td>\n",
       "      <td>1</td>\n",
       "      <td>2</td>\n",
       "      <td>0.0</td>\n",
       "      <td>7.372746</td>\n",
       "      <td>0.240306</td>\n",
       "    </tr>\n",
       "    <tr>\n",
       "      <th>1029126</th>\n",
       "      <td>1386.0</td>\n",
       "      <td>10</td>\n",
       "      <td>7</td>\n",
       "      <td>2</td>\n",
       "      <td>2</td>\n",
       "      <td>1.0</td>\n",
       "      <td>7.234898</td>\n",
       "      <td>0.084212</td>\n",
       "    </tr>\n",
       "    <tr>\n",
       "      <th>1219878</th>\n",
       "      <td>1175.0</td>\n",
       "      <td>10</td>\n",
       "      <td>9</td>\n",
       "      <td>2</td>\n",
       "      <td>2</td>\n",
       "      <td>1.0</td>\n",
       "      <td>7.069874</td>\n",
       "      <td>-0.102657</td>\n",
       "    </tr>\n",
       "    <tr>\n",
       "      <th>1256193</th>\n",
       "      <td>1752.0</td>\n",
       "      <td>10</td>\n",
       "      <td>2</td>\n",
       "      <td>1</td>\n",
       "      <td>9</td>\n",
       "      <td>3.0</td>\n",
       "      <td>7.469084</td>\n",
       "      <td>0.349396</td>\n",
       "    </tr>\n",
       "    <tr>\n",
       "      <th>1456024</th>\n",
       "      <td>949.0</td>\n",
       "      <td>10</td>\n",
       "      <td>7</td>\n",
       "      <td>2</td>\n",
       "      <td>9</td>\n",
       "      <td>0.0</td>\n",
       "      <td>6.856462</td>\n",
       "      <td>-0.344318</td>\n",
       "    </tr>\n",
       "    <tr>\n",
       "      <th>1564042</th>\n",
       "      <td>1962.0</td>\n",
       "      <td>10</td>\n",
       "      <td>6</td>\n",
       "      <td>1</td>\n",
       "      <td>8</td>\n",
       "      <td>2.0</td>\n",
       "      <td>7.582229</td>\n",
       "      <td>0.477518</td>\n",
       "    </tr>\n",
       "    <tr>\n",
       "      <th>1573235</th>\n",
       "      <td>1000.0</td>\n",
       "      <td>10</td>\n",
       "      <td>7</td>\n",
       "      <td>1</td>\n",
       "      <td>8</td>\n",
       "      <td>0.0</td>\n",
       "      <td>6.908755</td>\n",
       "      <td>-0.285103</td>\n",
       "    </tr>\n",
       "    <tr>\n",
       "      <th>1613912</th>\n",
       "      <td>954.0</td>\n",
       "      <td>10</td>\n",
       "      <td>6</td>\n",
       "      <td>1</td>\n",
       "      <td>6</td>\n",
       "      <td>0.0</td>\n",
       "      <td>6.861711</td>\n",
       "      <td>-0.338373</td>\n",
       "    </tr>\n",
       "    <tr>\n",
       "      <th>1629409</th>\n",
       "      <td>1127.0</td>\n",
       "      <td>10</td>\n",
       "      <td>7</td>\n",
       "      <td>2</td>\n",
       "      <td>2</td>\n",
       "      <td>0.0</td>\n",
       "      <td>7.028201</td>\n",
       "      <td>-0.149845</td>\n",
       "    </tr>\n",
       "    <tr>\n",
       "      <th>1869477</th>\n",
       "      <td>1071.0</td>\n",
       "      <td>10</td>\n",
       "      <td>7</td>\n",
       "      <td>1</td>\n",
       "      <td>9</td>\n",
       "      <td>0.0</td>\n",
       "      <td>6.977281</td>\n",
       "      <td>-0.207506</td>\n",
       "    </tr>\n",
       "  </tbody>\n",
       "</table>\n",
       "</div>"
      ],
      "text/plain": [
       "         salario_mensal  Idade  grau_instrucao  Sexo  raca_cor  tempo_emprego  \\\n",
       "525652           1300.0     10               4     2         2            0.0   \n",
       "700459           1270.0     10               7     2         2            0.0   \n",
       "700589           1175.0     10               9     2         2            0.0   \n",
       "755342           1386.0     10               7     2         2            0.0   \n",
       "818105           1396.0     10               7     2         2            0.0   \n",
       "911526           1591.0     10               5     1         2            0.0   \n",
       "1029126          1386.0     10               7     2         2            1.0   \n",
       "1219878          1175.0     10               9     2         2            1.0   \n",
       "1256193          1752.0     10               2     1         9            3.0   \n",
       "1456024           949.0     10               7     2         9            0.0   \n",
       "1564042          1962.0     10               6     1         8            2.0   \n",
       "1573235          1000.0     10               7     1         8            0.0   \n",
       "1613912           954.0     10               6     1         6            0.0   \n",
       "1629409          1127.0     10               7     2         2            0.0   \n",
       "1869477          1071.0     10               7     1         9            0.0   \n",
       "\n",
       "         salary_log  salary_logz  \n",
       "525652     7.170888     0.011729  \n",
       "700459     7.147559    -0.014688  \n",
       "700589     7.069874    -0.102657  \n",
       "755342     7.234898     0.084212  \n",
       "818105     7.242082     0.092347  \n",
       "911526     7.372746     0.240306  \n",
       "1029126    7.234898     0.084212  \n",
       "1219878    7.069874    -0.102657  \n",
       "1256193    7.469084     0.349396  \n",
       "1456024    6.856462    -0.344318  \n",
       "1564042    7.582229     0.477518  \n",
       "1573235    6.908755    -0.285103  \n",
       "1613912    6.861711    -0.338373  \n",
       "1629409    7.028201    -0.149845  \n",
       "1869477    6.977281    -0.207506  "
      ]
     },
     "execution_count": 72,
     "metadata": {},
     "output_type": "execute_result"
    }
   ],
   "source": [
    "# states[(states['population'] > 19552860) & (states['area']>423967)]\n",
    "df[(df[\"Idade\"]==min(df['Idade']))]"
   ]
  },
  {
   "cell_type": "code",
   "execution_count": 73,
   "metadata": {},
   "outputs": [
    {
     "data": {
      "text/plain": [
       "(0.9411314725875854, 0.0)"
      ]
     },
     "execution_count": 73,
     "metadata": {},
     "output_type": "execute_result"
    }
   ],
   "source": [
    "stats.shapiro(df.Idade) #testando se a curva é normal"
   ]
  },
  {
   "cell_type": "code",
   "execution_count": 74,
   "metadata": {},
   "outputs": [],
   "source": [
    "df['Idade_log'] = np.log(df.Idade)"
   ]
  },
  {
   "cell_type": "code",
   "execution_count": 75,
   "metadata": {},
   "outputs": [
    {
     "data": {
      "text/plain": [
       "(0.9819164276123047, 0.0)"
      ]
     },
     "execution_count": 75,
     "metadata": {},
     "output_type": "execute_result"
    }
   ],
   "source": [
    "stats.shapiro(df.Idade_log)"
   ]
  },
  {
   "cell_type": "code",
   "execution_count": 76,
   "metadata": {},
   "outputs": [
    {
     "data": {
      "text/plain": [
       "<matplotlib.axes._subplots.AxesSubplot at 0x1e8b8b15780>"
      ]
     },
     "execution_count": 76,
     "metadata": {},
     "output_type": "execute_result"
    },
    {
     "data": {
      "image/png": "[encoded data removed]",
      "text/plain": [
       "<Figure size 432x288 with 1 Axes>"
      ]
     },
     "metadata": {
      "needs_background": "light"
     },
     "output_type": "display_data"
    }
   ],
   "source": [
    "df.Idade_log.plot.hist()"
   ]
  },
  {
   "cell_type": "code",
   "execution_count": 77,
   "metadata": {},
   "outputs": [],
   "source": [
    "# Padronizando\n",
    "df['Idade_logz'] = (df.Idade_log - df.Idade_log.mean())/df.Idade_log.std()"
   ]
  },
  {
   "cell_type": "code",
   "execution_count": 78,
   "metadata": {},
   "outputs": [
    {
     "data": {
      "text/html": [
       "<div>\n",
       "<style scoped>\n",
       "    .dataframe tbody tr th:only-of-type {\n",
       "        vertical-align: middle;\n",
       "    }\n",
       "\n",
       "    .dataframe tbody tr th {\n",
       "        vertical-align: top;\n",
       "    }\n",
       "\n",
       "    .dataframe thead th {\n",
       "        text-align: right;\n",
       "    }\n",
       "</style>\n",
       "<table border=\"1\" class=\"dataframe\">\n",
       "  <thead>\n",
       "    <tr style=\"text-align: right;\">\n",
       "      <th></th>\n",
       "      <th>salario_mensal</th>\n",
       "      <th>Idade</th>\n",
       "      <th>grau_instrucao</th>\n",
       "      <th>Sexo</th>\n",
       "      <th>raca_cor</th>\n",
       "      <th>tempo_emprego</th>\n",
       "      <th>salary_log</th>\n",
       "      <th>salary_logz</th>\n",
       "      <th>Idade_log</th>\n",
       "      <th>Idade_logz</th>\n",
       "    </tr>\n",
       "  </thead>\n",
       "  <tbody>\n",
       "    <tr>\n",
       "      <th>0</th>\n",
       "      <td>954.0</td>\n",
       "      <td>24</td>\n",
       "      <td>6</td>\n",
       "      <td>1</td>\n",
       "      <td>8</td>\n",
       "      <td>0.0</td>\n",
       "      <td>6.861711</td>\n",
       "      <td>-0.338373</td>\n",
       "      <td>3.178054</td>\n",
       "      <td>-0.734573</td>\n",
       "    </tr>\n",
       "    <tr>\n",
       "      <th>1</th>\n",
       "      <td>2500.0</td>\n",
       "      <td>25</td>\n",
       "      <td>8</td>\n",
       "      <td>1</td>\n",
       "      <td>2</td>\n",
       "      <td>0.0</td>\n",
       "      <td>7.824446</td>\n",
       "      <td>0.751796</td>\n",
       "      <td>3.218876</td>\n",
       "      <td>-0.610896</td>\n",
       "    </tr>\n",
       "    <tr>\n",
       "      <th>2</th>\n",
       "      <td>0.0</td>\n",
       "      <td>55</td>\n",
       "      <td>2</td>\n",
       "      <td>1</td>\n",
       "      <td>8</td>\n",
       "      <td>0.0</td>\n",
       "      <td>0.000000</td>\n",
       "      <td>-8.108356</td>\n",
       "      <td>4.007333</td>\n",
       "      <td>1.777875</td>\n",
       "    </tr>\n",
       "    <tr>\n",
       "      <th>3</th>\n",
       "      <td>0.0</td>\n",
       "      <td>52</td>\n",
       "      <td>2</td>\n",
       "      <td>1</td>\n",
       "      <td>8</td>\n",
       "      <td>0.0</td>\n",
       "      <td>0.000000</td>\n",
       "      <td>-8.108356</td>\n",
       "      <td>3.951244</td>\n",
       "      <td>1.607942</td>\n",
       "    </tr>\n",
       "    <tr>\n",
       "      <th>4</th>\n",
       "      <td>0.0</td>\n",
       "      <td>32</td>\n",
       "      <td>2</td>\n",
       "      <td>1</td>\n",
       "      <td>8</td>\n",
       "      <td>0.0</td>\n",
       "      <td>0.000000</td>\n",
       "      <td>-8.108356</td>\n",
       "      <td>3.465736</td>\n",
       "      <td>0.137010</td>\n",
       "    </tr>\n",
       "  </tbody>\n",
       "</table>\n",
       "</div>"
      ],
      "text/plain": [
       "   salario_mensal  Idade  grau_instrucao  Sexo  raca_cor  tempo_emprego  \\\n",
       "0           954.0     24               6     1         8            0.0   \n",
       "1          2500.0     25               8     1         2            0.0   \n",
       "2             0.0     55               2     1         8            0.0   \n",
       "3             0.0     52               2     1         8            0.0   \n",
       "4             0.0     32               2     1         8            0.0   \n",
       "\n",
       "   salary_log  salary_logz  Idade_log  Idade_logz  \n",
       "0    6.861711    -0.338373   3.178054   -0.734573  \n",
       "1    7.824446     0.751796   3.218876   -0.610896  \n",
       "2    0.000000    -8.108356   4.007333    1.777875  \n",
       "3    0.000000    -8.108356   3.951244    1.607942  \n",
       "4    0.000000    -8.108356   3.465736    0.137010  "
      ]
     },
     "execution_count": 78,
     "metadata": {},
     "output_type": "execute_result"
    }
   ],
   "source": [
    "df.head()"
   ]
  },
  {
   "cell_type": "code",
   "execution_count": 79,
   "metadata": {},
   "outputs": [
    {
     "data": {
      "text/plain": [
       "(-3.453008176171285e-11, 1.000000000004205)"
      ]
     },
     "execution_count": 79,
     "metadata": {},
     "output_type": "execute_result"
    }
   ],
   "source": [
    "x = df.Idade_logz.sort_values()\n",
    "mu = x.mean()\n",
    "std = x.std()\n",
    "mu, std"
   ]
  },
  {
   "cell_type": "code",
   "execution_count": 80,
   "metadata": {},
   "outputs": [
    {
     "data": {
      "text/plain": [
       "(-1.959963984582826, 1.9599639845137657)"
      ]
     },
     "execution_count": 80,
     "metadata": {},
     "output_type": "execute_result"
    }
   ],
   "source": [
    "limite_inferior = scipy.stats.norm.interval(alpha=0.95, loc=mu, scale=std)\n",
    "limite_inferior"
   ]
  },
  {
   "cell_type": "code",
   "execution_count": 81,
   "metadata": {},
   "outputs": [
    {
     "data": {
      "text/plain": [
       "<matplotlib.axes._subplots.AxesSubplot at 0x1e8b8b8de48>"
      ]
     },
     "execution_count": 81,
     "metadata": {},
     "output_type": "execute_result"
    },
    {
     "data": {
      "image/png": "[encoded data removed]",
      "text/plain": [
       "<Figure size 432x288 with 1 Axes>"
      ]
     },
     "metadata": {
      "needs_background": "light"
     },
     "output_type": "display_data"
    }
   ],
   "source": [
    "df.Idade_logz.plot.hist()"
   ]
  },
  {
   "cell_type": "code",
   "execution_count": 82,
   "metadata": {},
   "outputs": [
    {
     "data": {
      "text/plain": [
       "<matplotlib.collections.PathCollection at 0x1e8b8c35b70>"
      ]
     },
     "execution_count": 82,
     "metadata": {},
     "output_type": "execute_result"
    },
    {
     "data": {
      "image/png": "[encoded data removed]",
      "text/plain": [
       "<Figure size 432x288 with 1 Axes>"
      ]
     },
     "metadata": {
      "needs_background": "light"
     },
     "output_type": "display_data"
    }
   ],
   "source": [
    "plt.scatter(x=df.Idade_log, y=df.salario_mensal) #Fica dificil verificar se há alguma correlação entre salario e idade"
   ]
  },
  {
   "cell_type": "code",
   "execution_count": 83,
   "metadata": {},
   "outputs": [
    {
     "data": {
      "text/plain": [
       "<matplotlib.collections.PathCollection at 0x1e8b8c9c5c0>"
      ]
     },
     "execution_count": 83,
     "metadata": {},
     "output_type": "execute_result"
    },
    {
     "data": {
      "image/png": "[encoded data removed]",
      "text/plain": [
       "<Figure size 432x288 with 1 Axes>"
      ]
     },
     "metadata": {
      "needs_background": "light"
     },
     "output_type": "display_data"
    }
   ],
   "source": [
    "plt.scatter(x=df.Idade_log, y=df.salary_log) #Fica dificil verificar se há alguma correlação entre salario e idade"
   ]
  },
  {
   "cell_type": "code",
   "execution_count": 84,
   "metadata": {},
   "outputs": [
    {
     "data": {
      "text/html": [
       "<div>\n",
       "<style scoped>\n",
       "    .dataframe tbody tr th:only-of-type {\n",
       "        vertical-align: middle;\n",
       "    }\n",
       "\n",
       "    .dataframe tbody tr th {\n",
       "        vertical-align: top;\n",
       "    }\n",
       "\n",
       "    .dataframe thead th {\n",
       "        text-align: right;\n",
       "    }\n",
       "</style>\n",
       "<table border=\"1\" class=\"dataframe\">\n",
       "  <thead>\n",
       "    <tr style=\"text-align: right;\">\n",
       "      <th></th>\n",
       "      <th>salario_mensal</th>\n",
       "      <th>Idade</th>\n",
       "      <th>grau_instrucao</th>\n",
       "      <th>Sexo</th>\n",
       "      <th>raca_cor</th>\n",
       "      <th>tempo_emprego</th>\n",
       "      <th>salary_log</th>\n",
       "      <th>salary_logz</th>\n",
       "      <th>Idade_log</th>\n",
       "      <th>Idade_logz</th>\n",
       "    </tr>\n",
       "  </thead>\n",
       "  <tbody>\n",
       "    <tr>\n",
       "      <th>salario_mensal</th>\n",
       "      <td>1.000000</td>\n",
       "      <td>0.151294</td>\n",
       "      <td>0.184702</td>\n",
       "      <td>-0.042394</td>\n",
       "      <td>-0.077727</td>\n",
       "      <td>0.201733</td>\n",
       "      <td>0.443418</td>\n",
       "      <td>0.443418</td>\n",
       "      <td>0.156489</td>\n",
       "      <td>0.156489</td>\n",
       "    </tr>\n",
       "    <tr>\n",
       "      <th>Idade</th>\n",
       "      <td>0.151294</td>\n",
       "      <td>1.000000</td>\n",
       "      <td>-0.110878</td>\n",
       "      <td>-0.066302</td>\n",
       "      <td>-0.036528</td>\n",
       "      <td>0.276203</td>\n",
       "      <td>0.138125</td>\n",
       "      <td>0.138125</td>\n",
       "      <td>0.983514</td>\n",
       "      <td>0.983514</td>\n",
       "    </tr>\n",
       "    <tr>\n",
       "      <th>grau_instrucao</th>\n",
       "      <td>0.184702</td>\n",
       "      <td>-0.110878</td>\n",
       "      <td>1.000000</td>\n",
       "      <td>0.205090</td>\n",
       "      <td>-0.062680</td>\n",
       "      <td>0.041182</td>\n",
       "      <td>0.110415</td>\n",
       "      <td>0.110415</td>\n",
       "      <td>-0.089976</td>\n",
       "      <td>-0.089976</td>\n",
       "    </tr>\n",
       "    <tr>\n",
       "      <th>Sexo</th>\n",
       "      <td>-0.042394</td>\n",
       "      <td>-0.066302</td>\n",
       "      <td>0.205090</td>\n",
       "      <td>1.000000</td>\n",
       "      <td>-0.059259</td>\n",
       "      <td>0.009666</td>\n",
       "      <td>-0.063652</td>\n",
       "      <td>-0.063652</td>\n",
       "      <td>-0.064082</td>\n",
       "      <td>-0.064082</td>\n",
       "    </tr>\n",
       "    <tr>\n",
       "      <th>raca_cor</th>\n",
       "      <td>-0.077727</td>\n",
       "      <td>-0.036528</td>\n",
       "      <td>-0.062680</td>\n",
       "      <td>-0.059259</td>\n",
       "      <td>1.000000</td>\n",
       "      <td>-0.092636</td>\n",
       "      <td>-0.065860</td>\n",
       "      <td>-0.065860</td>\n",
       "      <td>-0.029238</td>\n",
       "      <td>-0.029238</td>\n",
       "    </tr>\n",
       "    <tr>\n",
       "      <th>tempo_emprego</th>\n",
       "      <td>0.201733</td>\n",
       "      <td>0.276203</td>\n",
       "      <td>0.041182</td>\n",
       "      <td>0.009666</td>\n",
       "      <td>-0.092636</td>\n",
       "      <td>1.000000</td>\n",
       "      <td>0.126529</td>\n",
       "      <td>0.126529</td>\n",
       "      <td>0.252897</td>\n",
       "      <td>0.252897</td>\n",
       "    </tr>\n",
       "    <tr>\n",
       "      <th>salary_log</th>\n",
       "      <td>0.443418</td>\n",
       "      <td>0.138125</td>\n",
       "      <td>0.110415</td>\n",
       "      <td>-0.063652</td>\n",
       "      <td>-0.065860</td>\n",
       "      <td>0.126529</td>\n",
       "      <td>1.000000</td>\n",
       "      <td>1.000000</td>\n",
       "      <td>0.153457</td>\n",
       "      <td>0.153457</td>\n",
       "    </tr>\n",
       "    <tr>\n",
       "      <th>salary_logz</th>\n",
       "      <td>0.443418</td>\n",
       "      <td>0.138125</td>\n",
       "      <td>0.110415</td>\n",
       "      <td>-0.063652</td>\n",
       "      <td>-0.065860</td>\n",
       "      <td>0.126529</td>\n",
       "      <td>1.000000</td>\n",
       "      <td>1.000000</td>\n",
       "      <td>0.153457</td>\n",
       "      <td>0.153457</td>\n",
       "    </tr>\n",
       "    <tr>\n",
       "      <th>Idade_log</th>\n",
       "      <td>0.156489</td>\n",
       "      <td>0.983514</td>\n",
       "      <td>-0.089976</td>\n",
       "      <td>-0.064082</td>\n",
       "      <td>-0.029238</td>\n",
       "      <td>0.252897</td>\n",
       "      <td>0.153457</td>\n",
       "      <td>0.153457</td>\n",
       "      <td>1.000000</td>\n",
       "      <td>1.000000</td>\n",
       "    </tr>\n",
       "    <tr>\n",
       "      <th>Idade_logz</th>\n",
       "      <td>0.156489</td>\n",
       "      <td>0.983514</td>\n",
       "      <td>-0.089976</td>\n",
       "      <td>-0.064082</td>\n",
       "      <td>-0.029238</td>\n",
       "      <td>0.252897</td>\n",
       "      <td>0.153457</td>\n",
       "      <td>0.153457</td>\n",
       "      <td>1.000000</td>\n",
       "      <td>1.000000</td>\n",
       "    </tr>\n",
       "  </tbody>\n",
       "</table>\n",
       "</div>"
      ],
      "text/plain": [
       "                salario_mensal     Idade  grau_instrucao      Sexo  raca_cor  \\\n",
       "salario_mensal        1.000000  0.151294        0.184702 -0.042394 -0.077727   \n",
       "Idade                 0.151294  1.000000       -0.110878 -0.066302 -0.036528   \n",
       "grau_instrucao        0.184702 -0.110878        1.000000  0.205090 -0.062680   \n",
       "Sexo                 -0.042394 -0.066302        0.205090  1.000000 -0.059259   \n",
       "raca_cor             -0.077727 -0.036528       -0.062680 -0.059259  1.000000   \n",
       "tempo_emprego         0.201733  0.276203        0.041182  0.009666 -0.092636   \n",
       "salary_log            0.443418  0.138125        0.110415 -0.063652 -0.065860   \n",
       "salary_logz           0.443418  0.138125        0.110415 -0.063652 -0.065860   \n",
       "Idade_log             0.156489  0.983514       -0.089976 -0.064082 -0.029238   \n",
       "Idade_logz            0.156489  0.983514       -0.089976 -0.064082 -0.029238   \n",
       "\n",
       "                tempo_emprego  salary_log  salary_logz  Idade_log  Idade_logz  \n",
       "salario_mensal       0.201733    0.443418     0.443418   0.156489    0.156489  \n",
       "Idade                0.276203    0.138125     0.138125   0.983514    0.983514  \n",
       "grau_instrucao       0.041182    0.110415     0.110415  -0.089976   -0.089976  \n",
       "Sexo                 0.009666   -0.063652    -0.063652  -0.064082   -0.064082  \n",
       "raca_cor            -0.092636   -0.065860    -0.065860  -0.029238   -0.029238  \n",
       "tempo_emprego        1.000000    0.126529     0.126529   0.252897    0.252897  \n",
       "salary_log           0.126529    1.000000     1.000000   0.153457    0.153457  \n",
       "salary_logz          0.126529    1.000000     1.000000   0.153457    0.153457  \n",
       "Idade_log            0.252897    0.153457     0.153457   1.000000    1.000000  \n",
       "Idade_logz           0.252897    0.153457     0.153457   1.000000    1.000000  "
      ]
     },
     "execution_count": 84,
     "metadata": {},
     "output_type": "execute_result"
    }
   ],
   "source": [
    "df.corr()"
   ]
  },
  {
   "cell_type": "code",
   "execution_count": null,
   "metadata": {},
   "outputs": [],
   "source": []
  },
  {
   "cell_type": "code",
   "execution_count": 85,
   "metadata": {},
   "outputs": [],
   "source": [
    "#Descobrindo a quantidade de salários estatisticamente significativos e acima de 1,96\n",
    "#sal_sig_sup = df[df.salary_logz>1.96].shape[0]/df.salary_logz.shape[0]\n",
    "#df[df['Idade_logz'] > 1.96].shape[0]/"
   ]
  },
  {
   "cell_type": "code",
   "execution_count": 86,
   "metadata": {},
   "outputs": [
    {
     "data": {
      "text/plain": [
       "<matplotlib.axes._subplots.AxesSubplot at 0x1e8b8b96eb8>"
      ]
     },
     "execution_count": 86,
     "metadata": {},
     "output_type": "execute_result"
    },
    {
     "data": {
      "image/png": "[encoded data removed]",
      "text/plain": [
       "<Figure size 432x288 with 1 Axes>"
      ]
     },
     "metadata": {
      "needs_background": "light"
     },
     "output_type": "display_data"
    }
   ],
   "source": [
    "df.Sexo.plot.hist()"
   ]
  },
  {
   "cell_type": "code",
   "execution_count": 87,
   "metadata": {},
   "outputs": [
    {
     "data": {
      "text/plain": [
       "1.4137029678050579"
      ]
     },
     "execution_count": 87,
     "metadata": {},
     "output_type": "execute_result"
    }
   ],
   "source": [
    "df.Sexo.mean()"
   ]
  },
  {
   "cell_type": "code",
   "execution_count": 89,
   "metadata": {},
   "outputs": [
    {
     "name": "stdout",
     "output_type": "stream",
     "text": [
      "média = 1    661563.5\n",
      "2    466812.5\n",
      "Name: Sexo, dtype: float64\n",
      "desvio-padrão = 1    575.136288\n",
      "2    483.121362\n",
      "Name: Sexo, dtype: float64\n",
      "Intervalo de confiança: 1    660413.227424\n",
      "2    465846.257277\n",
      "Name: Sexo, dtype: float64 <--> 1    662713.772576\n",
      "2    467778.742723\n",
      "Name: Sexo, dtype: float64\n"
     ]
    }
   ],
   "source": [
    "# identificando os dados\n",
    "n=df.Sexo.value_counts()\n",
    "p=0.5\n",
    "\n",
    "\n",
    "# Calculando a média:\n",
    "media = n*(1-p)\n",
    "print('média =', media)\n",
    "\n",
    "# Cálculo do desvio-padrão pela variância ( Sigma/n**0.5 ) ** 2 = p * ( 1-p )\n",
    "std_amostral = ( n * p*( 1-p ) ) ** 0.5\n",
    "print('desvio-padrão =', std_amostral)\n",
    "\n",
    "# calculando e imprimindo o intervalo de confiança\n",
    "int_inferior = media - 2*std_amostral\n",
    "int_superior = media + 2*std_amostral\n",
    "print('Intervalo de confiança:', int_inferior, '<-->', int_superior)\n"
   ]
  },
  {
   "cell_type": "code",
   "execution_count": 92,
   "metadata": {},
   "outputs": [
    {
     "data": {
      "text/plain": [
       "1.4137029678050579"
      ]
     },
     "execution_count": 92,
     "metadata": {},
     "output_type": "execute_result"
    }
   ],
   "source": [
    "df.Sexo.mean()"
   ]
  },
  {
   "cell_type": "code",
   "execution_count": 93,
   "metadata": {},
   "outputs": [
    {
     "data": {
      "text/plain": [
       "0     1\n",
       "1     1\n",
       "2     1\n",
       "3     1\n",
       "4     1\n",
       "5     1\n",
       "6     1\n",
       "7     2\n",
       "8     2\n",
       "9     2\n",
       "10    2\n",
       "11    1\n",
       "12    1\n",
       "13    1\n",
       "14    1\n",
       "15    1\n",
       "16    1\n",
       "17    1\n",
       "18    1\n",
       "19    1\n",
       "20    1\n",
       "21    1\n",
       "22    2\n",
       "23    1\n",
       "24    1\n",
       "25    1\n",
       "26    1\n",
       "27    1\n",
       "28    1\n",
       "29    1\n",
       "     ..\n",
       "70    2\n",
       "71    2\n",
       "72    1\n",
       "73    1\n",
       "74    1\n",
       "75    1\n",
       "76    2\n",
       "77    2\n",
       "78    2\n",
       "79    2\n",
       "80    1\n",
       "81    1\n",
       "82    2\n",
       "83    2\n",
       "84    1\n",
       "85    2\n",
       "86    1\n",
       "87    1\n",
       "88    1\n",
       "89    1\n",
       "90    1\n",
       "91    1\n",
       "92    1\n",
       "93    2\n",
       "94    1\n",
       "95    1\n",
       "96    2\n",
       "97    2\n",
       "98    1\n",
       "99    1\n",
       "Name: Sexo, Length: 100, dtype: int64"
      ]
     },
     "execution_count": 93,
     "metadata": {},
     "output_type": "execute_result"
    }
   ],
   "source": [
    "df.Sexo.head(100)"
   ]
  },
  {
   "cell_type": "code",
   "execution_count": 238,
   "metadata": {},
   "outputs": [
    {
     "data": {
      "text/plain": [
       "' Queremos testar a seguinte hipótese: Dentro da base queremos testar se as Mulheres entre 18-24 anos ganham\\nmaior salário mensal que os homens da mesma faixa etária.'"
      ]
     },
     "execution_count": 238,
     "metadata": {},
     "output_type": "execute_result"
    }
   ],
   "source": [
    "\n",
    "\"\"\" Queremos testar a seguinte hipótese: Dentro da base queremos testar se as Mulheres entre 18-24 anos ganham\n",
    "maior salário mensal que os homens da mesma faixa etária.\"\"\""
   ]
  },
  {
   "cell_type": "code",
   "execution_count": 188,
   "metadata": {},
   "outputs": [],
   "source": [
    "#Para avaliar os homens entre 18 e 24 anos, começamos criando um novo dataframe utilizando uma mascará do DataFrame principal.\n",
    "filter = ((df.Idade > 17) & (df.Idade < 25) & (df.Sexo == 1))\n",
    "df_homem = df.loc[filter]"
   ]
  },
  {
   "cell_type": "code",
   "execution_count": 189,
   "metadata": {},
   "outputs": [
    {
     "data": {
      "text/html": [
       "<div>\n",
       "<style scoped>\n",
       "    .dataframe tbody tr th:only-of-type {\n",
       "        vertical-align: middle;\n",
       "    }\n",
       "\n",
       "    .dataframe tbody tr th {\n",
       "        vertical-align: top;\n",
       "    }\n",
       "\n",
       "    .dataframe thead th {\n",
       "        text-align: right;\n",
       "    }\n",
       "</style>\n",
       "<table border=\"1\" class=\"dataframe\">\n",
       "  <thead>\n",
       "    <tr style=\"text-align: right;\">\n",
       "      <th></th>\n",
       "      <th>salario_mensal</th>\n",
       "      <th>Idade</th>\n",
       "      <th>grau_instrucao</th>\n",
       "      <th>Sexo</th>\n",
       "      <th>raca_cor</th>\n",
       "      <th>tempo_emprego</th>\n",
       "      <th>salary_log</th>\n",
       "      <th>salary_logz</th>\n",
       "      <th>Idade_log</th>\n",
       "      <th>Idade_logz</th>\n",
       "    </tr>\n",
       "  </thead>\n",
       "  <tbody>\n",
       "    <tr>\n",
       "      <th>0</th>\n",
       "      <td>954.0</td>\n",
       "      <td>24</td>\n",
       "      <td>6</td>\n",
       "      <td>1</td>\n",
       "      <td>8</td>\n",
       "      <td>0.0</td>\n",
       "      <td>6.861711</td>\n",
       "      <td>-0.338373</td>\n",
       "      <td>3.178054</td>\n",
       "      <td>-0.734573</td>\n",
       "    </tr>\n",
       "    <tr>\n",
       "      <th>6</th>\n",
       "      <td>0.0</td>\n",
       "      <td>22</td>\n",
       "      <td>2</td>\n",
       "      <td>1</td>\n",
       "      <td>8</td>\n",
       "      <td>0.0</td>\n",
       "      <td>0.000000</td>\n",
       "      <td>-8.108356</td>\n",
       "      <td>3.091042</td>\n",
       "      <td>-0.998190</td>\n",
       "    </tr>\n",
       "    <tr>\n",
       "      <th>11</th>\n",
       "      <td>1061.0</td>\n",
       "      <td>22</td>\n",
       "      <td>7</td>\n",
       "      <td>1</td>\n",
       "      <td>8</td>\n",
       "      <td>0.0</td>\n",
       "      <td>6.967909</td>\n",
       "      <td>-0.218118</td>\n",
       "      <td>3.091042</td>\n",
       "      <td>-0.998190</td>\n",
       "    </tr>\n",
       "    <tr>\n",
       "      <th>13</th>\n",
       "      <td>1061.0</td>\n",
       "      <td>20</td>\n",
       "      <td>6</td>\n",
       "      <td>1</td>\n",
       "      <td>2</td>\n",
       "      <td>0.0</td>\n",
       "      <td>6.967909</td>\n",
       "      <td>-0.218118</td>\n",
       "      <td>2.995732</td>\n",
       "      <td>-1.286949</td>\n",
       "    </tr>\n",
       "    <tr>\n",
       "      <th>16</th>\n",
       "      <td>1061.0</td>\n",
       "      <td>22</td>\n",
       "      <td>5</td>\n",
       "      <td>1</td>\n",
       "      <td>9</td>\n",
       "      <td>0.0</td>\n",
       "      <td>6.967909</td>\n",
       "      <td>-0.218118</td>\n",
       "      <td>3.091042</td>\n",
       "      <td>-0.998190</td>\n",
       "    </tr>\n",
       "  </tbody>\n",
       "</table>\n",
       "</div>"
      ],
      "text/plain": [
       "    salario_mensal  Idade  grau_instrucao  Sexo  raca_cor  tempo_emprego  \\\n",
       "0            954.0     24               6     1         8            0.0   \n",
       "6              0.0     22               2     1         8            0.0   \n",
       "11          1061.0     22               7     1         8            0.0   \n",
       "13          1061.0     20               6     1         2            0.0   \n",
       "16          1061.0     22               5     1         9            0.0   \n",
       "\n",
       "    salary_log  salary_logz  Idade_log  Idade_logz  \n",
       "0     6.861711    -0.338373   3.178054   -0.734573  \n",
       "6     0.000000    -8.108356   3.091042   -0.998190  \n",
       "11    6.967909    -0.218118   3.091042   -0.998190  \n",
       "13    6.967909    -0.218118   2.995732   -1.286949  \n",
       "16    6.967909    -0.218118   3.091042   -0.998190  "
      ]
     },
     "execution_count": 189,
     "metadata": {},
     "output_type": "execute_result"
    }
   ],
   "source": [
    "df_homem.head() #Em nossa base agora só aparece Sexo = 1, que quer dizer masculino"
   ]
  },
  {
   "cell_type": "code",
   "execution_count": 190,
   "metadata": {},
   "outputs": [
    {
     "name": "stdout",
     "output_type": "stream",
     "text": [
      "<class 'pandas.core.frame.DataFrame'>\n",
      "Int64Index: 338734 entries, 0 to 2256750\n",
      "Data columns (total 10 columns):\n",
      "salario_mensal    338734 non-null float64\n",
      "Idade             338734 non-null int64\n",
      "grau_instrucao    338734 non-null int64\n",
      "Sexo              338734 non-null int64\n",
      "raca_cor          338734 non-null int64\n",
      "tempo_emprego     338734 non-null float64\n",
      "salary_log        338734 non-null float64\n",
      "salary_logz       338734 non-null float64\n",
      "Idade_log         338734 non-null float64\n",
      "Idade_logz        338734 non-null float64\n",
      "dtypes: float64(6), int64(4)\n",
      "memory usage: 28.4 MB\n"
     ]
    }
   ],
   "source": [
    "df_homem.info() # Podemos ver que não há valores nulos."
   ]
  },
  {
   "cell_type": "code",
   "execution_count": 191,
   "metadata": {},
   "outputs": [],
   "source": [
    "df_homem['salary_logz'] = (df_homem.salary_log - df_homem.salary_log.mean())/df_homem.salary_log.std()\n",
    "#Padronizamos novamente"
   ]
  },
  {
   "cell_type": "code",
   "execution_count": 192,
   "metadata": {},
   "outputs": [
    {
     "data": {
      "text/html": [
       "<div>\n",
       "<style scoped>\n",
       "    .dataframe tbody tr th:only-of-type {\n",
       "        vertical-align: middle;\n",
       "    }\n",
       "\n",
       "    .dataframe tbody tr th {\n",
       "        vertical-align: top;\n",
       "    }\n",
       "\n",
       "    .dataframe thead th {\n",
       "        text-align: right;\n",
       "    }\n",
       "</style>\n",
       "<table border=\"1\" class=\"dataframe\">\n",
       "  <thead>\n",
       "    <tr style=\"text-align: right;\">\n",
       "      <th></th>\n",
       "      <th>salario_mensal</th>\n",
       "      <th>Idade</th>\n",
       "      <th>grau_instrucao</th>\n",
       "      <th>Sexo</th>\n",
       "      <th>raca_cor</th>\n",
       "      <th>tempo_emprego</th>\n",
       "      <th>salary_log</th>\n",
       "      <th>salary_logz</th>\n",
       "      <th>Idade_log</th>\n",
       "      <th>Idade_logz</th>\n",
       "    </tr>\n",
       "  </thead>\n",
       "  <tbody>\n",
       "    <tr>\n",
       "      <th>0</th>\n",
       "      <td>954.0</td>\n",
       "      <td>24</td>\n",
       "      <td>6</td>\n",
       "      <td>1</td>\n",
       "      <td>8</td>\n",
       "      <td>0.0</td>\n",
       "      <td>6.861711</td>\n",
       "      <td>-0.201818</td>\n",
       "      <td>3.178054</td>\n",
       "      <td>-0.734573</td>\n",
       "    </tr>\n",
       "    <tr>\n",
       "      <th>6</th>\n",
       "      <td>0.0</td>\n",
       "      <td>22</td>\n",
       "      <td>2</td>\n",
       "      <td>1</td>\n",
       "      <td>8</td>\n",
       "      <td>0.0</td>\n",
       "      <td>0.000000</td>\n",
       "      <td>-9.174464</td>\n",
       "      <td>3.091042</td>\n",
       "      <td>-0.998190</td>\n",
       "    </tr>\n",
       "    <tr>\n",
       "      <th>11</th>\n",
       "      <td>1061.0</td>\n",
       "      <td>22</td>\n",
       "      <td>7</td>\n",
       "      <td>1</td>\n",
       "      <td>8</td>\n",
       "      <td>0.0</td>\n",
       "      <td>6.967909</td>\n",
       "      <td>-0.062949</td>\n",
       "      <td>3.091042</td>\n",
       "      <td>-0.998190</td>\n",
       "    </tr>\n",
       "    <tr>\n",
       "      <th>13</th>\n",
       "      <td>1061.0</td>\n",
       "      <td>20</td>\n",
       "      <td>6</td>\n",
       "      <td>1</td>\n",
       "      <td>2</td>\n",
       "      <td>0.0</td>\n",
       "      <td>6.967909</td>\n",
       "      <td>-0.062949</td>\n",
       "      <td>2.995732</td>\n",
       "      <td>-1.286949</td>\n",
       "    </tr>\n",
       "    <tr>\n",
       "      <th>16</th>\n",
       "      <td>1061.0</td>\n",
       "      <td>22</td>\n",
       "      <td>5</td>\n",
       "      <td>1</td>\n",
       "      <td>9</td>\n",
       "      <td>0.0</td>\n",
       "      <td>6.967909</td>\n",
       "      <td>-0.062949</td>\n",
       "      <td>3.091042</td>\n",
       "      <td>-0.998190</td>\n",
       "    </tr>\n",
       "    <tr>\n",
       "      <th>17</th>\n",
       "      <td>1700.0</td>\n",
       "      <td>18</td>\n",
       "      <td>5</td>\n",
       "      <td>1</td>\n",
       "      <td>8</td>\n",
       "      <td>0.0</td>\n",
       "      <td>7.438972</td>\n",
       "      <td>0.553031</td>\n",
       "      <td>2.890372</td>\n",
       "      <td>-1.606157</td>\n",
       "    </tr>\n",
       "    <tr>\n",
       "      <th>18</th>\n",
       "      <td>1026.0</td>\n",
       "      <td>23</td>\n",
       "      <td>4</td>\n",
       "      <td>1</td>\n",
       "      <td>2</td>\n",
       "      <td>0.0</td>\n",
       "      <td>6.934397</td>\n",
       "      <td>-0.106771</td>\n",
       "      <td>3.135494</td>\n",
       "      <td>-0.863515</td>\n",
       "    </tr>\n",
       "    <tr>\n",
       "      <th>25</th>\n",
       "      <td>1200.0</td>\n",
       "      <td>18</td>\n",
       "      <td>5</td>\n",
       "      <td>1</td>\n",
       "      <td>8</td>\n",
       "      <td>0.0</td>\n",
       "      <td>7.090910</td>\n",
       "      <td>0.097891</td>\n",
       "      <td>2.890372</td>\n",
       "      <td>-1.606157</td>\n",
       "    </tr>\n",
       "    <tr>\n",
       "      <th>26</th>\n",
       "      <td>991.0</td>\n",
       "      <td>24</td>\n",
       "      <td>6</td>\n",
       "      <td>1</td>\n",
       "      <td>8</td>\n",
       "      <td>0.0</td>\n",
       "      <td>6.899723</td>\n",
       "      <td>-0.152112</td>\n",
       "      <td>3.178054</td>\n",
       "      <td>-0.734573</td>\n",
       "    </tr>\n",
       "    <tr>\n",
       "      <th>27</th>\n",
       "      <td>1061.0</td>\n",
       "      <td>21</td>\n",
       "      <td>7</td>\n",
       "      <td>1</td>\n",
       "      <td>8</td>\n",
       "      <td>0.0</td>\n",
       "      <td>6.967909</td>\n",
       "      <td>-0.062949</td>\n",
       "      <td>3.044522</td>\n",
       "      <td>-1.139130</td>\n",
       "    </tr>\n",
       "  </tbody>\n",
       "</table>\n",
       "</div>"
      ],
      "text/plain": [
       "    salario_mensal  Idade  grau_instrucao  Sexo  raca_cor  tempo_emprego  \\\n",
       "0            954.0     24               6     1         8            0.0   \n",
       "6              0.0     22               2     1         8            0.0   \n",
       "11          1061.0     22               7     1         8            0.0   \n",
       "13          1061.0     20               6     1         2            0.0   \n",
       "16          1061.0     22               5     1         9            0.0   \n",
       "17          1700.0     18               5     1         8            0.0   \n",
       "18          1026.0     23               4     1         2            0.0   \n",
       "25          1200.0     18               5     1         8            0.0   \n",
       "26           991.0     24               6     1         8            0.0   \n",
       "27          1061.0     21               7     1         8            0.0   \n",
       "\n",
       "    salary_log  salary_logz  Idade_log  Idade_logz  \n",
       "0     6.861711    -0.201818   3.178054   -0.734573  \n",
       "6     0.000000    -9.174464   3.091042   -0.998190  \n",
       "11    6.967909    -0.062949   3.091042   -0.998190  \n",
       "13    6.967909    -0.062949   2.995732   -1.286949  \n",
       "16    6.967909    -0.062949   3.091042   -0.998190  \n",
       "17    7.438972     0.553031   2.890372   -1.606157  \n",
       "18    6.934397    -0.106771   3.135494   -0.863515  \n",
       "25    7.090910     0.097891   2.890372   -1.606157  \n",
       "26    6.899723    -0.152112   3.178054   -0.734573  \n",
       "27    6.967909    -0.062949   3.044522   -1.139130  "
      ]
     },
     "execution_count": 192,
     "metadata": {},
     "output_type": "execute_result"
    }
   ],
   "source": [
    "df_homem.head(10)"
   ]
  },
  {
   "cell_type": "code",
   "execution_count": 193,
   "metadata": {},
   "outputs": [
    {
     "data": {
      "text/plain": [
       "<matplotlib.axes._subplots.AxesSubplot at 0x1e8b94feb38>"
      ]
     },
     "execution_count": 193,
     "metadata": {},
     "output_type": "execute_result"
    },
    {
     "data": {
      "image/png": "[encoded data removed]",
      "text/plain": [
       "<Figure size 432x288 with 1 Axes>"
      ]
     },
     "metadata": {
      "needs_background": "light"
     },
     "output_type": "display_data"
    }
   ],
   "source": [
    "df_homem.salary_logz.plot.hist(bins=50) #Gráfico Padronizado e normalizado"
   ]
  },
  {
   "cell_type": "code",
   "execution_count": null,
   "metadata": {},
   "outputs": [],
   "source": []
  },
  {
   "cell_type": "code",
   "execution_count": 195,
   "metadata": {},
   "outputs": [
    {
     "data": {
      "text/plain": [
       "(0.38281238079071045, 0.0)"
      ]
     },
     "execution_count": 195,
     "metadata": {},
     "output_type": "execute_result"
    }
   ],
   "source": [
    "stats.shapiro(df_homem.salary_logz) #Teste de Saphiro para verificar a normalidade"
   ]
  },
  {
   "cell_type": "code",
   "execution_count": null,
   "metadata": {},
   "outputs": [],
   "source": []
  },
  {
   "cell_type": "code",
   "execution_count": 239,
   "metadata": {},
   "outputs": [
    {
     "data": {
      "text/plain": [
       "(-2.738437974291378e-12, 0.9999999999997862)"
      ]
     },
     "execution_count": 239,
     "metadata": {},
     "output_type": "execute_result"
    }
   ],
   "source": [
    "x = df_homem.salary_logz\n",
    "mu = x.mean()\n",
    "std = df_homem.salary_logz.std()\n",
    "mu, std"
   ]
  },
  {
   "cell_type": "code",
   "execution_count": 240,
   "metadata": {},
   "outputs": [
    {
     "data": {
      "text/plain": [
       "(-1.9599639845423735, 1.9599639845368966)"
      ]
     },
     "execution_count": 240,
     "metadata": {},
     "output_type": "execute_result"
    }
   ],
   "source": [
    "h_limite_inferior = scipy.stats.norm.interval (alpha=0.95, loc=mu, scale=std)[0]\n",
    "h_limite_superior = scipy.stats.norm.interval (alpha=0.95, loc=mu, scale=std)[1]\n",
    "\n",
    "h_limite_inferior, h_limite_superior #Verificando os limites, verificamos que nossa padronização deu certo."
   ]
  },
  {
   "cell_type": "code",
   "execution_count": 241,
   "metadata": {},
   "outputs": [],
   "source": [
    "#Vamos trabalhar da mesma forma com os dados das mulheres. Primeiro, criamos o novo DataFrame\n",
    "filter2 = ((df.Idade > 17) & (df.Idade < 25) & (df.Sexo == 2))\n",
    "df_mulher = df.loc[filter2]"
   ]
  },
  {
   "cell_type": "code",
   "execution_count": 242,
   "metadata": {},
   "outputs": [
    {
     "data": {
      "text/html": [
       "<div>\n",
       "<style scoped>\n",
       "    .dataframe tbody tr th:only-of-type {\n",
       "        vertical-align: middle;\n",
       "    }\n",
       "\n",
       "    .dataframe tbody tr th {\n",
       "        vertical-align: top;\n",
       "    }\n",
       "\n",
       "    .dataframe thead th {\n",
       "        text-align: right;\n",
       "    }\n",
       "</style>\n",
       "<table border=\"1\" class=\"dataframe\">\n",
       "  <thead>\n",
       "    <tr style=\"text-align: right;\">\n",
       "      <th></th>\n",
       "      <th>salario_mensal</th>\n",
       "      <th>Idade</th>\n",
       "      <th>grau_instrucao</th>\n",
       "      <th>Sexo</th>\n",
       "      <th>raca_cor</th>\n",
       "      <th>tempo_emprego</th>\n",
       "      <th>salary_log</th>\n",
       "      <th>salary_logz</th>\n",
       "      <th>Idade_log</th>\n",
       "      <th>Idade_logz</th>\n",
       "    </tr>\n",
       "  </thead>\n",
       "  <tbody>\n",
       "    <tr>\n",
       "      <th>39</th>\n",
       "      <td>1179.0</td>\n",
       "      <td>20</td>\n",
       "      <td>7</td>\n",
       "      <td>2</td>\n",
       "      <td>2</td>\n",
       "      <td>0.0</td>\n",
       "      <td>7.073270</td>\n",
       "      <td>-0.098812</td>\n",
       "      <td>2.995732</td>\n",
       "      <td>-1.286949</td>\n",
       "    </tr>\n",
       "    <tr>\n",
       "      <th>40</th>\n",
       "      <td>2898.0</td>\n",
       "      <td>24</td>\n",
       "      <td>7</td>\n",
       "      <td>2</td>\n",
       "      <td>8</td>\n",
       "      <td>0.0</td>\n",
       "      <td>7.972121</td>\n",
       "      <td>0.919019</td>\n",
       "      <td>3.178054</td>\n",
       "      <td>-0.734573</td>\n",
       "    </tr>\n",
       "    <tr>\n",
       "      <th>60</th>\n",
       "      <td>1061.0</td>\n",
       "      <td>20</td>\n",
       "      <td>6</td>\n",
       "      <td>2</td>\n",
       "      <td>8</td>\n",
       "      <td>0.0</td>\n",
       "      <td>6.967909</td>\n",
       "      <td>-0.218118</td>\n",
       "      <td>2.995732</td>\n",
       "      <td>-1.286949</td>\n",
       "    </tr>\n",
       "    <tr>\n",
       "      <th>69</th>\n",
       "      <td>531.0</td>\n",
       "      <td>20</td>\n",
       "      <td>6</td>\n",
       "      <td>2</td>\n",
       "      <td>2</td>\n",
       "      <td>0.0</td>\n",
       "      <td>6.276643</td>\n",
       "      <td>-1.000886</td>\n",
       "      <td>2.995732</td>\n",
       "      <td>-1.286949</td>\n",
       "    </tr>\n",
       "    <tr>\n",
       "      <th>77</th>\n",
       "      <td>1061.0</td>\n",
       "      <td>21</td>\n",
       "      <td>4</td>\n",
       "      <td>2</td>\n",
       "      <td>8</td>\n",
       "      <td>0.0</td>\n",
       "      <td>6.967909</td>\n",
       "      <td>-0.218118</td>\n",
       "      <td>3.044522</td>\n",
       "      <td>-1.139130</td>\n",
       "    </tr>\n",
       "  </tbody>\n",
       "</table>\n",
       "</div>"
      ],
      "text/plain": [
       "    salario_mensal  Idade  grau_instrucao  Sexo  raca_cor  tempo_emprego  \\\n",
       "39          1179.0     20               7     2         2            0.0   \n",
       "40          2898.0     24               7     2         8            0.0   \n",
       "60          1061.0     20               6     2         8            0.0   \n",
       "69           531.0     20               6     2         2            0.0   \n",
       "77          1061.0     21               4     2         8            0.0   \n",
       "\n",
       "    salary_log  salary_logz  Idade_log  Idade_logz  \n",
       "39    7.073270    -0.098812   2.995732   -1.286949  \n",
       "40    7.972121     0.919019   3.178054   -0.734573  \n",
       "60    6.967909    -0.218118   2.995732   -1.286949  \n",
       "69    6.276643    -1.000886   2.995732   -1.286949  \n",
       "77    6.967909    -0.218118   3.044522   -1.139130  "
      ]
     },
     "execution_count": 242,
     "metadata": {},
     "output_type": "execute_result"
    }
   ],
   "source": [
    "df_mulher.head() #Somente Sexo = 2, ou seja, somente sexo feminino."
   ]
  },
  {
   "cell_type": "code",
   "execution_count": 245,
   "metadata": {},
   "outputs": [],
   "source": [
    "df_mulher['salary_logz'] = (df_mulher.salary_log - df_mulher.salary_log.mean())/df_mulher.salary_log.std()"
   ]
  },
  {
   "cell_type": "code",
   "execution_count": 246,
   "metadata": {},
   "outputs": [
    {
     "data": {
      "text/plain": [
       "<matplotlib.axes._subplots.AxesSubplot at 0x1e8bd2c4cc0>"
      ]
     },
     "execution_count": 246,
     "metadata": {},
     "output_type": "execute_result"
    },
    {
     "data": {
      "image/png": "[encoded data removed]",
      "text/plain": [
       "<Figure size 432x288 with 1 Axes>"
      ]
     },
     "metadata": {
      "needs_background": "light"
     },
     "output_type": "display_data"
    }
   ],
   "source": [
    "df_mulher.salary_logz.plot.hist(bins=50)"
   ]
  },
  {
   "cell_type": "code",
   "execution_count": 247,
   "metadata": {},
   "outputs": [
    {
     "data": {
      "text/plain": [
       "(0.3814220428466797, 0.0)"
      ]
     },
     "execution_count": 247,
     "metadata": {},
     "output_type": "execute_result"
    }
   ],
   "source": [
    "stats.shapiro(df_mulher['salary_logz'])"
   ]
  },
  {
   "cell_type": "code",
   "execution_count": 248,
   "metadata": {},
   "outputs": [
    {
     "data": {
      "text/plain": [
       "(-8.792944022229647e-13, 1.0000000000001015)"
      ]
     },
     "execution_count": 248,
     "metadata": {},
     "output_type": "execute_result"
    }
   ],
   "source": [
    "x1 = df_mulher.salary_logz\n",
    "mu1 = x1.mean()\n",
    "std1 = df_mulher.salary_logz.std()\n",
    "mu1, std1"
   ]
  },
  {
   "cell_type": "code",
   "execution_count": 249,
   "metadata": {},
   "outputs": [
    {
     "data": {
      "text/plain": [
       "(-1.9599639845411323, 1.9599639845393737)"
      ]
     },
     "execution_count": 249,
     "metadata": {},
     "output_type": "execute_result"
    }
   ],
   "source": [
    "m_limite_inferior = scipy.stats.norm.interval (alpha=0.95, loc=mu1, scale=std1)[0]\n",
    "m_limite_superior = scipy.stats.norm.interval (alpha=0.95, loc=mu1, scale=std1)[1]\n",
    "\n",
    "m_limite_inferior, m_limite_superior #De mesma forma, nossa padronização deu certo"
   ]
  },
  {
   "cell_type": "code",
   "execution_count": 253,
   "metadata": {},
   "outputs": [
    {
     "data": {
      "text/plain": [
       "(5.5171923388026505, 8.514904964482833)"
      ]
     },
     "execution_count": 253,
     "metadata": {},
     "output_type": "execute_result"
    }
   ],
   "source": [
    "#Para plotar o gráfico, voltaremos um passo adiante e trabalharemos com o salário mensal em forma de log,\n",
    "# Mas não padronizado\n",
    "\n",
    "x = df_homem.salary_log\n",
    "mu = x.mean()\n",
    "std = df_homem.salary_log.std()\n",
    "mu, std\n",
    "\n",
    "h_limite_inferior = scipy.stats.norm.interval (alpha=0.95, loc=mu, scale=std)[0]\n",
    "h_limite_superior = scipy.stats.norm.interval (alpha=0.95, loc=mu, scale=std)[1]\n",
    "\n",
    "h_limite_inferior, h_limite_superior"
   ]
  },
  {
   "cell_type": "code",
   "execution_count": 254,
   "metadata": {},
   "outputs": [
    {
     "data": {
      "text/plain": [
       "(5.419035781392624, 8.520974839282143)"
      ]
     },
     "execution_count": 254,
     "metadata": {},
     "output_type": "execute_result"
    }
   ],
   "source": [
    "x1 = df_mulher.salary_log\n",
    "mu1 = x1.mean()\n",
    "std1 = df_mulher.salary_log.std()\n",
    "mu1, std1\n",
    "\n",
    "m_limite_inferior = scipy.stats.norm.interval (alpha=0.95, loc=mu1, scale=std1)[0]\n",
    "m_limite_superior = scipy.stats.norm.interval (alpha=0.95, loc=mu1, scale=std1)[1]\n",
    "\n",
    "m_limite_inferior, m_limite_superior"
   ]
  },
  {
   "cell_type": "code",
   "execution_count": null,
   "metadata": {},
   "outputs": [],
   "source": [
    "#Verificamos que na escala logaritimica, os limites inferiores e superiores são muito parecidos"
   ]
  },
  {
   "cell_type": "code",
   "execution_count": 258,
   "metadata": {},
   "outputs": [
    {
     "data": {
      "text/plain": [
       "(7.016048651642742, 6.970005310337384)"
      ]
     },
     "execution_count": 258,
     "metadata": {},
     "output_type": "execute_result"
    }
   ],
   "source": [
    "df_homem.salary_log.mean(), df_mulher.salary_log.mean() #Verificamos que na escala logaritimica, as médias são parecidas"
   ]
  },
  {
   "cell_type": "code",
   "execution_count": 256,
   "metadata": {},
   "outputs": [
    {
     "data": {
      "image/png": "[encoded data removed]",
      "text/plain": [
       "<Figure size 1440x720 with 1 Axes>"
      ]
     },
     "metadata": {
      "needs_background": "light"
     },
     "output_type": "display_data"
    }
   ],
   "source": [
    "#PLOTA TODOS OS GRAFICOS :D\n",
    "\n",
    "fig, ax = plt.subplots(1, 1, figsize = (20,10)) #cria a matriz de plotagem com 6 graficos\n",
    "\n",
    "\n",
    "#plota a curva de densidade do salario mensal\n",
    "x = df_homem.salary_log.sort_values()\n",
    "# calculando a média\n",
    "mu = x.mean()\n",
    "# calculando o desvio padrão populacional\n",
    "sigma = x.std()#/len(df.salary)\n",
    "# plotando o gráfico com os valores de x e os valores normais da densidade de probabilidade\n",
    "ax.plot(x, stats.norm.pdf(x, mu, std))\n",
    "ax.set(xlabel='Salário Mensal', ylabel='Frequência')\n",
    "\n",
    "# x coordinates for the lines\n",
    "xcoords = [round(h_limite_inferior,3),round(mu,3),round(h_limite_superior,3)]\n",
    "# colors for the lines\n",
    "colors = ['r','k','r','b']\n",
    "\n",
    "for xc,c in zip(xcoords,colors):\n",
    "    plt.axvline(x=xc, label='line at x = {}'.format(xc), c=c)\n",
    "\n",
    "#plota a curva de densidade do salario mensal\n",
    "x1 = df_mulher.salary_log.sort_values()\n",
    "# calculando a média\n",
    "mu1 = x1.mean()\n",
    "# calculando o desvio padrão populacional\n",
    "sigma1 = x1.std()#/len(df.salary)\n",
    "# plotando o gráfico com os valores de x e os valores normais da densidade de probabilidade\n",
    "ax.plot(x, stats.norm.pdf(x, mu1, std1))\n",
    "ax.set_title(\"Distribuição Homem x Mulher\")\n",
    "\n",
    "# x coordinates for the lines\n",
    "xcoords = [round(m_limite_inferior,3),round(mu1,3),round(m_limite_superior,3)]\n",
    "# colors for the lines\n",
    "colors = ['b','g','b','k']\n",
    "\n",
    "for xc,c in zip(xcoords,colors):\n",
    "    plt.axvline(x=xc, label='line at x = {}'.format(xc), c=c)\n",
    "\n",
    "plt.legend()\n",
    "plt.show()"
   ]
  },
  {
   "cell_type": "code",
   "execution_count": 259,
   "metadata": {},
   "outputs": [
    {
     "data": {
      "text/plain": [
       "'Considerações: Homens e mulheres possuem um desvio padrão similar. Plotando um gráfico sobre o outro,\\nverificamos que não há diferença significativa em seus limites superiores para inferirmos que mulheres \\nganham mais que os homens.\\n'"
      ]
     },
     "execution_count": 259,
     "metadata": {},
     "output_type": "execute_result"
    }
   ],
   "source": [
    "\"\"\"Considerações: Homens e mulheres possuem um desvio padrão similar. Plotando um gráfico sobre o outro,\n",
    "verificamos que não há diferença significativa em seus limites superiores para inferirmos que mulheres \n",
    "ganham mais que os homens.\n",
    "\"\"\""
   ]
  },
  {
   "cell_type": "code",
   "execution_count": null,
   "metadata": {},
   "outputs": [],
   "source": []
  }
 ],
 "metadata": {
  "kernelspec": {
   "display_name": "Python 3",
   "language": "python",
   "name": "python3"
  },
  "language_info": {
   "codemirror_mode": {
    "name": "ipython",
    "version": 3
   },
   "file_extension": ".py",
   "mimetype": "text/x-python",
   "name": "python",
   "nbconvert_exporter": "python",
   "pygments_lexer": "ipython3",
   "version": "3.7.3"
  }
 },
 "nbformat": 4,
 "nbformat_minor": 4
}
